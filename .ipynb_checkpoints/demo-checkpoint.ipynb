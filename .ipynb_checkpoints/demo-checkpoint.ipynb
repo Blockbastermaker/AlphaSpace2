{
 "cells": [
  {
   "cell_type": "markdown",
   "metadata": {
    "collapsed": true
   },
   "source": [
    "First we import the AlphaSpace AS module"
   ]
  },
  {
   "cell_type": "code",
   "execution_count": 1,
   "metadata": {
    "collapsed": true
   },
   "outputs": [],
   "source": [
    "from AS import *"
   ]
  },
  {
   "cell_type": "markdown",
   "metadata": {},
   "source": [
    "Then we set the path for our ligand and protein file"
   ]
  },
  {
   "cell_type": "code",
   "execution_count": 2,
   "metadata": {
    "collapsed": true
   },
   "outputs": [],
   "source": [
    "test_ligand_path = '/Users/haotian/Dropbox/pycharm_project/AlphaSpace/TestPDB/lig.pdb'\n",
    "test_protein_path = '/Users/haotian/Dropbox/pycharm_project/AlphaSpace/TestPDB/prot.pdb'"
   ]
  },
  {
   "cell_type": "markdown",
   "metadata": {},
   "source": [
    "We can load the file by calling the mdtraj module, which is already imported with the AS"
   ]
  },
  {
   "cell_type": "code",
   "execution_count": 3,
   "metadata": {
    "collapsed": true
   },
   "outputs": [],
   "source": [
    "lig = mdtraj.load(test_ligand_path)\n",
    "prot = mdtraj.load(test_protein_path)"
   ]
  },
  {
   "cell_type": "markdown",
   "metadata": {},
   "source": [
    "Now we can initialize the AS_Session class, this will be the container for the current session, like the name suggests"
   ]
  },
  {
   "cell_type": "code",
   "execution_count": 4,
   "metadata": {
    "collapsed": true
   },
   "outputs": [],
   "source": [
    "session = AS_Session(prot,lig)"
   ]
  },
  {
   "cell_type": "markdown",
   "metadata": {},
   "source": [
    "After we have the information we need, we can call the run() method to run the main analysis."
   ]
  },
  {
   "cell_type": "code",
   "execution_count": 5,
   "metadata": {
    "collapsed": true
   },
   "outputs": [],
   "source": [
    "session.run()"
   ]
  },
  {
   "cell_type": "markdown",
   "metadata": {},
   "source": [
    "Now all the information we need should be obtained and stored in the session object.\n",
    "We can visualize the complex by calling the view_snapshot() command"
   ]
  },
  {
   "cell_type": "code",
   "execution_count": 7,
   "metadata": {},
   "outputs": [
    {
     "data": {
      "application/vnd.jupyter.widget-view+json": {
       "model_id": "14459f9e06844bdab25780c38b75dbf8",
       "version_major": 2,
       "version_minor": 0
      },
      "text/plain": [
       "A Jupyter Widget"
      ]
     },
     "metadata": {},
     "output_type": "display_data"
    },
    {
     "data": {
      "application/vnd.jupyter.widget-view+json": {
       "model_id": "8468407ead374209807125131bbe5796",
       "version_major": 2,
       "version_minor": 0
      },
      "text/plain": [
       "A Jupyter Widget"
      ]
     },
     "metadata": {},
     "output_type": "display_data"
    }
   ],
   "source": [
    "session.view_snapshot()"
   ]
  },
  {
   "cell_type": "markdown",
   "metadata": {},
   "source": [
    "Oops, looks like by default we didn't set screen_by_ligand_contact, so all of the pockets on the protein surface are shown.\n",
    "We can still screen out the noncontact pockets by calling screen_by_ligand_contact()\n",
    "Reloading the session.view_snapshot()"
   ]
  },
  {
   "cell_type": "code",
   "execution_count": 8,
   "metadata": {},
   "outputs": [
    {
     "data": {
      "application/vnd.jupyter.widget-view+json": {
       "model_id": "ef45e975bc184dc3bb57bf573aaa86a1",
       "version_major": 2,
       "version_minor": 0
      },
      "text/plain": [
       "A Jupyter Widget"
      ]
     },
     "metadata": {},
     "output_type": "display_data"
    },
    {
     "data": {
      "application/vnd.jupyter.widget-view+json": {
       "model_id": "7d7310b07d6a48688a764866a3b68443",
       "version_major": 2,
       "version_minor": 0
      },
      "text/plain": [
       "A Jupyter Widget"
      ]
     },
     "metadata": {},
     "output_type": "display_data"
    }
   ],
   "source": [
    "session.screen_by_ligand_contact()\n",
    "session.view_snapshot()"
   ]
  },
  {
   "cell_type": "markdown",
   "metadata": {
    "scrolled": true
   },
   "source": [
    "Now the cool thing about jupyter notebook is we can interact with the program on the fly to get what we want, instead of modifying the script and rerun them.\n",
    "For example, we can show the total alpha space of all the pockets"
   ]
  },
  {
   "cell_type": "code",
   "execution_count": 14,
   "metadata": {},
   "outputs": [
    {
     "name": "stdout",
     "output_type": "stream",
     "text": [
      "Total Score = 0.07654359248654598, Polar score = 0.034649732395846566, Nonpolar score = -4.673456407513454\n",
      "Total Score = 0.03537955746604601, Polar score = 0.02163833499861052, Nonpolar score = -3.714620442533954\n",
      "Total Score = 0.0057153005709618164, Polar score = 0.0035460683859197288, Nonpolar score = -2.494284699429038\n",
      "Total Score = 0.11138216055721566, Polar score = 0.06464760713044351, Nonpolar score = -5.888617839442784\n",
      "Total Score = 0.31858958990751496, Polar score = 0.156001079389613, Nonpolar score = -18.18141041009249\n",
      "Total Score = 0.06845008630860715, Polar score = 0.030401900487980152, Nonpolar score = -2.6815499136913927\n",
      "Total Score = 0.3290430720797056, Polar score = 0.09866766409895465, Nonpolar score = -9.670956927920294\n"
     ]
    }
   ],
   "source": [
    "for pocket in session.get_pockets():\n",
    "    print(\"Total Score = {}, Polar score = {}, Nonpolar score = {}\".format(pocket.get_total_score('all'),pocket.get_total_score('polar'),pocket.get_total_score('nonpolar')))"
   ]
  },
  {
   "cell_type": "code",
   "execution_count": null,
   "metadata": {
    "collapsed": true
   },
   "outputs": [],
   "source": []
  }
 ],
 "metadata": {
  "kernelspec": {
   "display_name": "Python 3",
   "language": "python",
   "name": "python3"
  },
  "language_info": {
   "codemirror_mode": {
    "name": "ipython",
    "version": 3
   },
   "file_extension": ".py",
   "mimetype": "text/x-python",
   "name": "python",
   "nbconvert_exporter": "python",
   "pygments_lexer": "ipython3",
   "version": "3.6.2"
  }
 },
 "nbformat": 4,
 "nbformat_minor": 1
}
