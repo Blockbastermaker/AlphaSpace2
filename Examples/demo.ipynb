{
 "cells": [
  {
   "cell_type": "markdown",
   "metadata": {
    "collapsed": true
   },
   "source": [
    "First we import the AlphaSpace AS module"
   ]
  },
  {
   "cell_type": "code",
   "execution_count": 1,
   "metadata": {
    "collapsed": true
   },
   "outputs": [],
   "source": [
    "import sys,os\n",
    "sys.path.append(os.path.abspath(\"..\"))\n",
    "from AS import *"
   ]
  },
  {
   "cell_type": "markdown",
   "metadata": {},
   "source": [
    "Then we set the path for our ligand and protein file"
   ]
  },
  {
   "cell_type": "code",
   "execution_count": 2,
   "metadata": {
    "collapsed": true
   },
   "outputs": [],
   "source": [
    "universe = AS_Universe()\n",
    "for i in range(1, 1+10):\n",
    "    test_ligand_path = '../Test_system/bcl2/lig/{}.pdb'.format(i)\n",
    "    test_protein_path = '../Test_system/bcl2/prot/{}.pdb'.format(i)\n",
    "    ligand = mdtraj.load(test_ligand_path)\n",
    "    protein = mdtraj.load(test_protein_path)\n",
    "    universe.set_receptor(protein, append=True)\n",
    "    universe.set_binder(ligand, append=True)\n"
   ]
  },
  {
   "cell_type": "markdown",
   "metadata": {},
   "source": [
    "We can load the file by calling the mdtraj module, which is already imported with the AS"
   ]
  },
  {
   "cell_type": "code",
   "execution_count": 3,
   "metadata": {
    "collapsed": true
   },
   "outputs": [],
   "source": [
    "for i in range(universe.n_frames):\n",
    "    universe.run(snapshot_idx=i)"
   ]
  },
  {
   "cell_type": "markdown",
   "metadata": {},
   "source": [
    "After we have the information we need, we can call the run() method to run the main analysis."
   ]
  },
  {
   "cell_type": "code",
   "execution_count": 4,
   "metadata": {
    "collapsed": true
   },
   "outputs": [],
   "source": [
    "# universe.config.screen_by_face = True\n",
    "# universe.config.screen_by_ligand_contact = False\n",
    "# universe.screen_pockets()"
   ]
  },
  {
   "cell_type": "markdown",
   "metadata": {},
   "source": [
    "Now all the information we need should be obtained and stored in the session object.\n",
    "We can visualize the complex by calling the view_snapshot() command"
   ]
  },
  {
   "cell_type": "code",
   "execution_count": 7,
   "metadata": {},
   "outputs": [
    {
     "data": {
      "application/vnd.jupyter.widget-view+json": {
       "model_id": "bf30429b1d134789adc7f4e5c47dbea8",
       "version_major": 2,
       "version_minor": 0
      },
      "text/plain": [
       "A Jupyter Widget"
      ]
     },
     "metadata": {},
     "output_type": "display_data"
    },
    {
     "data": {
      "application/vnd.jupyter.widget-view+json": {
       "model_id": "74989b3a67c04cbd81ed64813fea06f6",
       "version_major": 2,
       "version_minor": 0
      },
      "text/plain": [
       "A Jupyter Widget"
      ]
     },
     "metadata": {},
     "output_type": "display_data"
    }
   ],
   "source": [
    "universe.view_snapshot(1)"
   ]
  },
  {
   "cell_type": "markdown",
   "metadata": {},
   "source": [
    "Oops, looks like by default we didn't set screen_by_ligand_contact, so all of the pockets on the protein surface are shown.\n",
    "We can still screen out the noncontact pockets by calling screen_by_ligand_contact()\n",
    "Reloading the session.view_snapshot()"
   ]
  },
  {
   "cell_type": "code",
   "execution_count": 8,
   "metadata": {
    "collapsed": true
   },
   "outputs": [],
   "source": [
    "universe.show_pocket_label()"
   ]
  },
  {
   "cell_type": "markdown",
   "metadata": {
    "scrolled": true
   },
   "source": [
    "Now the cool thing about jupyter notebook is we can interact with the program on the fly to get what we want, instead of modifying the script and rerun them.\n",
    "For example, we can show the total alpha space of all the pockets"
   ]
  },
  {
   "cell_type": "code",
   "execution_count": null,
   "metadata": {
    "collapsed": true
   },
   "outputs": [],
   "source": []
  },
  {
   "cell_type": "code",
   "execution_count": null,
   "metadata": {
    "collapsed": true
   },
   "outputs": [],
   "source": []
  }
 ],
 "metadata": {
  "kernelspec": {
   "display_name": "Python 3",
   "language": "python",
   "name": "python3"
  },
  "language_info": {
   "codemirror_mode": {
    "name": "ipython",
    "version": 3
   },
   "file_extension": ".py",
   "mimetype": "text/x-python",
   "name": "python",
   "nbconvert_exporter": "python",
   "pygments_lexer": "ipython3",
   "version": "3.6.2"
  }
 },
 "nbformat": 4,
 "nbformat_minor": 1
}
