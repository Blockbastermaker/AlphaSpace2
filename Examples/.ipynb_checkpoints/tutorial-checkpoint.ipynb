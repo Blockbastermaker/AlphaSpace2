{
 "cells": [
  {
   "cell_type": "markdown",
   "metadata": {},
   "source": [
    "Tutorial 1: FCTM\n",
    "\n",
    "This Fragment-centric Topographical Mapping (FCTM) tutorial will demonstrate the use of AlphaSpace to map the Mdm2 surface at the Mdm2/p53 interface. All the files used in this example can be found in the \"Example_FCTM\" directory within the main \"AlphaSpace_v1.0\" directory."
   ]
  }
 ],
 "metadata": {
  "kernelspec": {
   "display_name": "Python 3",
   "language": "python",
   "name": "python3"
  },
  "language_info": {
   "codemirror_mode": {
    "name": "ipython",
    "version": 3
   },
   "file_extension": ".py",
   "mimetype": "text/x-python",
   "name": "python",
   "nbconvert_exporter": "python",
   "pygments_lexer": "ipython3",
   "version": "3.6.3"
  }
 },
 "nbformat": 4,
 "nbformat_minor": 2
}
