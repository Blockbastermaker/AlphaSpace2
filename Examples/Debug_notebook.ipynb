{
 "cells": [
  {
   "cell_type": "code",
   "execution_count": 1,
   "metadata": {},
   "outputs": [
    {
     "name": "stdout",
     "output_type": "stream",
     "text": [
      "-49.46137925500079\n"
     ]
    }
   ],
   "source": [
    "import mdtraj\n",
    "import sys,os\n",
    "sys.path.insert(0, os.path.abspath('../'))\n",
    "from AS import *\n",
    "from multiprocessing import Pool, cpu_count\n",
    "import matplotlib\n",
    "from timeit import default_timer\n",
    "\n",
    "traj_path = '/Users/haotian/Dropbox/Structure/Mdm2/prod_100ns_1000ss.mdcrd'\n",
    "top_path = '/Users/haotian/Dropbox/Structure/Mdm2/1YCR_solv.prmtop'\n",
    "\n",
    "\n",
    "start = default_timer()\n",
    "traj = mdtraj.load(traj_path,top=top_path,stride = 100)\n",
    "print(start - default_timer())\n",
    "\n",
    "session = AS_Session(receptor=traj)"
   ]
  },
  {
   "cell_type": "code",
   "execution_count": 2,
   "metadata": {},
   "outputs": [
    {
     "name": "stdout",
     "output_type": "stream",
     "text": [
      "85 4\n",
      "10\n"
     ]
    }
   ],
   "source": [
    "print(session.receptor.n_residues,session.binder.n_residues)\n",
    "print(session.n_frames)"
   ]
  },
  {
   "cell_type": "code",
   "execution_count": null,
   "metadata": {},
   "outputs": [
    {
     "name": "stdout",
     "output_type": "stream",
     "text": [
      "(674, 3) (94, 3)\n",
      "(639, 3) (94, 3)\n",
      "(774, 3) (94, 3)\n",
      "(760, 3) (94, 3)\n"
     ]
    }
   ],
   "source": [
    "for i in range(session.n_frames):\n",
    "    session.run(snapshot_idx=i)"
   ]
  },
  {
   "cell_type": "code",
   "execution_count": null,
   "metadata": {
    "collapsed": true
   },
   "outputs": [],
   "source": []
  }
 ],
 "metadata": {
  "kernelspec": {
   "display_name": "Python 3",
   "language": "python",
   "name": "python3"
  },
  "language_info": {
   "codemirror_mode": {
    "name": "ipython",
    "version": 3
   },
   "file_extension": ".py",
   "mimetype": "text/x-python",
   "name": "python",
   "nbconvert_exporter": "python",
   "pygments_lexer": "ipython3",
   "version": "3.6.2"
  }
 },
 "nbformat": 4,
 "nbformat_minor": 2
}
