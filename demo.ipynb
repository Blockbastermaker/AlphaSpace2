{
 "cells": [
  {
   "cell_type": "markdown",
   "metadata": {
    "collapsed": true
   },
   "source": [
    "First we import the AlphaSpace AS module"
   ]
  },
  {
   "cell_type": "code",
   "execution_count": 1,
   "metadata": {
    "collapsed": true
   },
   "outputs": [],
   "source": [
    "from AS import *"
   ]
  },
  {
   "cell_type": "markdown",
   "metadata": {},
   "source": [
    "Then we set the path for our ligand and protein file"
   ]
  },
  {
   "cell_type": "code",
   "execution_count": 2,
   "metadata": {
    "collapsed": true
   },
   "outputs": [],
   "source": [
    "test_ligand_path = '/Users/haotian/Dropbox/pycharm_project/AlphaSpace/TestPDB/lig.pdb'\n",
    "test_protein_path = '/Users/haotian/Dropbox/pycharm_project/AlphaSpace/TestPDB/prot.pdb'"
   ]
  },
  {
   "cell_type": "markdown",
   "metadata": {},
   "source": [
    "We can load the file by calling the mdtraj module, which is already imported with the AS"
   ]
  },
  {
   "cell_type": "code",
   "execution_count": 3,
   "metadata": {
    "collapsed": true
   },
   "outputs": [],
   "source": [
    "lig = mdtraj.load(test_ligand_path)\n",
    "prot = mdtraj.load(test_protein_path)"
   ]
  },
  {
   "cell_type": "markdown",
   "metadata": {},
   "source": [
    "Now we can initialize the AS_Session class, this will be the container for the current session, like the name suggests"
   ]
  },
  {
   "cell_type": "code",
   "execution_count": 4,
   "metadata": {
    "collapsed": true
   },
   "outputs": [],
   "source": [
    "session = AS_Session(prot,lig)"
   ]
  },
  {
   "cell_type": "markdown",
   "metadata": {},
   "source": [
    "After we have the information we need, we can call the run() method to run the main analysis."
   ]
  },
  {
   "cell_type": "code",
   "execution_count": 5,
   "metadata": {
    "collapsed": true
   },
   "outputs": [],
   "source": [
    "session.run()"
   ]
  },
  {
   "cell_type": "markdown",
   "metadata": {},
   "source": [
    "Now all the information we need should be obtained and stored in the session object.\n",
    "We can visualize the complex by calling the view_snapshot() command"
   ]
  },
  {
   "cell_type": "code",
   "execution_count": 6,
   "metadata": {},
   "outputs": [
    {
     "data": {
      "application/vnd.jupyter.widget-view+json": {
       "model_id": "d0068b86592d4bf8b7426e29a4090f2a",
       "version_major": 2,
       "version_minor": 0
      },
      "text/plain": [
       "A Jupyter Widget"
      ]
     },
     "metadata": {},
     "output_type": "display_data"
    },
    {
     "data": {
      "application/vnd.jupyter.widget-view+json": {
       "model_id": "72f33d2ec198469b8197ce1c0f58d97e",
       "version_major": 2,
       "version_minor": 0
      },
      "text/plain": [
       "A Jupyter Widget"
      ]
     },
     "metadata": {},
     "output_type": "display_data"
    },
    {
     "data": {
      "application/javascript": [
       "\n",
       "    var x = $('#notebook-container');\n",
       "    x.draggable();\n",
       "    "
      ],
      "text/plain": [
       "<IPython.core.display.Javascript object>"
      ]
     },
     "metadata": {},
     "output_type": "display_data"
    },
    {
     "data": {
      "application/javascript": [
       "\n",
       "    var cb = Jupyter.notebook.container;\n",
       "\n",
       "    cb.offset({'left': 0})\n",
       "    "
      ],
      "text/plain": [
       "<IPython.core.display.Javascript object>"
      ]
     },
     "metadata": {},
     "output_type": "display_data"
    },
    {
     "data": {
      "application/javascript": [
       "\n",
       "    var cb = Jupyter.notebook.container;\n",
       "\n",
       "    cb.width('5%');\n",
       "\n",
       "    cb.offset({'left': 0})"
      ],
      "text/plain": [
       "<IPython.core.display.Javascript object>"
      ]
     },
     "metadata": {},
     "output_type": "display_data"
    },
    {
     "data": {
      "application/javascript": [
       "\n",
       "    var x = $('#notebook-container');\n",
       "    x.width('30%');\n",
       "    x.css({position: \"relative\", left: \"0%\"});\n",
       "    "
      ],
      "text/plain": [
       "<IPython.core.display.Javascript object>"
      ]
     },
     "metadata": {},
     "output_type": "display_data"
    },
    {
     "data": {
      "application/javascript": [
       "\n",
       "    var x = $('#notebook-container');\n",
       "    x.width('30%');\n",
       "    x.css({position: \"relative\", left: \"0%\"});\n",
       "    "
      ],
      "text/plain": [
       "<IPython.core.display.Javascript object>"
      ]
     },
     "metadata": {},
     "output_type": "display_data"
    },
    {
     "data": {
      "application/javascript": [
       "\n",
       "    var x = $('#notebook-container');\n",
       "    x.draggable(\"destroy\");\n",
       "    "
      ],
      "text/plain": [
       "<IPython.core.display.Javascript object>"
      ]
     },
     "metadata": {},
     "output_type": "display_data"
    },
    {
     "data": {
      "application/javascript": [
       "\n",
       "    var x = $('#notebook-container');\n",
       "    x.width('30%');\n",
       "    x.css({position: \"relative\", left: \"0%\"});\n",
       "    "
      ],
      "text/plain": [
       "<IPython.core.display.Javascript object>"
      ]
     },
     "metadata": {},
     "output_type": "display_data"
    }
   ],
   "source": [
    "session.view_snapshot()"
   ]
  },
  {
   "cell_type": "markdown",
   "metadata": {},
   "source": [
    "Oops, looks like by default we didn't set screen_by_ligand_contact, so all of the pockets on the protein surface are shown.\n",
    "We can still screen out the noncontact pockets by calling screen_by_ligand_contact()\n",
    "Reloading the session.view_snapshot()"
   ]
  },
  {
   "cell_type": "code",
   "execution_count": 7,
   "metadata": {},
   "outputs": [
    {
     "data": {
      "application/vnd.jupyter.widget-view+json": {
       "model_id": "a005a3baa4f84e969026522903f1d101",
       "version_major": 2,
       "version_minor": 0
      },
      "text/plain": [
       "A Jupyter Widget"
      ]
     },
     "metadata": {},
     "output_type": "display_data"
    },
    {
     "data": {
      "application/vnd.jupyter.widget-view+json": {
       "model_id": "458b8148105341139d08b420db93625c",
       "version_major": 2,
       "version_minor": 0
      },
      "text/plain": [
       "A Jupyter Widget"
      ]
     },
     "metadata": {},
     "output_type": "display_data"
    }
   ],
   "source": [
    "session.screen_by_ligand_contact()\n",
    "session.view_snapshot()"
   ]
  },
  {
   "cell_type": "markdown",
   "metadata": {
    "scrolled": true
   },
   "source": [
    "Now the cool thing about jupyter notebook is we can interact with the program on the fly to get what we want, instead of modifying the script and rerun them.\n",
    "For example, we can show the total alpha space of all the pockets"
   ]
  },
  {
   "cell_type": "code",
   "execution_count": 8,
   "metadata": {},
   "outputs": [
    {
     "name": "stdout",
     "output_type": "stream",
     "text": [
      "Total Score = 76.54359248654598, Polar score = 34.64973239584656, Nonpolar score = 41.89386009069942\n",
      "Total Score = 35.37955746604601, Polar score = 21.638334998610517, Nonpolar score = 13.741222467435493\n",
      "Total Score = 5.715300570961817, Polar score = 3.546068385919729, Nonpolar score = 2.169232185042088\n",
      "Total Score = 111.38216055721564, Polar score = 64.64760713044352, Nonpolar score = 46.734553426772116\n",
      "Total Score = 318.58958990751495, Polar score = 156.00107938961295, Nonpolar score = 162.58851051790197\n",
      "Total Score = 68.45008630860715, Polar score = 30.401900487980157, Nonpolar score = 38.048185820627\n",
      "Total Score = 329.0430720797057, Polar score = 98.66766409895469, Nonpolar score = 230.37540798075096\n"
     ]
    }
   ],
   "source": [
    "for pocket in session.get_pockets():\n",
    "    print(\"Total Score = {}, Polar score = {}, Nonpolar score = {}\".format(pocket.get_total_score('all'),pocket.get_total_score('polar'),pocket.get_total_score('nonpolar')))"
   ]
  },
  {
   "cell_type": "code",
   "execution_count": null,
   "metadata": {
    "collapsed": true
   },
   "outputs": [],
   "source": []
  }
 ],
 "metadata": {
  "kernelspec": {
   "display_name": "Python 3",
   "language": "python",
   "name": "python3"
  },
  "language_info": {
   "codemirror_mode": {
    "name": "ipython",
    "version": 3
   },
   "file_extension": ".py",
   "mimetype": "text/x-python",
   "name": "python",
   "nbconvert_exporter": "python",
   "pygments_lexer": "ipython3",
   "version": "3.6.2"
  }
 },
 "nbformat": 4,
 "nbformat_minor": 1
}
