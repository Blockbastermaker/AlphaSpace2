{
 "cells": [
  {
   "cell_type": "markdown",
   "metadata": {},
   "source": [
    "First we import the AlphaSpace AS module"
   ]
  },
  {
   "cell_type": "code",
   "execution_count": 1,
   "metadata": {
    "collapsed": true
   },
   "outputs": [],
   "source": [
    "import alphaspace,mdtraj"
   ]
  },
  {
   "cell_type": "markdown",
   "metadata": {},
   "source": [
    "Then we set the path for our ligand and protein file"
   ]
  },
  {
   "cell_type": "code",
   "execution_count": 2,
   "metadata": {
    "collapsed": true
   },
   "outputs": [],
   "source": [
    "universe = alphaspace.AS_Universe(mdtraj.load('mdm2_p53/mdm2_p53.pdb'))"
   ]
  },
  {
   "cell_type": "markdown",
   "metadata": {},
   "source": [
    "We can load the file by calling the mdtraj module, which is already imported with the AS"
   ]
  },
  {
   "cell_type": "code",
   "execution_count": 3,
   "metadata": {
    "collapsed": true
   },
   "outputs": [],
   "source": [
    "universe.run_alphaspace()"
   ]
  },
  {
   "cell_type": "markdown",
   "metadata": {},
   "source": [
    "After we have the information we need, we can call the run() method to run the main analysis."
   ]
  },
  {
   "cell_type": "code",
   "execution_count": 4,
   "metadata": {},
   "outputs": [
    {
     "name": "stdout",
     "output_type": "stream",
     "text": [
      "(1, 1449)\n",
      "(1, 1670)\n"
     ]
    }
   ],
   "source": [
    "universe.config.screen_by_face = True\n",
    "universe.config.screen_by_ligand_contact = False\n",
    "universe.screen_pockets()"
   ]
  },
  {
   "cell_type": "markdown",
   "metadata": {},
   "source": [
    "Now all the information we need should be obtained and stored in the session object.\n",
    "We can visualize the complex by calling the view_snapshot() command"
   ]
  },
  {
   "cell_type": "code",
   "execution_count": 20,
   "metadata": {},
   "outputs": [
    {
     "data": {
      "application/vnd.jupyter.widget-view+json": {
       "model_id": "34fe9a7ddc744c4892da19a097d8ef3f",
       "version_major": 2,
       "version_minor": 0
      },
      "text/plain": [
       "A Jupyter Widget"
      ]
     },
     "metadata": {},
     "output_type": "display_data"
    },
    {
     "data": {
      "application/vnd.jupyter.widget-view+json": {
       "model_id": "29d969a858ab48b281cd2d422754001e",
       "version_major": 2,
       "version_minor": 0
      },
      "text/plain": [
       "A Jupyter Widget"
      ]
     },
     "metadata": {},
     "output_type": "display_data"
    }
   ],
   "source": [
    "universe.view_snapshot(0)"
   ]
  },
  {
   "cell_type": "markdown",
   "metadata": {},
   "source": [
    "Now you can inspect every pocket with their corrosponding attributes by iterating through the pockets."
   ]
  },
  {
   "cell_type": "code",
   "execution_count": 21,
   "metadata": {},
   "outputs": [
    {
     "name": "stdout",
     "output_type": "stream",
     "text": [
      "Pocket #61 in gold with polar score 34.0 and nonpolar score 175.0\n",
      "Pocket #67 in pink with polar score 0.0 and nonpolar score 13.0\n",
      "Pocket #69 in blue with polar score 1.0 and nonpolar score 93.0\n",
      "Pocket #41 in pink with polar score 3.0 and nonpolar score 23.0\n",
      "Pocket #71 in tan with polar score 2.0 and nonpolar score 22.0\n",
      "Pocket #63 in rosybrown with polar score 3.0 and nonpolar score 158.0\n",
      "Pocket #64 in coral with polar score 3.0 and nonpolar score 168.0\n",
      "Pocket #55 in orange with polar score 1.0 and nonpolar score 18.0\n",
      "Pocket #66 in yellow with polar score 12.0 and nonpolar score 7.0\n",
      "Pocket #65 in green with polar score 1.0 and nonpolar score 80.0\n",
      "Pocket #62 in aqua with polar score 2.0 and nonpolar score 26.0\n",
      "Pocket #40 in yellow with polar score 0.0 and nonpolar score 0.0\n",
      "Pocket #56 in blue with polar score 1.0 and nonpolar score 1.0\n",
      "Pocket #52 in green with polar score 1.0 and nonpolar score 2.0\n",
      "Pocket #39 in green with polar score 2.0 and nonpolar score 2.0\n",
      "Pocket #54 in pink with polar score 0.0 and nonpolar score 7.0\n",
      "Pocket #60 in lime with polar score 6.0 and nonpolar score 2.0\n",
      "Pocket #50 in rosybrown with polar score 6.0 and nonpolar score 6.0\n",
      "Pocket #30 in blue with polar score 7.0 and nonpolar score 2.0\n",
      "Pocket #53 in yellow with polar score 3.0 and nonpolar score 30.0\n"
     ]
    }
   ],
   "source": [
    "for pocket in universe.pockets():\n",
    "    print(\"Pocket #{} in {} with polar score {} and nonpolar score {}\".format(int(pocket._idx),pocket.color,pocket.polar_score(), pocket.nonpolar_score()))"
   ]
  }
 ],
 "metadata": {
  "kernelspec": {
   "display_name": "Python 3",
   "language": "python",
   "name": "python3"
  },
  "language_info": {
   "codemirror_mode": {
    "name": "ipython",
    "version": 3
   },
   "file_extension": ".py",
   "mimetype": "text/x-python",
   "name": "python",
   "nbconvert_exporter": "python",
   "pygments_lexer": "ipython3",
   "version": "3.6.3"
  }
 },
 "nbformat": 4,
 "nbformat_minor": 2
}
