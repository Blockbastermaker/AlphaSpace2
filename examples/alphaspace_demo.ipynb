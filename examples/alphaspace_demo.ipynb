{
 "cells": [
  {
   "cell_type": "markdown",
   "metadata": {},
   "source": [
    "First we import the AlphaSpace AS module"
   ]
  },
  {
   "cell_type": "code",
   "execution_count": 2,
   "metadata": {
    "collapsed": true
   },
   "outputs": [],
   "source": [
    "import alphaspace,mdtraj"
   ]
  },
  {
   "cell_type": "markdown",
   "metadata": {},
   "source": [
    "Then we set the path for our ligand and protein file"
   ]
  },
  {
   "cell_type": "code",
   "execution_count": 3,
   "metadata": {
    "collapsed": true
   },
   "outputs": [],
   "source": [
    "universe = alphaspace.AS_Universe(mdtraj.load('mdm2_p53/mdm2_p53.pdb'))"
   ]
  },
  {
   "cell_type": "markdown",
   "metadata": {},
   "source": [
    "We can load the file by calling the mdtraj module, which is already imported with the AS"
   ]
  },
  {
   "cell_type": "code",
   "execution_count": 4,
   "metadata": {
    "collapsed": true
   },
   "outputs": [],
   "source": [
    "universe.run_alphaspace()"
   ]
  },
  {
   "cell_type": "markdown",
   "metadata": {},
   "source": [
    "After we have the information we need, we can call the run() method to run the main analysis."
   ]
  },
  {
   "cell_type": "code",
   "execution_count": 5,
   "metadata": {},
   "outputs": [
    {
     "name": "stdout",
     "output_type": "stream",
     "text": [
      "(1, 1449)\n",
      "(1, 1670)\n"
     ]
    }
   ],
   "source": [
    "universe.config.screen_by_face = True\n",
    "universe.config.screen_by_ligand_contact = False\n",
    "universe.screen_pockets()"
   ]
  },
  {
   "cell_type": "markdown",
   "metadata": {},
   "source": [
    "Now all the information we need should be obtained and stored in the session object.\n",
    "We can visualize the complex by calling the view_snapshot() command"
   ]
  },
  {
   "cell_type": "code",
   "execution_count": 31,
   "metadata": {},
   "outputs": [
    {
     "data": {
      "text/plain": [
       "A Jupyter Widget"
      ]
     },
     "metadata": {},
     "output_type": "display_data"
    }
   ],
   "source": [
    "# universe._view = nv.show_mdtraj(universe.receptor.trajectory[0], gui=True)\n",
    "import numpy as np\n",
    "traj = mdtraj.load('mdm2_p53/mdm2_p53.pdb')\n",
    "molecule_list = []\n",
    "for molecule in traj.topology.find_molecules():\n",
    "    if len(molecule) > 1 and not next(iter(molecule)).residue.is_water:\n",
    "        molecule_list.append(molecule)\n",
    "        print\n",
    "    else:\n",
    "        continue\n",
    "binder_traj = traj.atom_slice(np.array(sorted([atom.index for atom in molecule_list[1]]),dtype=int))    \n",
    "nv.show_mdtraj(binder_traj)"
   ]
  },
  {
   "cell_type": "code",
   "execution_count": 6,
   "metadata": {},
   "outputs": [
    {
     "data": {
      "text/plain": [
       "A Jupyter Widget"
      ]
     },
     "metadata": {},
     "output_type": "display_data"
    },
    {
     "data": {
      "text/plain": [
       "A Jupyter Widget"
      ]
     },
     "metadata": {},
     "output_type": "display_data"
    }
   ],
   "source": [
    "universe.view_snapshot(0)\n"
   ]
  },
  {
   "cell_type": "code",
   "execution_count": 9,
   "metadata": {
    "collapsed": true
   },
   "outputs": [],
   "source": [
    "binder_view = universe._view.add_trajectory(universe.binder.trajectory)"
   ]
  },
  {
   "cell_type": "markdown",
   "metadata": {},
   "source": [
    "Now you can inspect every pocket with their corrosponding attributes by iterating through the pockets."
   ]
  },
  {
   "cell_type": "code",
   "execution_count": 7,
   "metadata": {},
   "outputs": [
    {
     "name": "stdout",
     "output_type": "stream",
     "text": [
      "#61 p = 34 np = 175\n",
      "#64 p = 3 np = 167\n",
      "#63 p = 2 np = 157\n",
      "#69 p = 0 np = 92\n",
      "#65 p = 0 np = 80\n",
      "#53 p = 2 np = 29\n",
      "#62 p = 1 np = 26\n",
      "#41 p = 2 np = 22\n",
      "#71 p = 2 np = 21\n",
      "#66 p = 12 np = 6\n",
      "#55 p = 0 np = 18\n",
      "#67 p = 0 np = 12\n",
      "#50 p = 6 np = 6\n",
      "#30 p = 6 np = 2\n",
      "#60 p = 5 np = 2\n",
      "#54 p = 0 np = 6\n",
      "#39 p = 1 np = 1\n",
      "#52 p = 1 np = 1\n",
      "#56 p = 0 np = 0\n",
      "#40 p = 0 np = 0\n"
     ]
    }
   ],
   "source": [
    "pockets = list(universe.pockets())\n",
    "for pocket in sorted(pockets,key=lambda _:_.get_score('all',False),reverse=True):\n",
    "    print(\"#{} p = {} np = {}\".format(\n",
    "        int(pocket._idx),\n",
    "        int(pocket.get_score('polar',False)),\n",
    "        int(pocket.get_score('nonpolar',False)),))\n"
   ]
  },
  {
   "cell_type": "code",
   "execution_count": 8,
   "metadata": {},
   "outputs": [
    {
     "data": {
      "text/plain": [
       "<mdtraj.Trajectory with 1 frames, 221 atoms, 13 residues, without unitcells at 0x6103217b8>"
      ]
     },
     "execution_count": 8,
     "metadata": {},
     "output_type": "execute_result"
    }
   ],
   "source": [
    "universe.binder.traj"
   ]
  }
 ],
 "metadata": {
  "kernelspec": {
   "display_name": "Python 3",
   "language": "python",
   "name": "python3"
  },
  "language_info": {
   "codemirror_mode": {
    "name": "ipython",
    "version": 3
   },
   "file_extension": ".py",
   "mimetype": "text/x-python",
   "name": "python",
   "nbconvert_exporter": "python",
   "pygments_lexer": "ipython3",
   "version": "3.6.3"
  }
 },
 "nbformat": 4,
 "nbformat_minor": 2
}
