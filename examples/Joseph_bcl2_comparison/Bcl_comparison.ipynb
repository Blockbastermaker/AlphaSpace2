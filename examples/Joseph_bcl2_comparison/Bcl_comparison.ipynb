{
 "cells": [
  {
   "cell_type": "code",
   "execution_count": 1,
   "metadata": {},
   "outputs": [],
   "source": [
    "#import matplotlib.pyplot as plt\n",
    "import mdtraj\n",
    "import numpy as np\n",
    "\n",
    "import alphaspace2 as al"
   ]
  },
  {
   "cell_type": "code",
   "execution_count": 4,
   "metadata": {},
   "outputs": [],
   "source": [
    "bcl2_prot, bcl2_lig = mdtraj.load('Bcl2_BAX/prot.pdb'),mdtraj.load('Bcl2_BAX/lig.pdb')\n",
    "bclxl_prot, bclxl_lig = mdtraj.load('BclXL_BAX/prot.pdb'),mdtraj.load('BclXL_BAX/lig.pdb')\n",
    "al.annotateVinaAtomTypes(pdbqt=\"Bcl2_BAX/prot.pdbqt\", receptor=bcl2_prot)\n",
    "al.annotateVinaAtomTypes(pdbqt=\"BclXL_BAX/prot.pdbqt\", receptor=bclxl_prot)"
   ]
  },
  {
   "cell_type": "code",
   "execution_count": 5,
   "metadata": {},
   "outputs": [],
   "source": [
    "ss_bcl2 = al.Snapshot()\n",
    "ss_bcl2.run(bcl2_prot, bcl2_lig)\n",
    "ss_bclxl = al.Snapshot()\n",
    "ss_bclxl.run(bclxl_prot, bclxl_lig)"
   ]
  },
  {
   "cell_type": "code",
   "execution_count": 6,
   "metadata": {},
   "outputs": [
    {
     "name": "stdout",
     "output_type": "stream",
     "text": [
      "0 \t -5.362207 \t -5.859367\n",
      "2 \t -2.9221647 \t -5.562416\n",
      "3 \t -5.4417605 \t -2.359567\n",
      "8 \t -6.2184644 \t 0\n",
      "10 \t -4.6135807 \t -1.3341222\n",
      "11 \t -4.6906605 \t -1.164552\n",
      "29 \t -2.2272186 \t -1.4742478\n",
      "42 \t -1.4756579 \t -1.4238719\n",
      "43 \t -1.0994188 \t -1.7869568\n",
      "54 \t -1.2893351 \t -0.97642815\n",
      "56 \t -1.2229697 \t -0.9430386\n",
      "59 \t 0 \t -2.1016717\n",
      "60 \t 0 \t -2.0681152\n",
      "85 \t -0.6299271 \t -0.73714805\n",
      "89 \t 0 \t -1.2241524\n",
      "96 \t -0.37557366 \t -0.6389315\n",
      "106 \t -0.69140965 \t 0\n",
      "123 \t 0 \t -0.39476568\n",
      "125 \t -0.360147 \t 0\n"
     ]
    }
   ],
   "source": [
    "centroid_pockets_to_write=[[],[]]\n",
    "betas_pockets_to_write = [[],[]]\n",
    "bcl2_bclxl = al.Trajectory(snapshots=[ss_bcl2,ss_bclxl])\n",
    "bcl2_bclxl.gen_dpockets(clust_distance=4.7)\n",
    "contact_pockets = []\n",
    "dps = sorted([dp for dp in bcl2_bclxl.dpockets],key=lambda i:sum(i.scores))\n",
    "for dpx,dp in enumerate(dps):\n",
    "    pockets = list(dp.pockets)\n",
    "    if pockets[0].isContact or pockets[1].isContact:\n",
    "        contact_pockets.append(dpx)\n",
    "        print(dpx,\"\\t\",pockets[0].score,\"\\t\",pockets[1].score)\n",
    "        if pockets[0].score!=0:\n",
    "            centroid_pockets_to_write[0].append((dpx,pockets[0].centroid))\n",
    "            betas_pockets_to_write[0].append((dpx,[b.xyz for b in pockets[0].betas]))\n",
    "        if pockets[1].score!=0:\n",
    "            centroid_pockets_to_write[1].append((dpx,pockets[1].centroid))\n",
    "            betas_pockets_to_write[1].append((dpx,[b.xyz for b in pockets[1].betas]))\n"
   ]
  },
  {
   "cell_type": "code",
   "execution_count": 8,
   "metadata": {},
   "outputs": [],
   "source": [
    "contact_beta_atoms =[np.array([]),np.array([])]\n",
    "for bx,betas in enumerate(betas_pockets_to_write):\n",
    "    for _,pock in betas:\n",
    "        contact_beta_atoms[bx] = np.append(contact_beta_atoms[bx],pock)\n"
   ]
  },
  {
   "cell_type": "code",
   "execution_count": 9,
   "metadata": {},
   "outputs": [],
   "source": [
    "contact_beta_atoms = [contact_beta_atoms[0].reshape(-1,3),contact_beta_atoms[1].reshape(-1,3)]   "
   ]
  },
  {
   "cell_type": "code",
   "execution_count": null,
   "metadata": {},
   "outputs": [],
   "source": []
  },
  {
   "cell_type": "code",
   "execution_count": null,
   "metadata": {},
   "outputs": [],
   "source": []
  },
  {
   "cell_type": "code",
   "execution_count": 19,
   "metadata": {},
   "outputs": [],
   "source": [
    "from beta_usr import Get_USR_alpha_beta"
   ]
  },
  {
   "cell_type": "code",
   "execution_count": 14,
   "metadata": {},
   "outputs": [],
   "source": [
    "def soergel(i,j):   ### Distance calculation (Soergel Distance)\n",
    "    li=len(i)\n",
    "    lj=len(j)\n",
    "    if li is not lj:\n",
    "        print('lengths not equal')\n",
    "    else:\n",
    "        ntemp=0\n",
    "        dtemp=0\n",
    "        for k in range(li):\n",
    "            ntemp=ntemp+abs(i[k]-j[k])\n",
    "            dtemp=dtemp+max(i[k],j[k])\n",
    "        score=float(ntemp)/float(dtemp)\n",
    "    return score\n",
    "        "
   ]
  },
  {
   "cell_type": "code",
   "execution_count": 35,
   "metadata": {},
   "outputs": [],
   "source": [
    "usr_1 = Get_USR_alpha_beta(contact_beta_atoms[0])\n",
    "usr_2 = Get_USR_alpha_beta(contact_beta_atoms[1])"
   ]
  },
  {
   "cell_type": "code",
   "execution_count": 37,
   "metadata": {},
   "outputs": [
    {
     "data": {
      "text/plain": [
       "{'ctd_1': 9.66,\n",
       " 'ctd_2': 4.273,\n",
       " 'ctd_3': 0.929,\n",
       " 'cst_1': 9.956,\n",
       " 'cst_2': 4.58,\n",
       " 'cst_3': 0.751,\n",
       " 'fct_1': 22.45,\n",
       " 'fct_2': 9.565,\n",
       " 'fct_3': -0.641,\n",
       " 'ftf_1': 17.828,\n",
       " 'ftf_2': 9.489,\n",
       " 'ftf_3': 0.559}"
      ]
     },
     "execution_count": 37,
     "metadata": {},
     "output_type": "execute_result"
    }
   ],
   "source": [
    "usr_1     ## USR features, ctd_i = ith Moment of Distance of all beta atoms to Centroid (ctd point)\n",
    "          ## cst_i = ith Moment of Distance of all beta atoms to beta atom closest to Centroid (cst point)\n",
    "          ## fct_i = ith Moment of Distance of all beta atoms to beta atom furthest to Centroid (fct point)\n",
    "          ## fct_i = ith Moment of Distance of all beta atoms to beta atom furthest from fct point (ftf point)"
   ]
  },
  {
   "cell_type": "code",
   "execution_count": 16,
   "metadata": {},
   "outputs": [],
   "source": [
    "usr_1 = [s for _,s in usr_1.items()]   ## convert USR dictionary into arrays\n",
    "usr_2 = [s for _,s in usr_2.items()]"
   ]
  },
  {
   "cell_type": "code",
   "execution_count": 17,
   "metadata": {},
   "outputs": [
    {
     "name": "stdout",
     "output_type": "stream",
     "text": [
      "0.9002270544057287\n"
     ]
    }
   ],
   "source": [
    "print(1-soergel(usr_1,usr_2))    ## similarity of USR features of beta atoms"
   ]
  },
  {
   "cell_type": "code",
   "execution_count": 18,
   "metadata": {},
   "outputs": [],
   "source": [
    "from alphaspace2.functions import getSASA"
   ]
  },
  {
   "cell_type": "code",
   "execution_count": 27,
   "metadata": {},
   "outputs": [],
   "source": [
    "from collections import defaultdict\n",
    "def get_types_dict(filename):\n",
    "    types_dict = defaultdict(dict)\n",
    "    fp = open(filename, 'r')\n",
    "    lines = fp.readlines()\n",
    "    fp.close()\n",
    "    for line in lines:\n",
    "        line = line.split()\n",
    "        types_dict[line[2]][line[0]]=line\n",
    "\n",
    "    return types_dict\n",
    "\n",
    "atom_types=['P','N','D','A','DA','AR','HP','PL']\n",
    "atom_types_match={'P':'Positive_OASA','N':'Negative_OASA','D':'H_bond_Donor_OASA','A':'H_bond_Acceptor_OASA',\n",
    "                  'DA':'H_bond_Doneptor_OASA','AR':'Aromatic_OASA','HP':'Hydrophobic_OASA','PL':'Polar_OASA','NL':'Null_type_OASA'}\n",
    "prot_dict=get_types_dict('amber_types_fine.dat')\n",
    "res_names=prot_dict.keys()"
   ]
  },
  {
   "cell_type": "code",
   "execution_count": 28,
   "metadata": {},
   "outputs": [],
   "source": [
    "def get_pharmacophore_fingerprint(prot_md,beta_atoms):\n",
    "    s1 = getSASA(prot_md)\n",
    "    s2 = getSASA(prot_md,cover_atom_coords = beta_atoms/10)\n",
    "    diff_bool = s1-s2 > 0\n",
    "    d_asa = (s1-s2)[diff_bool]*100\n",
    "    topology = prot_md.topology\n",
    "    table, bonds = topology.to_dataframe()\n",
    "    occluded_asa = []\n",
    "    for top,asa in zip(table.values[diff_bool],d_asa):\n",
    "        if top[4] in res_names:\n",
    "            if top[1] in prot_dict[top[4]].keys():\n",
    "                occluded_asa.append(tuple([prot_dict[top[4]][top[1]][-1],asa]))\n",
    "            else:\n",
    "                occluded_asa.append(tuple(['NL',asa]))\n",
    "        else:\n",
    "            occluded_asa.append(tuple(['NL',asa]))\n",
    "    temp_surf_dict={'Total_OASA':0,'Positive_OASA':0,'Negative_OASA':0,'H_bond_Donor_OASA':0,'H_bond_Acceptor_OASA':0,\n",
    "                    'H_bond_Doneptor_OASA':0,'Aromatic_OASA':0,'Hydrophobic_OASA':0,'Polar_OASA':0,'Null_type_OASA':0}\n",
    "    for dd in occluded_asa:\n",
    "        temp_surf_dict['Total_OASA']+=dd[1]\n",
    "        temp_surf_dict[atom_types_match[dd[0]]] += dd[1]\n",
    "    return temp_surf_dict\n"
   ]
  },
  {
   "cell_type": "code",
   "execution_count": 33,
   "metadata": {},
   "outputs": [],
   "source": [
    "oasa_1 = get_pharmacophore_fingerprint(bcl2_prot,contact_beta_atoms[0])\n",
    "oasa_2 = get_pharmacophore_fingerprint(bclxl_prot,contact_beta_atoms[1])"
   ]
  },
  {
   "cell_type": "code",
   "execution_count": 34,
   "metadata": {},
   "outputs": [
    {
     "data": {
      "text/plain": [
       "{'Total_OASA': 872.6194033697248,\n",
       " 'Positive_OASA': 17.201237201690674,\n",
       " 'Negative_OASA': 75.00213193893433,\n",
       " 'H_bond_Donor_OASA': 16.06208124011755,\n",
       " 'H_bond_Acceptor_OASA': 173.10759711265564,\n",
       " 'H_bond_Doneptor_OASA': 46.429887771606445,\n",
       " 'Aromatic_OASA': 142.39950075745583,\n",
       " 'Hydrophobic_OASA': 366.94288751482964,\n",
       " 'Polar_OASA': 35.474079832434654,\n",
       " 'Null_type_OASA': 0}"
      ]
     },
     "execution_count": 34,
     "metadata": {},
     "output_type": "execute_result"
    }
   ],
   "source": [
    "oasa_2    ## Dictionary of the Surface Area properties"
   ]
  },
  {
   "cell_type": "code",
   "execution_count": 31,
   "metadata": {},
   "outputs": [],
   "source": [
    "oasa_1 = [s for _,s in oasa_1.items()]    ## convert surface area dictionary into arrays\n",
    "oasa_2 = [s for _,s in oasa_2.items()]"
   ]
  },
  {
   "cell_type": "code",
   "execution_count": 32,
   "metadata": {},
   "outputs": [
    {
     "name": "stdout",
     "output_type": "stream",
     "text": [
      "0.8164302738534024\n"
     ]
    }
   ],
   "source": [
    "print(1-soergel(oasa_1,oasa_2))    ### similarity of Pharmacophore Occluded Surface Area, Score of 1 is perfect similarity 0 is most dissimilar"
   ]
  },
  {
   "cell_type": "code",
   "execution_count": null,
   "metadata": {},
   "outputs": [],
   "source": []
  }
 ],
 "metadata": {
  "kernelspec": {
   "display_name": "Python 3",
   "language": "python",
   "name": "python3"
  },
  "language_info": {
   "codemirror_mode": {
    "name": "ipython",
    "version": 3
   },
   "file_extension": ".py",
   "mimetype": "text/x-python",
   "name": "python",
   "nbconvert_exporter": "python",
   "pygments_lexer": "ipython3",
   "version": "3.6.7"
  },
  "pycharm": {
   "stem_cell": {
    "cell_type": "raw",
    "source": [],
    "metadata": {
     "collapsed": false
    }
   }
  }
 },
 "nbformat": 4,
 "nbformat_minor": 2
}