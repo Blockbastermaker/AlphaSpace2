{
 "cells": [
  {
   "cell_type": "code",
   "execution_count": 1,
   "metadata": {},
   "outputs": [
    {
     "name": "stdout",
     "output_type": "stream",
     "text": [
      "1 snapshot processed\n"
     ]
    }
   ],
   "source": [
    "import alphaspace\n",
    "import numpy as np\n",
    "import mdtraj\n",
    "import nglview as nv\n",
    "pdb_file = \"/Users/haotian/Dropbox/pycharm_project/AlphaSpace/examples/mdm2_p53/mdm2_p53.pdb\"\n",
    "\n",
    "u = alphaspace.AS_Universe(mdtraj.load(pdb_file), guess_receptor_binder=True, guess_by_order=True)\n",
    "u.run_alphaspace()"
   ]
  },
  {
   "cell_type": "code",
   "execution_count": 10,
   "metadata": {},
   "outputs": [],
   "source": [
    "def view_alphas(universe, snapshot_idx=0, active_only=True):\n",
    "    for pocket in universe.pockets(snapshot_idx,active_only):\n",
    "        color = universe.config.color(idx=pocket._idx)\n",
    "        for alpha in pocket.alphas:\n",
    "            universe._view.shape.add_buffer(\"sphere\", position=list(alpha.centroid * 10), color=color, radius=[0.5])\n",
    "\n",
    "def view_betas(universe, snapshot_idx=0, active_only=True):\n",
    "    for pocket in universe.pockets(snapshot_idx,active_only=active_only):\n",
    "        color = universe.config.color(idx=pocket._idx)\n",
    "        if (not active_only) or (active_only and pocket.is_active):\n",
    "            for beta in pocket.betas:\n",
    "                universe._view.shape.add_buffer(\"sphere\", position=list(beta.centroid * 10), color=color, radius=[.7])\n",
    "# u.get_view()._remove_representations_by_name('buffer')\n",
    "view_betas(u)"
   ]
  },
  {
   "cell_type": "code",
   "execution_count": 11,
   "metadata": {},
   "outputs": [],
   "source": [
    "view_alphas(u)"
   ]
  },
  {
   "cell_type": "code",
   "execution_count": 9,
   "metadata": {},
   "outputs": [
    {
     "data": {
      "application/vnd.jupyter.widget-view+json": {
       "model_id": "30a73318993144fc9e106d1ce4151167",
       "version_major": 2,
       "version_minor": 0
      },
      "text/plain": [
       "A Jupyter Widget"
      ]
     },
     "metadata": {},
     "output_type": "display_data"
    }
   ],
   "source": [
    "u.view()"
   ]
  },
  {
   "cell_type": "code",
   "execution_count": 38,
   "metadata": {},
   "outputs": [],
   "source": []
  },
  {
   "cell_type": "code",
   "execution_count": 50,
   "metadata": {},
   "outputs": [],
   "source": [
    "def add_sphere_buffer(view, position, radius, color):\n",
    "    view.shape.add_buffer('sphere',position = position,radius=radius,color=color)\n",
    "\n",
    "add_sphere_buffer(view,position =  [4,0,0],radius = [0.5], color = [1,1,1])\n",
    "    \n",
    "# kwargs = {'position': [1,0,0], \"color\": [1,1,1],'radius' : [1.0]}\n"
   ]
  },
  {
   "cell_type": "code",
   "execution_count": 54,
   "metadata": {},
   "outputs": [],
   "source": [
    "view.clear_representations()"
   ]
  }
 ],
 "metadata": {
  "kernelspec": {
   "display_name": "Python 3",
   "language": "python",
   "name": "python3"
  },
  "language_info": {
   "codemirror_mode": {
    "name": "ipython",
    "version": 3
   },
   "file_extension": ".py",
   "mimetype": "text/x-python",
   "name": "python",
   "nbconvert_exporter": "python",
   "pygments_lexer": "ipython3",
   "version": "3.6.4"
  }
 },
 "nbformat": 4,
 "nbformat_minor": 2
}
