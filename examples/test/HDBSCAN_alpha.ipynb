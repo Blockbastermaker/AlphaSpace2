{
 "cells": [
  {
   "cell_type": "markdown",
   "metadata": {},
   "source": [
    "This is a testing example of using hdbscan to cluster alpha atom into pockets"
   ]
  },
  {
   "cell_type": "code",
   "execution_count": 1,
   "metadata": {},
   "outputs": [
    {
     "name": "stdout",
     "output_type": "stream",
     "text": [
      "1 snapshot processed\n"
     ]
    }
   ],
   "source": [
    "from sklearn.datasets import make_blobs\n",
    "import pandas as pd\n",
    "import hdbscan\n",
    "import mdtraj\n",
    "import alphaspace as alp\n",
    "import numpy as np\n",
    "\n",
    "uni = alp.AS_Universe(mdtraj.load('../mdm2_p53/mdm2_p53.pdb'))\n",
    "uni.config.cluster_method = 'hdbscan'\n",
    "uni.config.hdbscan_min_samples = 20\n",
    "uni.run_alphaspace()"
   ]
  },
  {
   "cell_type": "code",
   "execution_count": 2,
   "metadata": {},
   "outputs": [
    {
     "data": {
      "application/vnd.jupyter.widget-view+json": {
       "model_id": "dcfcc69f31fc44a6a8d598df29b6449d",
       "version_major": 2,
       "version_minor": 0
      },
      "text/html": [
       "<p>Failed to display Jupyter Widget of type <code>NGLWidget</code>.</p>\n",
       "<p>\n",
       "  If you're reading this message in the Jupyter Notebook or JupyterLab Notebook, it may mean\n",
       "  that the widgets JavaScript is still loading. If this message persists, it\n",
       "  likely means that the widgets JavaScript library is either not installed or\n",
       "  not enabled. See the <a href=\"https://ipywidgets.readthedocs.io/en/stable/user_install.html\">Jupyter\n",
       "  Widgets Documentation</a> for setup instructions.\n",
       "</p>\n",
       "<p>\n",
       "  If you're reading this message in another frontend (for example, a static\n",
       "  rendering on GitHub or <a href=\"https://nbviewer.jupyter.org/\">NBViewer</a>),\n",
       "  it may mean that your frontend doesn't currently support widgets.\n",
       "</p>\n"
      ],
      "text/plain": [
       "NGLWidget()"
      ]
     },
     "metadata": {},
     "output_type": "display_data"
    }
   ],
   "source": [
    "uni.draw(show_binder=True,surface_opacity=1)"
   ]
  },
  {
   "cell_type": "code",
   "execution_count": 3,
   "metadata": {},
   "outputs": [],
   "source": [
    "alpha_xyz = np.array(uni.data[0].xyz())\n",
    "\n",
    "clusterer = hdbscan.HDBSCAN(metric='euclidean',\n",
    "#                             min_samples=5\n",
    "                           )\n",
    "\n",
    "clusterer.fit(alpha_xyz,)\n",
    "\n",
    "labels = clusterer.labels_\n",
    "\n",
    "for i,xyz in enumerate(alpha_xyz):\n",
    "    if labels[i] < 0:\n",
    "        continue\n",
    "    uni._draw_as_sphere(list(xyz*10),color=uni.config.color(labels[i]),radius=0.5)"
   ]
  },
  {
   "cell_type": "code",
   "execution_count": 3,
   "metadata": {},
   "outputs": [],
   "source": [
    "uni.view_alphas(active_only=False)"
   ]
  },
  {
   "cell_type": "code",
   "execution_count": null,
   "metadata": {},
   "outputs": [],
   "source": [
    "uni._ngl_view.shape.add_buffer(\"sphere\", position=[0,0,0], color=[1.0, 0.7529411764705882, 0.7960784313725489], radius=[1])"
   ]
  },
  {
   "cell_type": "code",
   "execution_count": 8,
   "metadata": {},
   "outputs": [
    {
     "data": {
      "text/plain": [
       "{'blue': [0.22265625, 0.44921875, 0.671875],\n",
       " 'coral': [0.99609375, 0.25, 0.25],\n",
       " 'coregreen': [0.3046875, 0.6328125, 0.3046875],\n",
       " 'dkpurple': [0.5390625, 0.39453125, 0.63671875],\n",
       " 'foam': [0.48828125, 0.7578125, 0.75],\n",
       " 'gold': [0.8984375, 0.7578125, 0.0],\n",
       " 'lime': [0.74609375, 0.99609375, 0.0],\n",
       " 'ltblue': [0.44140625, 0.671875, 0.8359375],\n",
       " 'ltgreen': [0.49609375, 0.7578125, 0.48828125],\n",
       " 'orange': [0.99609375, 0.5078125, 0.1015625],\n",
       " 'peach': [0.8671875, 0.59375, 0.4765625],\n",
       " 'peri': [0.48828125, 0.49609375, 0.7578125],\n",
       " 'pink': [0.8671875, 0.4765625, 0.5546875],\n",
       " 'rasp': [0.54296875, 0.0, 0.26953125],\n",
       " 'teal': [0.0, 0.64453125, 0.64453125]}"
      ]
     },
     "execution_count": 8,
     "metadata": {},
     "output_type": "execute_result"
    }
   ],
   "source": [
    "uni.config._COLOR_DICT"
   ]
  }
 ],
 "metadata": {
  "kernelspec": {
   "display_name": "Python 3",
   "language": "python",
   "name": "python3"
  },
  "language_info": {
   "codemirror_mode": {
    "name": "ipython",
    "version": 3
   },
   "file_extension": ".py",
   "mimetype": "text/x-python",
   "name": "python",
   "nbconvert_exporter": "python",
   "pygments_lexer": "ipython3",
   "version": "3.6.4"
  }
 },
 "nbformat": 4,
 "nbformat_minor": 2
}
