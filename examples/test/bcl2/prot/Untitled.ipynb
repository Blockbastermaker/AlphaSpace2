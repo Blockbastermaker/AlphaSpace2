{
 "cells": [
  {
   "cell_type": "code",
   "execution_count": 1,
   "metadata": {},
   "outputs": [],
   "source": [
    "import matplotlib.pyplot as plt \n",
    "import numpy as np"
   ]
  },
  {
   "cell_type": "code",
   "execution_count": 12,
   "metadata": {},
   "outputs": [],
   "source": [
    "naccess_mdtraj_sasa = {}\n",
    "\n",
    "for i in range(1,11):\n",
    "    with open(\"{}.asa\".format(i),'r') as handle:\n",
    "        for lines in handle.readlines():\n",
    "            naccess_mdtraj_sasa[(i,lines.split()[2],int(lines.split()[4]))] = [float(lines.split()[8])]\n",
    "        \n",
    "for i in range(1,11):\n",
    "    with open(\"md_reduced_{}.pdb\".format(i),'r') as handle:\n",
    "        for lines in handle.readlines():\n",
    "            if (i,lines.split()[1],int(lines.split()[2])+1) in naccess_mdtraj_sasa:\n",
    "                naccess_mdtraj_sasa[(i,lines.split()[1],int(lines.split()[2])+1)].append(float(lines.split()[3]))\n",
    "            else:\n",
    "                pass\n",
    "            \n",
    "                \n",
    "                                                                              \n",
    "            "
   ]
  },
  {
   "cell_type": "code",
   "execution_count": 17,
   "metadata": {},
   "outputs": [
    {
     "data": {
      "image/png": "[encoded data removed]",
      "text/plain": [
       "<matplotlib.figure.Figure at 0x10ebe2828>"
      ]
     },
     "metadata": {},
     "output_type": "display_data"
    }
   ],
   "source": [
    "sasa = []\n",
    "for i in naccess_mdtraj_sasa:\n",
    "    x = naccess_mdtraj_sasa[i]\n",
    "    sasa.append(x)\n",
    "#     print(x)\n",
    "sasa = np.array(sasa).transpose()\n",
    "\n",
    "plt.scatter(x = sasa[0],y = sasa[1])\n",
    "plt.show()\n"
   ]
  },
  {
   "cell_type": "code",
   "execution_count": null,
   "metadata": {},
   "outputs": [],
   "source": []
  }
 ],
 "metadata": {
  "kernelspec": {
   "display_name": "Python 3",
   "language": "python",
   "name": "python3"
  },
  "language_info": {
   "codemirror_mode": {
    "name": "ipython",
    "version": 3
   },
   "file_extension": ".py",
   "mimetype": "text/x-python",
   "name": "python",
   "nbconvert_exporter": "python",
   "pygments_lexer": "ipython3",
   "version": "3.6.3"
  }
 },
 "nbformat": 4,
 "nbformat_minor": 2
}
