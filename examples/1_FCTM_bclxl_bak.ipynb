{
 "cells": [
  {
   "cell_type": "markdown",
   "metadata": {
    "pycharm": {}
   },
   "source": [
    "<h1>FCTM</h1>\n",
    "<p>This tutorial will introduce you to FCTM fragment centric topographical mapping of a single snapshot. For older version, click <a href=\"https://www.nyu.edu/projects/yzhang/AlphaSpace/\" target=\"_blank\">here</a>.</p>\n",
    "\n",
    "<p>Please note several functionalities have been changed or deprecated in this version, If you are familiar with AlphaSpace 1.0, here you will see some reference to its tutorial, otherwise you can ignore them.</p>\n"
   ]
  },
  {
   "cell_type": "markdown",
   "metadata": {
    "pycharm": {}
   },
   "source": [
    "# 1. Program requirements\n",
    "\n",
    "Python, SciPy, NumPy, Mdtraj, Jupyter\n",
    "\n",
    "These dependencies should be installed automatically when you install AlphaSpace.\n",
    "\n",
    "To view how to install, please proceed to [README.md](../README.md)\n",
    "\n",
    "Now AlphaSpace 2.0 no longer requires Naccess for ASA calculation, it is replaced by [Shrake and Rupley](http://mdtraj.org/1.7.2/examples/solvent-accessible-surface-area.html)."
   ]
  },
  {
   "cell_type": "markdown",
   "metadata": {
    "pycharm": {}
   },
   "source": [
    "# 2. Load PDB File\n",
    "\n",
    "AlphaSpace 2.0 can process multiple snapshots from a simulation, but for now let's start with a single snapshot. We will use the mdm2-p53 complex, same as 1.0 tutorial.\n",
    "\n",
    "AlphaSpace can map a complete protein surface or can be restricted to map just the interface between a receptor protein and a binding partner. The \"receptor\"/\"protein\" part and the \"binder\"/\"ligand\" part can be automatically identified, or manually set.\n",
    "\n",
    "First Import the modules, you should see them"
   ]
  },
  {
   "cell_type": "code",
   "execution_count": 1,
   "metadata": {
    "pycharm": {
     "is_executing": false
    }
   },
   "outputs": [],
   "source": [
    "import alphaspace2 as al\n",
    "import mdtraj\n",
    "import os\n",
    "import matplotlib.pyplot as plt"
   ]
  },
  {
   "cell_type": "code",
   "execution_count": 2,
   "metadata": {
    "pycharm": {
     "is_executing": false
    }
   },
   "outputs": [],
   "source": [
    "# Load in receptor and ligand seperately using mdtraj. So you can load anything that is supported by mdtraj.\n",
    "receptor = mdtraj.load(\"Example_proteins/BclXL_BAK/prot.pdb\")\n",
    "binder = mdtraj.load(\"Example_proteins/BclXL_BAK/lig.pdb\")"
   ]
  },
  {
   "cell_type": "code",
   "execution_count": 3,
   "metadata": {
    "pycharm": {
     "is_executing": false
    }
   },
   "outputs": [],
   "source": [
    "# If you have the pdbqt file of the receptor, you can calculate the Vina Score. You can load the pdbqt file like this\n",
    "al.annotateVinaAtomTypes(pdbqt=\"Example_proteins/BclXL_BAK/prot.pdbqt\", receptor=receptor)"
   ]
  },
  {
   "cell_type": "code",
   "execution_count": 4,
   "metadata": {
    "pycharm": {
     "is_executing": false
    }
   },
   "outputs": [],
   "source": [
    "# Initialize a snapshot object, this will contain the receptor and the binder informations\n",
    "ss = al.Snapshot()\n",
    "# Run the snapshot object by feeding it receptor and binder mdtraj objects.\n",
    "ss.run(receptor=receptor, binder=binder)"
   ]
  },
  {
   "cell_type": "code",
   "execution_count": 5,
   "metadata": {
    "pycharm": {
     "is_executing": false
    }
   },
   "outputs": [
    {
     "name": "stdout",
     "text": [
      "Pocket 1 has alpha-space of 265.0 A3, BetaScore of -7.3 kcal/mol and is 46% occupied\n['F', 'F', 'F', 'F', 'F', 'F', 'Cl', 'Br']\nPocket 2 has alpha-space of 163.0 A3, BetaScore of -4.3 kcal/mol and is 26% occupied\n['F', 'F', 'C', 'Cl', 'I', 'I', 'I', 'I']\nPocket 3 has alpha-space of 132.0 A3, BetaScore of -3.4 kcal/mol and is 61% occupied\n['F', 'F', 'I', 'F', 'C']\nPocket 4 has alpha-space of 68.0 A3, BetaScore of -3.4 kcal/mol and is 92% occupied\n['F', 'F', 'I', 'I', 'F', 'I', 'F']\nPocket 5 has alpha-space of 67.0 A3, BetaScore of -1.3 kcal/mol and is 67% occupied\n['I', 'I', 'I', 'I']\nPocket 6 has alpha-space of 60.0 A3, BetaScore of -1.9 kcal/mol and is 65% occupied\n['I', 'I', 'F', 'C', 'I']\nPocket 7 has alpha-space of 51.0 A3, BetaScore of -1.6 kcal/mol and is 11% occupied\n['F', 'I', 'I', 'F']\nPocket 8 has alpha-space of 51.0 A3, BetaScore of -1.9 kcal/mol and is 38% occupied\n['I', 'I', 'F', 'I', 'Cl']\nPocket 9 has alpha-space of 46.0 A3, BetaScore of -1.8 kcal/mol and is 26% occupied\n['F', 'I', 'I', 'SA', 'F']\nPocket 10 has alpha-space of 3.0 A3, BetaScore of -0.6 kcal/mol and is 35% occupied\n['I', 'C']\n"
     ],
     "output_type": "stream"
    }
   ],
   "source": [
    "# You can use a simple for loop to iterate over all pockets found in the snapshot\n",
    "pocket_index = 0\n",
    "for p in sorted(ss.pockets, key=lambda i: i.space, reverse=True):\n",
    "    if p.isContact:\n",
    "        pocket_index+=1\n",
    "        print(\n",
    "            \"Pocket {} has alpha-space of {} A3, BetaScore of {:.1f} kcal/mol and is {:.0f}% occupied\".format(pocket_index, round(p.space), p.score,\n",
    "                                                                                          (p.occupancy * 100))\n",
    "        )"
   ]
  },
  {
   "cell_type": "code",
   "execution_count": 6,
   "metadata": {
    "scrolled": true,
    "pycharm": {
     "is_executing": false
    }
   },
   "outputs": [
    {
     "data": {
      "text/plain": "<matplotlib.figure.Figure at 0x7f9e58ae7668>",
      "image/png": "[encoded data removed]"
     },
     "metadata": {},
     "output_type": "display_data"
    }
   ],
   "source": [
    "spaces = []\n",
    "scores = []\n",
    "\n",
    "for p in sorted(ss.pockets, key=lambda i: i.space, reverse=True):\n",
    "    if p.isContact:\n",
    "        for beta in p.betas:\n",
    "            spaces.append(beta.space)\n",
    "            scores.append(beta.score)\n",
    "            \n",
    "plt.scatter(x = spaces,y = scores)\n",
    "plt.xlabel(\"Space\")\n",
    "plt.ylabel(\"BetaScore\")\n",
    "plt.title('Beta Atom Space vs Beta Score')\n",
    "plt.show()"
   ]
  },
  {
   "cell_type": "markdown",
   "metadata": {
    "pycharm": {}
   },
   "source": [
    "To visualize the system, you can call the save method from the snapshot"
   ]
  },
  {
   "cell_type": "code",
   "execution_count": 7,
   "metadata": {
    "pycharm": {
     "is_executing": false,
     "name": "#%%\n"
    }
   },
   "outputs": [],
   "source": [
    "ss.save(receptor=receptor,binder=binder, output_dir='Example_proteins/BclXL_BAK/')"
   ]
  },
  {
   "cell_type": "markdown",
   "source": [
    "<img src=\"Example_proteins/BclXL_BAK/bclxl-bak.png\" style=\"height:300px\">\n"
   ],
   "metadata": {
    "collapsed": false
   }
  }
 ],
 "metadata": {
  "kernelspec": {
   "display_name": "Python 3",
   "language": "python",
   "name": "python3"
  },
  "language_info": {
   "codemirror_mode": {
    "name": "ipython",
    "version": 3
   },
   "file_extension": ".py",
   "mimetype": "text/x-python",
   "name": "python",
   "nbconvert_exporter": "python",
   "pygments_lexer": "ipython3",
   "version": "3.6.8"
  },
  "pycharm": {
   "stem_cell": {
    "cell_type": "raw",
    "source": [],
    "metadata": {
     "collapsed": false
    }
   }
  }
 },
 "nbformat": 4,
 "nbformat_minor": 2
}