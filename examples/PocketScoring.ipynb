{
 "cells": [
  {
   "cell_type": "markdown",
   "metadata": {},
   "source": [
    "#How to calculate Beta Atom and Pocket Score with Vina Scoring function.\n",
    "\n",
    "This example showcases how you can score a pocket or its child beta atoms from AutoDock Vina scoring function. For the detailed methodology, please refer to [link to paper](to be filled). \n",
    "\n",
    "In this example, we will use the mdm2_p53 complex, it has already been processed into pdbqt file. You can find mdm2_p53.pdb and mdm2_p53.pdbqt in examples/mdm2_p53 folder.\n"
   ]
  },
  {
   "cell_type": "code",
   "execution_count": 7,
   "metadata": {},
   "outputs": [
    {
     "name": "stdout",
     "output_type": "stream",
     "text": [
      "Receptor of 85 residues 706 atoms | Binder of 13 residues 113 atoms\n"
     ]
    }
   ],
   "source": [
    "import alphaspace, mdtraj\n",
    "pdbqt_file = \"mdm2_p53/mdm2_p53.pdbqt\"\n",
    "pdb_file = \"mdm2_p53/mdm2_p53.pdb\"\n",
    "\n",
    "u = alphaspace.AS_Universe(mdtraj.load(pdb_file),guess_receptor_binder=True, guess_by_order=True)\n",
    "print(u)"
   ]
  },
  {
   "cell_type": "markdown",
   "metadata": {},
   "source": [
    "First we load the files and create universe containers. It is required that a pdbqt file is provided for the given structure topology. To load the pdbqt file for atom types:"
   ]
  },
  {
   "cell_type": "code",
   "execution_count": 8,
   "metadata": {},
   "outputs": [],
   "source": [
    "u.set_pdbqt(pdbqt_file)"
   ]
  },
  {
   "cell_type": "code",
   "execution_count": 9,
   "metadata": {},
   "outputs": [
    {
     "name": "stdout",
     "output_type": "stream",
     "text": [
      "1 snapshot processed\n"
     ]
    }
   ],
   "source": [
    "# remember to run alphaspace before the score calculation\n",
    "u.run_alphaspace()"
   ]
  },
  {
   "cell_type": "markdown",
   "metadata": {},
   "source": [
    "To calculate the scores for a particular snapshot (in this case it's just the first one), call:"
   ]
  },
  {
   "cell_type": "code",
   "execution_count": 10,
   "metadata": {},
   "outputs": [],
   "source": [
    "u.calculate_vina_score(snapshot_idx=0)"
   ]
  },
  {
   "cell_type": "markdown",
   "metadata": {},
   "source": [
    "Notice this does not return the vina scores, to access the scores, you need to iterate through pockets or beta atoms.\n",
    "\n",
    "To iterate through pockets and show their scores:"
   ]
  },
  {
   "cell_type": "code",
   "execution_count": 13,
   "metadata": {},
   "outputs": [
    {
     "name": "stdout",
     "output_type": "stream",
     "text": [
      "Pocket #25 Score is -4.738089759357271\n",
      "Pocket #23 Score is -5.053532735022768\n",
      "Pocket #26 Score is -4.06492503522362\n",
      "Pocket #43 Score is -2.2002369420489845\n",
      "Pocket #31 Score is -0.9707152690733121\n",
      "Pocket #42 Score is -1.7881403814371652\n",
      "Pocket #30 Score is -0.8180569300578275\n"
     ]
    }
   ],
   "source": [
    "for pocket in u.pockets(snapshot_idx=0):\n",
    "    print(\"Pocket #{} Score is {}\".format(pocket.index,pocket.score))"
   ]
  },
  {
   "cell_type": "markdown",
   "metadata": {},
   "source": [
    "To iterate through the pockets and it's member beta atoms:"
   ]
  },
  {
   "cell_type": "code",
   "execution_count": 15,
   "metadata": {},
   "outputs": [
    {
     "name": "stdout",
     "output_type": "stream",
     "text": [
      "Pocket #25 Score is -4.738089759357271\n",
      "   Beta Atom Score is -0.3656820026916733\n",
      "   Beta Atom Score is -0.6490853054262881\n",
      "   Beta Atom Score is -0.6517621643853571\n",
      "   Beta Atom Score is -0.8430732073164052\n",
      "   Beta Atom Score is -0.86451894236163\n",
      "   Beta Atom Score is -0.7076785480632686\n",
      "   Beta Atom Score is -0.6562895891126488\n",
      "Pocket #23 Score is -5.053532735022768\n",
      "   Beta Atom Score is -0.3803134705878164\n",
      "   Beta Atom Score is -0.20895172165860193\n",
      "   Beta Atom Score is -0.6398306660161688\n",
      "   Beta Atom Score is -0.20544228892464309\n",
      "   Beta Atom Score is -0.7639768494053025\n",
      "   Beta Atom Score is -0.5877117596720799\n",
      "   Beta Atom Score is -0.27551598007118067\n",
      "   Beta Atom Score is -0.6397777751994833\n",
      "   Beta Atom Score is -0.5725390676353832\n",
      "   Beta Atom Score is -0.5864888622052723\n",
      "   Beta Atom Score is -0.19298429364683498\n",
      "Pocket #26 Score is -4.06492503522362\n",
      "   Beta Atom Score is -0.4996259551961253\n",
      "   Beta Atom Score is -0.5846157090719624\n",
      "   Beta Atom Score is -0.2505275590645453\n",
      "   Beta Atom Score is -0.24928809350642575\n",
      "   Beta Atom Score is -0.5415722777481851\n",
      "   Beta Atom Score is -0.8384169144912936\n",
      "   Beta Atom Score is -0.313343059078923\n",
      "   Beta Atom Score is -0.46289538160342014\n",
      "   Beta Atom Score is -0.3246400854627399\n",
      "Pocket #43 Score is -2.2002369420489845\n",
      "   Beta Atom Score is -0.7529896927045931\n",
      "   Beta Atom Score is -0.5271076086619401\n",
      "   Beta Atom Score is -0.3022666373603328\n",
      "   Beta Atom Score is -0.38688950085155016\n",
      "   Beta Atom Score is -0.23098350247056834\n",
      "Pocket #31 Score is -0.9707152690733121\n",
      "   Beta Atom Score is -0.4399492606940476\n",
      "   Beta Atom Score is -0.1516333333737509\n",
      "   Beta Atom Score is -0.37913267500551345\n",
      "Pocket #42 Score is -1.7881403814371652\n",
      "   Beta Atom Score is -0.36497969176898193\n",
      "   Beta Atom Score is -0.40366442778715467\n",
      "   Beta Atom Score is -0.2194800428678233\n",
      "   Beta Atom Score is -0.22238887391705173\n",
      "   Beta Atom Score is -0.5776273450961535\n",
      "Pocket #30 Score is -0.8180569300578275\n",
      "   Beta Atom Score is -0.4189921721903641\n",
      "   Beta Atom Score is -0.3990647578674634\n"
     ]
    }
   ],
   "source": [
    "for pocket in u.pockets(snapshot_idx=0):\n",
    "    print(\"Pocket #{} Score is {}\".format(pocket.index,pocket.score))\n",
    "    for beta in pocket.betas:\n",
    "        print(\"   Beta Atom Score is {}\".format(beta.score))"
   ]
  }
 ],
 "metadata": {
  "kernelspec": {
   "display_name": "Python 3",
   "language": "python",
   "name": "python3"
  },
  "language_info": {
   "codemirror_mode": {
    "name": "ipython",
    "version": 3
   },
   "file_extension": ".py",
   "mimetype": "text/x-python",
   "name": "python",
   "nbconvert_exporter": "python",
   "pygments_lexer": "ipython3",
   "version": "3.6.4"
  }
 },
 "nbformat": 4,
 "nbformat_minor": 2
}
