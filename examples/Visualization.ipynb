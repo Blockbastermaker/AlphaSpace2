{
 "cells": [
  {
   "cell_type": "code",
   "execution_count": 1,
   "metadata": {},
   "outputs": [
    {
     "name": "stdout",
     "output_type": "stream",
     "text": [
      "1 snapshot processed\n"
     ]
    }
   ],
   "source": [
    "# The following section shows how you can visualize alphaspace pocket and protein structure in single snapshot sett\n",
    "\n",
    "import alphaspace as al\n",
    "import mdtraj\n",
    "\n",
    "u = al.AS_Universe(mdtraj.load(\"/Users/haotian/Dropbox/pycharm_project/AlphaSpace/examples/mdm2_p53/mdm2_p53.pdb\"))\n",
    "u.run_alphaspace()"
   ]
  },
  {
   "cell_type": "code",
   "execution_count": 2,
   "metadata": {},
   "outputs": [
    {
     "data": {
<<<<<<< HEAD
=======
      "application/vnd.jupyter.widget-view+json": {
       "model_id": "c52601656a1b4d499672a555c4121598",
       "version_major": 2,
       "version_minor": 0
      },
      "text/html": [
       "<p>Failed to display Jupyter Widget of type <code>NGLWidget</code>.</p>\n",
       "<p>\n",
       "  If you're reading this message in the Jupyter Notebook or JupyterLab Notebook, it may mean\n",
       "  that the widgets JavaScript is still loading. If this message persists, it\n",
       "  likely means that the widgets JavaScript library is either not installed or\n",
       "  not enabled. See the <a href=\"https://ipywidgets.readthedocs.io/en/stable/user_install.html\">Jupyter\n",
       "  Widgets Documentation</a> for setup instructions.\n",
       "</p>\n",
       "<p>\n",
       "  If you're reading this message in another frontend (for example, a static\n",
       "  rendering on GitHub or <a href=\"https://nbviewer.jupyter.org/\">NBViewer</a>),\n",
       "  it may mean that your frontend doesn't currently support widgets.\n",
       "</p>\n"
      ],
>>>>>>> iterload
      "text/plain": [
       "NGLWidget()"
      ]
     },
     "metadata": {},
     "output_type": "display_data"
    }
   ],
   "source": [
    "u.draw()"
   ]
  },
  {
   "cell_type": "code",
<<<<<<< HEAD
   "execution_count": 4,
=======
   "execution_count": 3,
>>>>>>> iterload
   "metadata": {},
   "outputs": [],
   "source": [
    "u.view_pocket_centers(active_only=False)"
   ]
  },
  {
   "cell_type": "code",
<<<<<<< HEAD
   "execution_count": 5,
   "metadata": {},
=======
   "execution_count": 4,
   "metadata": {
    "scrolled": true
   },
>>>>>>> iterload
   "outputs": [],
   "source": [
    "u.draw_pocket_graph(active_only=False)"
   ]
  },
  {
   "cell_type": "code",
   "execution_count": 4,
   "metadata": {},
   "outputs": [],
   "source": [
    "u.view_betas()\n",
    "\n",
    "u.view_alphas()\n",
    "\n",
    "\n",
    "u.view_pocket_centers(active_only=False)\n",
    "\n",
    "u.draw_pocket_graph(active_only=False)"
   ]
  },
  {
   "cell_type": "code",
   "execution_count": 1,
   "metadata": {},
   "outputs": [],
   "source": [
    "# This section shows how you can show D-pocket information.\n",
    "import alphaspace as al\n",
    "import mdtraj\n",
    "import numpy as np\n",
    "u = al.AS_Universe()\n",
    "u.load(\"/Users/haotian/Desktop/snapshots/bcl2/holo1/vina_d_core.as\")"
   ]
  },
  {
   "cell_type": "code",
   "execution_count": 2,
   "metadata": {
    "scrolled": true
   },
   "outputs": [
    {
     "data": {
      "application/vnd.jupyter.widget-view+json": {
       "model_id": "2107e1757ad94eb88adedf5cd779e46e",
       "version_major": 2,
       "version_minor": 0
      },
      "text/html": [
       "<p>Failed to display Jupyter Widget of type <code>NGLWidget</code>.</p>\n",
       "<p>\n",
       "  If you're reading this message in the Jupyter Notebook or JupyterLab Notebook, it may mean\n",
       "  that the widgets JavaScript is still loading. If this message persists, it\n",
       "  likely means that the widgets JavaScript library is either not installed or\n",
       "  not enabled. See the <a href=\"https://ipywidgets.readthedocs.io/en/stable/user_install.html\">Jupyter\n",
       "  Widgets Documentation</a> for setup instructions.\n",
       "</p>\n",
       "<p>\n",
       "  If you're reading this message in another frontend (for example, a static\n",
       "  rendering on GitHub or <a href=\"https://nbviewer.jupyter.org/\">NBViewer</a>),\n",
       "  it may mean that your frontend doesn't currently support widgets.\n",
       "</p>\n"
      ],
      "text/plain": [
       "NGLWidget(count=160)"
      ]
     },
     "metadata": {},
     "output_type": "display_data"
    }
   ],
   "source": [
    "view = u.draw(snapshot_idx=0,show_binder=False,surface_opacity=0)\n",
    "view"
   ]
  },
  {
   "cell_type": "code",
   "execution_count": 72,
   "metadata": {},
   "outputs": [],
   "source": [
<<<<<<< HEAD
    "for dpocket in u.d_pockets:\n",
    "    centroid = np.average([pocket.centroid for pocket in dpocket],axis=0)\n",
    "    u._ngl_view.shape.add_buffer(\"sphere\", position=list(centroid * 10), color=[1,0,0],\n",
    "                                radius=[len(dpocket) / 160 * 2])"
=======
    "def rgb(minimum, maximum, value):\n",
    "    minimum, maximum = float(minimum), float(maximum)\n",
    "    ratio = 2 * (value - minimum) / (maximum - minimum)\n",
    "    b = int(max(0, 255 * (1 - ratio)))\n",
    "    r = int(max(0, 255 * (ratio - 1)))\n",
    "    g = 255 - b - r\n",
    "    return [r, g, b]\n",
    "\n",
    "\n",
    "\n",
    "\n",
    "scores = []\n",
    "for dp in u.d_pockets:\n",
    "    scores.append(-np.average([pocket.score for pocket in dp]))\n",
    "\n",
    "second_best = sorted(scores,reverse=True)[int(len(scores)/10)]\n",
    "\n",
    "for i,dp in enumerate(u.d_pockets):\n",
    "    centroid = list(np.average([pocket.centroid for pocket in dp],axis=0)* 10)\n",
    "    stability  = len(set([pocket.snapshot_idx for pocket in dp]))\n",
    "    score = scores[i]\n",
    "    u._draw_as_sphere(centroid,color= rgb(min(scores),second_best,score),\n",
    "                      radius= stability / 40 + 0.5,opacity=0.9)\n",
    "#     print(np.average([pocket.score for pocket in dp]))\n",
    "#     u._draw_as_sphere(centroid,color=rgb(1,160,160),radius=-np.average([pocket.score for pocket in dp]),opacity=len(set([pocket.snapshot_idx for pocket in dp])) / 320 + 0.5)"
   ]
  },
  {
   "cell_type": "code",
   "execution_count": 73,
   "metadata": {},
   "outputs": [],
   "source": [
    "union_overlap, time_overlap = u._connect_d_pockets()\n",
    "overlap = union_overlap - time_overlap"
>>>>>>> iterload
   ]
  },
  {
   "cell_type": "code",
   "execution_count": 74,
   "metadata": {
    "scrolled": true
   },
   "outputs": [
    {
     "name": "stdout",
     "output_type": "stream",
     "text": [
      "hit\n",
      "hit\n",
      "hit\n",
      "hit\n",
      "hit\n",
      "hit\n",
      "hit\n",
      "hit\n",
      "hit\n",
      "hit\n",
      "hit\n",
      "hit\n",
      "hit\n",
      "hit\n",
      "hit\n",
      "hit\n",
      "hit\n",
      "hit\n",
      "hit\n",
      "hit\n",
      "hit\n",
      "hit\n",
      "hit\n",
      "hit\n",
      "hit\n",
      "hit\n",
      "hit\n",
      "hit\n",
      "hit\n",
      "hit\n",
      "hit\n",
      "hit\n",
      "hit\n",
      "hit\n",
      "hit\n",
      "hit\n",
      "hit\n",
      "hit\n",
      "hit\n",
      "hit\n",
      "hit\n",
      "hit\n",
      "hit\n",
      "hit\n",
      "hit\n",
      "hit\n",
      "hit\n",
      "hit\n",
      "hit\n",
      "hit\n",
      "hit\n",
      "hit\n",
      "hit\n",
      "hit\n",
      "hit\n",
      "hit\n",
      "hit\n",
      "hit\n",
      "hit\n",
      "hit\n",
      "hit\n"
     ]
    }
   ],
   "source": [
    "from itertools import combinations\n",
    "d_pockets = list(u.d_pockets)\n",
    "for i, j in combinations(range(len(scores)),2):\n",
    "    if overlap[i,j] > 10:\n",
    "        print('hit')\n",
    "        position1 = list(np.average([pocket.centroid for pocket in d_pockets[i]],axis=0)* 10)\n",
    "        position2 = list(np.average([pocket.centroid for pocket in d_pockets[j]],axis=0)* 10)\n",
    "        u._draw_cylinder(position1=position1,position2 = position2, color=[0,0,0],radius=[overlap[i,j] / 100],opacity=1)\n",
    "    "
   ]
  },
  {
   "cell_type": "code",
   "execution_count": 63,
   "metadata": {},
   "outputs": [
    {
     "data": {
      "image/png": "iVBORw0KGgoAAAANSUhEUgAAAXwAAAD8CAYAAAB0IB+mAAAABHNCSVQICAgIfAhkiAAAAAlwSFlz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\n",
      "text/plain": [
       "<matplotlib.figure.Figure at 0x1523f66710>"
      ]
     },
     "metadata": {},
     "output_type": "display_data"
    }
   ],
   "source": [
    "import numpy as np\n",
    "import matplotlib.pyplot as plt\n",
    "\n",
    "plt.hist((overlap[overlap > 0].flatten()))\n",
    "plt.show()"
   ]
  }
 ],
 "metadata": {
  "kernelspec": {
   "display_name": "Python 3",
   "language": "python",
   "name": "python3"
  },
  "language_info": {
   "codemirror_mode": {
    "name": "ipython",
    "version": 3
   },
   "file_extension": ".py",
   "mimetype": "text/x-python",
   "name": "python",
   "nbconvert_exporter": "python",
   "pygments_lexer": "ipython3",
   "version": "3.6.4"
  }
 },
 "nbformat": 4,
 "nbformat_minor": 2
}
