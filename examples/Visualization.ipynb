{
 "cells": [
  {
   "cell_type": "code",
   "execution_count": 1,
   "metadata": {},
   "outputs": [
    {
     "name": "stdout",
     "output_type": "stream",
     "text": [
      "1 snapshot processed\n"
     ]
    }
   ],
   "source": [
    "# The following section shows how you can visualize alphaspace pocket and protein structure in single snapshot sett\n",
    "\n",
    "import alphaspace as al\n",
    "import mdtraj\n",
    "\n",
    "u = al.AS_Universe(mdtraj.load(\"/Users/haotian/Dropbox/pycharm_project/AlphaSpace/examples/mdm2_p53/mdm2_p53.pdb\"))\n",
    "u.run_alphaspace()"
   ]
  },
  {
   "cell_type": "code",
   "execution_count": 3,
   "metadata": {},
   "outputs": [
    {
     "data": {
      "text/plain": [
       "A Jupyter Widget"
      ]
     },
     "metadata": {},
     "output_type": "display_data"
    }
   ],
   "source": [
    "u.draw()"
   ]
  },
  {
   "cell_type": "code",
   "execution_count": 4,
   "metadata": {},
   "outputs": [],
   "source": [
    "u.view_pocket_centers(active_only=False)"
   ]
  },
  {
   "cell_type": "code",
   "execution_count": 5,
   "metadata": {},
   "outputs": [],
   "source": [
    "u.draw_pocket_graph(active_only=False)"
   ]
  },
  {
   "cell_type": "code",
   "execution_count": 4,
   "metadata": {},
   "outputs": [],
   "source": [
    "\n",
    "\n",
    "u.view_betas()\n",
    "\n",
    "u.view_alphas()\n",
    "\n",
    "\n",
    "u.view_pocket_centers(active_only=False)\n",
    "\n",
    "u.draw_pocket_graph(active_only=False)"
   ]
  },
  {
   "cell_type": "code",
   "execution_count": 7,
   "metadata": {},
   "outputs": [],
   "source": [
    "# This section shows how you can show D-pocket information.\n",
    "import alphaspace as al\n",
    "import mdtraj\n",
    "import numpy as np\n",
    "u = al.AS_Universe()\n",
    "u.load(\"/Users/haotian/Desktop/snapshots/bcl2/holo1/vina_d_core.as\")"
   ]
  },
  {
   "cell_type": "code",
   "execution_count": 7,
   "metadata": {},
   "outputs": [],
   "source": []
  },
  {
   "cell_type": "code",
   "execution_count": 8,
   "metadata": {},
   "outputs": [
    {
     "data": {
      "text/plain": [
       "A Jupyter Widget"
      ]
     },
     "metadata": {},
     "output_type": "display_data"
    }
   ],
   "source": [
    "view = u.draw(snapshot_idx=0)\n",
    "view"
   ]
  },
  {
   "cell_type": "code",
   "execution_count": 9,
   "metadata": {},
   "outputs": [],
   "source": [
    "for dpocket in u.d_pockets:\n",
    "    centroid = np.average([pocket.centroid for pocket in dpocket],axis=0)\n",
    "    u._ngl_view.shape.add_buffer(\"sphere\", position=list(centroid * 10), color=[1,0,0],\n",
    "                                radius=[len(dpocket) / 160 * 2])"
   ]
  },
  {
   "cell_type": "code",
   "execution_count": null,
   "metadata": {},
   "outputs": [],
   "source": []
  },
  {
   "cell_type": "code",
   "execution_count": null,
   "metadata": {},
   "outputs": [],
   "source": []
  }
 ],
 "metadata": {
  "kernelspec": {
   "display_name": "Python 3",
   "language": "python",
   "name": "python3"
  },
  "language_info": {
   "codemirror_mode": {
    "name": "ipython",
    "version": 3
   },
   "file_extension": ".py",
   "mimetype": "text/x-python",
   "name": "python",
   "nbconvert_exporter": "python",
   "pygments_lexer": "ipython3",
   "version": "3.6.4"
  }
 },
 "nbformat": 4,
 "nbformat_minor": 2
}
