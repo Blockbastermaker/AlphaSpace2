{
 "cells": [
  {
   "cell_type": "markdown",
   "metadata": {},
   "source": [
    "Tutorial for ensemble matching between structures based on alignments."
   ]
  },
  {
   "cell_type": "code",
   "execution_count": 1,
   "metadata": {},
   "outputs": [],
   "source": [
    "import alphaspace as al\n",
    "import mdtraj\n",
    "import matplotlib.pyplot as plt\n",
    "import numpy as np"
   ]
  },
  {
   "cell_type": "markdown",
   "metadata": {},
   "source": [
    "For convenience, we pre aligned the Bcl-2 (PDB ID: 2XA0) and Bcl-xL (PDB ID: 3PL7) structures and prepared .pdbqt files for the protein part."
   ]
  },
  {
   "cell_type": "code",
   "execution_count": 17,
   "metadata": {},
   "outputs": [
    {
     "name": "stdout",
     "output_type": "stream",
     "text": [
      "Vina Atom Type found, calculating BScore\n",
      "Vina Atom Type found, calculating BScore\n"
     ]
    }
   ],
   "source": [
    "al.Snapshot.beta_cluster_dist = 1.3\n",
    "al.Snapshot.pocket_cluster_dist = 4.7\n",
    "\n",
    "bcl2 = mdtraj.load(\"bcl/bcl2.pdb\")\n",
    "bclxl = mdtraj.load(\"bcl/bclxl.pdb\")\n",
    "al.annotateVinaAtomTypes(receptor=bcl2,pdbqt='bcl/bcl2.pdbqt')\n",
    "al.annotateVinaAtomTypes(receptor=bclxl,pdbqt='bcl/bclxl.pdbqt')\n",
    "\n",
    "bcl2_bax = mdtraj.load(\"bcl/bcl2_bax.pdb\")\n",
    "bclxl_bax = mdtraj.load(\"bcl/bclxl_bax.pdb\")\n",
    "\n",
    "ss_bcl2 = al.Snapshot()\n",
    "ss_bcl2.run(bcl2, bcl2_bax)\n",
    "\n",
    "ss_bclxl = al.Snapshot()\n",
    "ss_bclxl.run(bclxl, bclxl_bax)"
   ]
  },
  {
   "cell_type": "markdown",
   "metadata": {},
   "source": [
    "In order to perform pocket comparison, we need to combine multiple snapshots into a Trajectory object."
   ]
  },
  {
   "cell_type": "code",
   "execution_count": 18,
   "metadata": {},
   "outputs": [],
   "source": [
    "bcl2_bclxl = al.Trajectory(snapshots=[ss_bcl2,ss_bclxl])"
   ]
  },
  {
   "cell_type": "markdown",
   "metadata": {},
   "source": [
    "Then generate dpockets:"
   ]
  },
  {
   "cell_type": "code",
   "execution_count": 19,
   "metadata": {},
   "outputs": [],
   "source": [
    "bcl2_bclxl.gen_dpockets(clust_distance=4.7)"
   ]
  },
  {
   "cell_type": "markdown",
   "metadata": {
    "collapsed": true
   },
   "source": [
    "Now we can iterate through d-pockets to see their attributes"
   ]
  },
  {
   "cell_type": "markdown",
   "metadata": {},
   "source": [
    "In order to study each snapshot's contribution to the d-pocket, you can further break up d-pockets into pockets from each individual snapshots in the order they were given. Here you can access the attributes such as beta score:"
   ]
  },
  {
   "cell_type": "code",
   "execution_count": 1,
   "metadata": {
    "scrolled": false
   },
   "outputs": [
    {
     "ename": "NameError",
     "evalue": "name 'ss_bclxl' is not defined",
     "traceback": [
      "\u001b[0;31m---------------------------------------------------------------------------\u001b[0m",
      "\u001b[0;31mNameError\u001b[0m                                 Traceback (most recent call last)",
      "\u001b[0;32m<ipython-input-1-2d179282a2d2>\u001b[0m in \u001b[0;36m<module>\u001b[0;34m()\u001b[0m\n\u001b[1;32m      1\u001b[0m \u001b[0;34m\u001b[0m\u001b[0m\n\u001b[1;32m      2\u001b[0m \u001b[0;34m\u001b[0m\u001b[0m\n\u001b[0;32m----> 3\u001b[0;31m \u001b[0;32mfor\u001b[0m \u001b[0mp\u001b[0m \u001b[0;32min\u001b[0m \u001b[0mss_bclxl\u001b[0m\u001b[0;34m.\u001b[0m\u001b[0mpockets\u001b[0m\u001b[0;34m:\u001b[0m\u001b[0;34m\u001b[0m\u001b[0m\n\u001b[0m\u001b[1;32m      4\u001b[0m     \u001b[0mprint\u001b[0m\u001b[0;34m(\u001b[0m\u001b[0mp\u001b[0m\u001b[0;34m.\u001b[0m\u001b[0mscore\u001b[0m\u001b[0;34m)\u001b[0m\u001b[0;34m\u001b[0m\u001b[0m\n\u001b[1;32m      5\u001b[0m \u001b[0;34m\u001b[0m\u001b[0m\n",
      "\u001b[0;31mNameError\u001b[0m: name 'ss_bclxl' is not defined"
     ],
     "output_type": "error"
    }
   ],
   "source": [
    "\n",
    "\n",
    "for p in ss_bclxl.pockets:\n",
    "    print(p.score)\n",
    "\n",
    "scores = []\n",
    "for dp in bcl2_bclxl.dpockets:\n",
    "    scores.append([pocket.score for pocket in dp.pockets])\n",
    "\n",
    "for snapshot in np.array(scores).transpose():\n",
    "    print(snapshot)"
   ]
  },
  {
   "cell_type": "code",
   "execution_count": null,
   "metadata": {},
   "outputs": [],
   "source": []
  }
 ],
 "metadata": {
  "kernelspec": {
   "display_name": "Python 3",
   "language": "python",
   "name": "python3"
  },
  "language_info": {
   "codemirror_mode": {
    "name": "ipython",
    "version": 3
   },
   "file_extension": ".py",
   "mimetype": "text/x-python",
   "name": "python",
   "nbconvert_exporter": "python",
   "pygments_lexer": "ipython3",
   "version": "3.6.4"
  }
 },
 "nbformat": 4,
 "nbformat_minor": 1
}
