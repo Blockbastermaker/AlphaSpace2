{
 "cells": [
  {
   "cell_type": "markdown",
   "metadata": {},
   "source": [
    "Tutorial for ensemble matching between structures based on alignments."
   ]
  },
  {
   "cell_type": "code",
   "execution_count": 1,
   "metadata": {},
   "outputs": [],
   "source": [
    "import alphaspace as al\n",
    "import mdtraj\n",
    "import os"
   ]
  },
  {
   "cell_type": "markdown",
   "metadata": {},
   "source": [
    "For convenience, we pre aligned the Bcl-2 (PDB ID: 2XA0) and Bcl-xL (PDB ID: 3PL7) structures and prepared .pdbqt files for the protein part."
   ]
  },
  {
   "cell_type": "code",
   "execution_count": 17,
   "metadata": {},
   "outputs": [
    {
     "name": "stdout",
     "output_type": "stream",
     "text": [
      "Vina Atom Type found, calculating BScore\n",
      "Vina Atom Type found, calculating BScore\n"
     ]
    }
   ],
   "source": [
    "al.Snapshot.beta_cluster_dist = 1.3\n",
    "al.Snapshot.pocket_cluster_dist = 4.7\n",
    "\n",
    "bcl2 = mdtraj.load(\"bcl/bcl2.pdb\")\n",
    "bclxl = mdtraj.load(\"bcl/bclxl.pdb\")\n",
    "al.annotateVinaAtomTypes(receptor=bcl2,pdbqt='bcl/bcl2.pdbqt')\n",
    "al.annotateVinaAtomTypes(receptor=bclxl,pdbqt='bcl/bclxl.pdbqt')\n",
    "\n",
    "bcl2_bax = mdtraj.load(\"bcl/bcl2_bax.pdb\")\n",
    "bclxl_bax = mdtraj.load(\"bcl/bclxl_bax.pdb\")\n",
    "\n",
    "ss_bcl2 = al.Snapshot()\n",
    "ss_bcl2.run(bcl2, bcl2_bax)\n",
    "\n",
    "ss_bclxl = al.Snapshot()\n",
    "ss_bclxl.run(bclxl, bclxl_bax)"
   ]
  },
  {
   "cell_type": "markdown",
   "metadata": {},
   "source": [
    "In order to perform pocket comparison, we need to combine multiple snapshots into a Trajectory object."
   ]
  },
  {
   "cell_type": "code",
   "execution_count": 18,
   "metadata": {},
   "outputs": [],
   "source": [
    "bcl2_bclxl = al.Trajectory(snapshots=[ss_bcl2,ss_bclxl])"
   ]
  },
  {
   "cell_type": "markdown",
   "metadata": {},
   "source": [
    "Then generate dpockets:"
   ]
  },
  {
   "cell_type": "code",
   "execution_count": 19,
   "metadata": {},
   "outputs": [],
   "source": [
    "bcl2_bclxl.gen_dpockets(clust_distance=4.7)"
   ]
  },
  {
   "cell_type": "markdown",
   "metadata": {
    "collapsed": true
   },
   "source": [
    "Now we can iterate through d-pockets to see their attributes"
   ]
  },
  {
   "cell_type": "markdown",
   "metadata": {},
   "source": [
    "In order to study each snapshot's contribution to the d-pocket, you can further break up d-pockets into pockets from each individual snapshots in the order they were given. Here you can access the attributes such as beta score:"
   ]
  },
  {
   "cell_type": "code",
   "execution_count": 20,
   "metadata": {
    "scrolled": false
   },
   "outputs": [
    {
     "name": "stdout",
     "output_type": "stream",
     "text": [
      "-0.678071\n",
      "27.3734\n",
      "-1.29674\n",
      "-0.65038\n",
      "6.179\n",
      "-1.29674\n",
      "74.3948\n",
      "-0.48724\n",
      "-0.939742\n",
      "-0.353606\n",
      "9.0958\n",
      "14.627\n",
      "27.8278\n",
      "29.7877\n",
      "9.14362\n",
      "-0.0855858\n",
      "27.0835\n",
      "48.5416\n",
      "-0.809004\n",
      "34.4192\n",
      "-0.0855858\n",
      "-1.1482\n",
      "29.5952\n",
      "-0.353606\n",
      "36.8949\n",
      "29.2767\n",
      "-0.865818\n",
      "21.0386\n",
      "12.288\n",
      "-0.704177\n",
      "33.3134\n",
      "25.1707\n",
      "23.314\n",
      "46.5459\n",
      "-1.29674\n",
      "-0.353606\n",
      "17.8818\n",
      "51.0158\n",
      "49.9316\n",
      "33.1211\n",
      "-0.0855858\n",
      "14.891\n",
      "27.0563\n",
      "-0.0855858\n",
      "3.36944\n",
      "-0.353606\n",
      "-0.353606\n",
      "-0.0855858\n",
      "7.89622\n",
      "29.9925\n",
      "20.0858\n",
      "1.12626\n",
      "2.17827\n",
      "73.1856\n",
      "24.0454\n",
      "-0.42333\n",
      "13.6068\n",
      "21.9143\n",
      "38.5913\n",
      "-0.917155\n",
      "9.04803\n",
      "20.6994\n",
      "18.2711\n",
      "-0.48724\n",
      "-0.48724\n",
      "-0.0855858\n",
      "-0.353606\n",
      "5.58207\n",
      "-0.917155\n",
      "-1.14184\n",
      "3.39724\n",
      "21.6784\n",
      "16.3946\n",
      "-0.353606\n",
      "-0.353606\n",
      "6.44378\n",
      "-0.353606\n",
      "2.92229\n",
      "52.8561\n",
      "-2.95171\n",
      "-0.0855858\n",
      "42.7405\n",
      "38.3547\n",
      "59.0177\n",
      "1.86158\n",
      "23.1341\n",
      "8.21604\n",
      "64.3663\n",
      "-0.353606\n",
      "-0.147285\n",
      "26.7349\n",
      "16.9327\n",
      "-0.696712\n",
      "-1.14184\n",
      "-0.0855858\n",
      "35.8852\n",
      "-0.42333\n",
      "14.8695\n",
      "33.085\n",
      "-0.353606\n",
      "-0.353606\n",
      "-0.353606\n",
      "-0.353606\n",
      "-0.0855858\n",
      "1.18521\n",
      "-1.14184\n",
      "-0.0855858\n",
      "-0.353606\n",
      "15.571\n",
      "14.3067\n",
      "-0.0855858\n",
      "-0.809004\n",
      "-0.678071\n",
      "-0.0855858\n",
      "35.9648\n"
     ]
    }
   ],
   "source": [
    "import matplotlib.pyplot as plt\n",
    "import numpy as np\n",
    "\n",
    "\n",
    "for p in ss_bclxl.pockets:\n",
    "    print(p.score)\n",
    "\n",
    "# scores = []\n",
    "# for dp in bcl2_bclxl.dpockets:\n",
    "#     scores.append([pocket.score for pocket in dp.pockets])\n",
    "\n",
    "# for snapshot in np.array(scores).transpose():\n",
    "#     print(snapshot)"
   ]
  },
  {
   "cell_type": "code",
   "execution_count": null,
   "metadata": {},
   "outputs": [],
   "source": []
  }
 ],
 "metadata": {
  "kernelspec": {
   "display_name": "Python 3",
   "language": "python",
   "name": "python3"
  },
  "language_info": {
   "codemirror_mode": {
    "name": "ipython",
    "version": 3
   },
   "file_extension": ".py",
   "mimetype": "text/x-python",
   "name": "python",
   "nbconvert_exporter": "python",
   "pygments_lexer": "ipython3",
   "version": "3.6.4"
  }
 },
 "nbformat": 4,
 "nbformat_minor": 1
}
