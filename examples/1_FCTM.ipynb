{
 "cells": [
  {
   "cell_type": "markdown",
   "metadata": {},
   "source": [
    "<h1>FCTM</h1>\n",
    "\n",
    "<p><img alt=\"\" src=\"https://www.nyu.edu/projects/yzhang/AlphaSpace/images/slide03.png\" style=\"float:right; height:507px; width:1000px\" /></p>\n",
    "\n",
    "<p>This tutorial will introduce you to FCTM fragment centric topographical mapping of a single snapshot. For older version, click <a href=\"https://www.nyu.edu/projects/yzhang/AlphaSpace/\" target=\"_blank\">here</a>.</p>\n",
    "\n",
    "<p>Please note several functionalities have been changed or deprecated in this version, If you are familiar with AlphaSpace 1.0, here you will see some reference to its tutorial, otherwise you can ignore them.</p>\n"
   ]
  },
  {
   "cell_type": "markdown",
   "metadata": {},
   "source": [
    "# 1. Program requirements\n",
    "\n",
    "Python, SciPy, NumPy, Mdtraj, Jupyter\n",
    "\n",
    "These dependencies should be installed automatically when you install AlphaSpace.\n",
    "\n",
    "To view how to install, please proceed to [README.md](../README.md)\n",
    "\n",
    "Now AlphaSpace 2.0 no longer requires Naccess for ASA calculation, it is replaced by [Shrake and Rupley](http://mdtraj.org/1.7.2/examples/solvent-accessible-surface-area.html)."
   ]
  },
  {
   "cell_type": "markdown",
   "metadata": {},
   "source": [
    "# 2. Load PDB File\n",
    "\n",
    "AlphaSpace 2.0 can process multiple snapshots from a simulation, but for now let's start with a single snapshot. We will use the mdm2-p53 complex, same as 1.0 tutorial.\n",
    "\n",
    "AlphaSpace can map a complete protein surface or can be restricted to map just the interface between a receptor protein and a binding partner. The \"receptor\"/\"protein\" part and the \"binder\"/\"ligand\" part can be automatically identified, or manually set.\n",
    "\n",
    "First Import the modules, you should see them"
   ]
  },
  {
   "cell_type": "code",
   "execution_count": 1,
   "metadata": {},
   "outputs": [],
   "source": [
    "import alphaspace as al\n",
    "import mdtraj\n",
    "import os\n",
    "import matplotlib.pyplot as plt"
   ]
  },
  {
   "cell_type": "code",
   "execution_count": 2,
   "metadata": {},
   "outputs": [],
   "source": [
    "# Load in receptor and ligand seperately using mdtraj. So you can load anything that is supported by mdtraj.\n",
    "receptor = mdtraj.load(\"mdm2_p53/mdm2.pdb\")\n",
    "binder = mdtraj.load(\"mdm2_p53/p53.pdb\")"
   ]
  },
  {
   "cell_type": "code",
   "execution_count": 3,
   "metadata": {},
   "outputs": [],
   "source": [
    "# If you have the pdbqt file of the receptor, you can calculate the Vina Score. You can load the pdbqt file like this\n",
    "al.annotateVinaAtomTypes(pdbqt=\"mdm2_p53/mdm2.pdbqt\", receptor=receptor)"
   ]
  },
  {
   "cell_type": "code",
   "execution_count": 4,
   "metadata": {},
   "outputs": [
    {
     "name": "stdout",
     "output_type": "stream",
     "text": [
      "Vina Atom Type found, calculating BScore\n"
     ]
    }
   ],
   "source": [
    "# Initialize a snapshot object, this will contain the receptor and the binder informations\n",
    "ss = al.Snapshot()\n",
    "ss.beta_cluster_dist = 1.6\n",
    "ss.contact_cutoff = 1.6\n",
    "ss.pocket_cluster_dist = 4.7\n",
    "# Run the snapshot object by feeding it receptor and binder mdtraj objects.\n",
    "ss.run(receptor=receptor, binder=binder)"
   ]
  },
  {
   "cell_type": "code",
   "execution_count": 5,
   "metadata": {},
   "outputs": [
    {
     "name": "stdout",
     "output_type": "stream",
     "text": [
      "Pocket 25 has alpha-space of 250.0, VinaScore of -5.8 and is 72% occupied\n",
      "Pocket 23 has alpha-space of 241.0, VinaScore of -5.6 and is 94% occupied\n",
      "Pocket 26 has alpha-space of 187.0, VinaScore of -5.7 and is 33% occupied\n",
      "Pocket 43 has alpha-space of 70.0, VinaScore of -2.2 and is 51% occupied\n",
      "Pocket 31 has alpha-space of 55.0, VinaScore of -1.5 and is 88% occupied\n",
      "Pocket 42 has alpha-space of 44.0, VinaScore of -1.8 and is 71% occupied\n",
      "Pocket 30 has alpha-space of 13.0, VinaScore of -0.8 and is 100% occupied\n"
     ]
    }
   ],
   "source": [
    "# You can use a simple for loop to iterate over all pockets found in the snapshot\n",
    "\n",
    "for p in sorted(ss.pockets, key=lambda i: i.space, reverse=True):\n",
    "    if p.isContact:\n",
    "        print(\n",
    "            \"{} has alpha-space of {}, VinaScore of {:.1f} and is {:.0f}% occupied\".format(p, round(p.space), p.score,\n",
    "                                                                                          (p.occupancy * 100))\n",
    "        )"
   ]
  },
  {
   "cell_type": "markdown",
   "metadata": {},
   "source": [
    "<p><img alt=\"\" src=\"http://www.nyu.edu/projects/yzhang/AlphaSpace/images/table_mdm2_2.png\" style=\"float:right; height:507px; width:1000px\" /></p>"
   ]
  },
  {
   "cell_type": "code",
   "execution_count": 15,
   "metadata": {
    "scrolled": true
   },
   "outputs": [
    {
     "data": {
      "image/png": "[encoded data removed]",
      "text/plain": [
       "<matplotlib.figure.Figure at 0x62002f400>"
      ]
     },
     "metadata": {},
     "output_type": "display_data"
    }
   ],
   "source": [
    "spaces = []\n",
    "scores = []\n",
    "for p in sorted(ss.pockets, key=lambda i: i.space, reverse=True):\n",
    "    if p.isContact:\n",
    "        for beta in p.betas:\n",
    "            spaces.append(beta.space)\n",
    "            scores.append(beta.score)\n",
    "            \n",
    "        \n",
    "        \n",
    "plt.scatter(x=spaces,y=scores)\n",
    "plt.show()"
   ]
  }
 ],
 "metadata": {
  "kernelspec": {
   "display_name": "Python 3",
   "language": "python",
   "name": "python3"
  },
  "language_info": {
   "codemirror_mode": {
    "name": "ipython",
    "version": 3
   },
   "file_extension": ".py",
   "mimetype": "text/x-python",
   "name": "python",
   "nbconvert_exporter": "python",
   "pygments_lexer": "ipython3",
   "version": "3.6.4"
  }
 },
 "nbformat": 4,
 "nbformat_minor": 2
}
