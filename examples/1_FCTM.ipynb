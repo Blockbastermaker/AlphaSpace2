{
 "cells": [
  {
   "cell_type": "markdown",
   "metadata": {},
   "source": [
    "<h1>FCTM</h1>\n",
    "\n",
    "<p><img alt=\"\" src=\"https://www.nyu.edu/projects/yzhang/AlphaSpace/images/slide03.png\" style=\"float:right; height:507px; width:1000px\" /></p>\n",
    "\n",
    "<p>This tutorial will introduce you to FCTM fragment centric topographical mapping of a single snapshot. For older version, click <a href=\"https://www.nyu.edu/projects/yzhang/AlphaSpace/\" target=\"_blank\">here</a>.</p>\n",
    "\n",
    "<p>If you are familiar with AlphaSpace 1.0, here you will see some reference to its tutorial, otherwise you can ignore them.</p>\n"
   ]
  },
  {
   "cell_type": "markdown",
   "metadata": {},
   "source": [
    "# 1. Program requirements\n",
    "\n",
    "Python, SciPy, NumPy, Mdtraj, Jupyter\n",
    "\n",
    "These dependencies should be installed automatically when you install AlphaSpace.\n",
    "\n",
    "To view how to install, please proceed to [README.md](../README.md)\n",
    "\n",
    "Now AlphaSpace 2.0 no longer requires Naccess for ASA calculation, it is replaced by [Shrake and Rupley](http://mdtraj.org/1.7.2/examples/solvent-accessible-surface-area.html)."
   ]
  },
  {
   "cell_type": "markdown",
   "metadata": {},
   "source": [
    "# 2. Load PDB File\n",
    "\n",
    "AlphaSpace 2.0 can process multiple snapshots from a simulation, but for now let's start with a single snapshot. We will use the mdm2-p53 complex, same as 1.0 tutorial.\n",
    "\n",
    "AlphaSpace can map a complete protein surface or can be restricted to map just the interface between a receptor protein and a binding partner. The \"receptor\"/\"protein\" part and the \"binder\"/\"ligand\" part can be automatically identified, or manually set.\n",
    "\n",
    "First Import the modules, you should see them"
   ]
  },
  {
   "cell_type": "code",
   "execution_count": 7,
   "metadata": {},
   "outputs": [],
   "source": [
    "import alphaspace as al\n",
    "import mdtraj\n",
    "import os"
   ]
  },
  {
   "cell_type": "code",
   "execution_count": 8,
   "metadata": {},
   "outputs": [],
   "source": [
    "# Load in receptor and ligand seperately using mdtraj. So you can load anything that is supported by mdtraj.\n",
    "receptor = mdtraj.load(\"mdm2_p53/mdm2.pdb\")\n",
    "binder = mdtraj.load(\"mdm2_p53/p53.pdb\")"
   ]
  },
  {
   "cell_type": "code",
   "execution_count": 9,
   "metadata": {},
   "outputs": [],
   "source": [
    "# If you have the pdbqt file of the receptor, you can calculate the Vina Score. You can load the pdbqt file like this\n",
    "al.annotateVinaAtomTypes(pdbqt=\"mdm2_p53/mdm2.pdbqt\", receptor=receptor)"
   ]
  },
  {
   "cell_type": "code",
   "execution_count": 14,
   "metadata": {},
   "outputs": [
    {
     "name": "stdout",
     "output_type": "stream",
     "text": [
      "Vina Atom Type found, calculating BScore\n"
     ]
    }
   ],
   "source": [
    "# Initialize a snapshot object, this will contain the receptor and the binder informations\n",
    "ss = al.Snapshot()\n",
    "ss.beta_cluster_dist = 1.3\n",
    "ss.contact_cutoff = 1.6\n",
    "# Run the snapshot object by feeding it receptor and binder mdtraj objects.\n",
    "ss.run(receptor=receptor, binder=binder)"
   ]
  },
  {
   "cell_type": "code",
   "execution_count": 17,
   "metadata": {},
   "outputs": [
    {
     "name": "stdout",
     "output_type": "stream",
     "text": [
      "Pocket 61 has space of 223.6, and VinaScore of -5.6 and 100.0% occupied\n",
      "Pocket 58 has space of 159.9, and VinaScore of -4.4 and 56.5% occupied\n",
      "Pocket 59 has space of 147.0, and VinaScore of -2.8 and 96.2% occupied\n",
      "Pocket 57 has space of 132.6, and VinaScore of -3.7 and 9.9% occupied\n",
      "Pocket 21 has space of 111.8, and VinaScore of -3.7 and 60.0% occupied\n",
      "Pocket 55 has space of 67.6, and VinaScore of -2.3 and 90.1% occupied\n"
     ]
    }
   ],
   "source": [
    "# You can use a simple for loop to iterate over all pockets found in the snapshot\n",
    "\n",
    "for p in sorted(ss.pockets, key=lambda i: i.space, reverse=True):\n",
    "    if p.isContact:\n",
    "        print(\n",
    "            \"{} has space of {:.1f}, and VinaScore of {:.1f} and {:.1f}% occupied\".format(p, (p.space), p.score,\n",
    "                                                                                          p.occupancy * 100)\n",
    "        )\n"
   ]
  },
  {
   "cell_type": "code",
   "execution_count": null,
   "metadata": {},
   "outputs": [],
   "source": []
  }
 ],
 "metadata": {
  "kernelspec": {
   "display_name": "Python 3",
   "language": "python",
   "name": "python3"
  },
  "language_info": {
   "codemirror_mode": {
    "name": "ipython",
    "version": 3
   },
   "file_extension": ".py",
   "mimetype": "text/x-python",
   "name": "python",
   "nbconvert_exporter": "python",
   "pygments_lexer": "ipython3",
   "version": "3.6.4"
  }
 },
 "nbformat": 4,
 "nbformat_minor": 2
}
