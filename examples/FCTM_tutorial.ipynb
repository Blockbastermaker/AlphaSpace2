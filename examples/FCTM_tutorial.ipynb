{
 "cells": [
  {
   "cell_type": "markdown",
   "metadata": {},
   "source": [
    "<h1>FCTM</h1>\n",
    "\n",
    "<p><img alt=\"\" src=\"https://www.nyu.edu/projects/yzhang/AlphaSpace/images/slide03.png\" style=\"float:right; height:507px; width:1000px\" /></p>\n",
    "\n",
    "<p>This tutorial will introduce you to FCTM fragment centric topographical mapping of a single snapshot. For older version, click <a href=\"https://www.nyu.edu/projects/yzhang/AlphaSpace/\" target=\"_blank\">here</a>.</p>\n",
    "\n",
    "<p>If you are familiar with AlphaSpace 1.0, here you will see some reference to its tutorial, otherwise you can ignore them.</p>\n"
   ]
  },
  {
   "cell_type": "markdown",
   "metadata": {},
   "source": [
    "# 1. Program requirements\n",
    "\n",
    "Python, SciPy, NumPy, Mdtraj, Jupyter\n",
    "\n",
    "These dependencies should be installed automatically when you install AlphaSpace.\n",
    "\n",
    "To view how to install, please proceed to [README.md](../README.md)\n",
    "\n",
    "Now AlphaSpace 2.0 no longer requires Naccess for ASA calculation, it is replaced by [Shrake and Rupley](http://mdtraj.org/1.7.2/examples/solvent-accessible-surface-area.html).\n",
    "\n",
    "# 2. Load PDB File\n",
    "\n",
    "AlphaSpace 2.0 can process multiple snapshots from a simulation, but for now let's start with a single snapshot. We will use the mdm2-p53 complex, same as 1.0 tutorial.\n",
    "\n",
    "AlphaSpace can map a complete protein surface or can be restricted to map just the interface between a receptor protein and a binding partner. The \"receptor\"/\"protein\" part and the \"binder\"/\"ligand\" part can be automatically identified, or manually set.\n",
    "\n",
    "First Import the modules, you should see them"
   ]
  },
  {
   "cell_type": "code",
   "execution_count": 1,
   "metadata": {
    "collapsed": true
   },
   "outputs": [],
   "source": [
    "import alphaspace,mdtraj"
   ]
  },
  {
   "cell_type": "markdown",
   "metadata": {},
   "source": [
    "Now we can load the [pdb file](mdm2_p53/mdm2_p53.pdb), and initiate our *Universe*. Remember you should set the path to your own protein in real use."
   ]
  },
  {
   "cell_type": "code",
   "execution_count": 2,
   "metadata": {},
   "outputs": [],
   "source": [
    "universe = alphaspace.AS_Universe(mdtraj.load('mdm2_p53/mdm2_p53.pdb'),guess_receptor_binder=True,guess_by_order=False)"
   ]
  },
  {
   "cell_type": "markdown",
   "metadata": {},
   "source": [
    "<p><strong>AlphaSpace</strong>&nbsp;will automatically strip all non-ATOM/HETATM lines from the input PDB file, and additionally will strip all <strong>protons</strong>, water molecules, and Na+/Cl- ions. Then the receptor and binder are guessed by their number of atoms, the larger one as receptor (<code>guess_receptor_binder</code>). Alternatively, you can turn on <code>guess_by_order</code> (set the first one as receptor and second one as binder). You can see here from the atom number and residue number, the guess was correct.</p>\n",
    "\n",
    "<div style=\"background:#eee; border:1px solid #ccc; padding:5px 10px\"><code>universe = alphaspace.AS_Universe(mdtraj.load(&#39;mdm2_p53/mdm2_p53.pdb&#39;),guess_receptor_binder=True,guess_by_order=True)</code></div>\n",
    "\n",
    "<p><strong>Different from AlphaSpace 1.0</strong>, you do not need to place TER between molecules.</p>\n"
   ]
  },
  {
   "cell_type": "markdown",
   "metadata": {},
   "source": [
    "<h1>3. Understanding the Parameter file</h1>\n",
    "\n",
    "<p>&nbsp;</p>\n",
    "\n",
    "<p>AlphaSpace 1.0 uses a parameter file&nbsp;&quot;<em><u>AS_param.txt</u></em>&quot; and &quot;<u><em>AS_option.txt</em></u>&quot;, now they are combined into one single file <a href=\"../alphaspace/config.ini\" target=\"_blank\">config.ini</a>. You can checkout their details at the end of the document.&nbsp;They have the same content and you can make your own parameter file by adding parameter and option flag:&nbsp;</p>\n",
    "\n",
    "<blockquote>\n",
    "<p><code>[options] </code></p>\n",
    "\n",
    "<p><code>output_dir = . </code></p>\n",
    "\n",
    "<p><code>[parameters] </code></p>\n",
    "\n",
    "<p><code>min_r = 3.2</code></p>\n",
    "</blockquote>\n",
    "\n",
    "<p>&nbsp;</p>\n",
    "\n",
    "<p>Of particular interest are the options: &quot;<u><code>screen_by_face</code></u>&quot; and &quot;screen_by_lig_cntct&quot;. If only pockets in direct contact with the ligand are desired, set <u><code>screen_by_lig_cntct = True.</code></u> In order to expand the pocket selection to also include unoccupied pockets in the vicinity of the ligand, set <u><code>screen_by_lig_cntct = False </code></u>and set <u><code>screen_by_face = True.</code></u> This setting will select pockets, not by ligand contact, but if a percentage of atoms from the pocket atom list are within the &quot;interface&quot; atom list.<s> This option requires Naccess to be activated in order to calculate the interface atom list.</s></p>\n",
    "\n",
    "<p>You can specify your own <em>config.ini&nbsp;</em>by changing the default config.ini file, it is located <a href=\"../aphaspace/config.ini\" target=\"_blank\">here</a>, or change it on the fly here in the notebook like this.</p>\n"
   ]
  },
  {
   "cell_type": "code",
   "execution_count": 3,
   "metadata": {
    "collapsed": true
   },
   "outputs": [],
   "source": [
    "universe.config.screen_by_lig_cntct = True"
   ]
  },
  {
   "cell_type": "markdown",
   "metadata": {},
   "source": [
    "<h1>4. Runing AlphaSpace</h1>\n",
    "\n",
    "<h2>4.1 <strong>Jupyter Notebook</strong></h2>\n",
    "\n",
    "<p>You can alphaspace simply by calling:</p>\n",
    "\n",
    "<p><code>universe.run_alphaspace()</code></p>\n",
    "\n",
    "<p>This would process the snapshot(s) based on the configuration in the <code>config.ini</code>. If you change the config.ini after this point, you will need to re-run alphaspace for it to be active.</p>\n"
   ]
  },
  {
   "cell_type": "code",
   "execution_count": 4,
   "metadata": {},
   "outputs": [
    {
     "name": "stdout",
     "output_type": "stream",
     "text": [
      "0 snapshot processed\n"
     ]
    }
   ],
   "source": [
    "universe.run_alphaspace()"
   ]
  },
  {
   "cell_type": "markdown",
   "metadata": {},
   "source": [
    "<h1>5.&nbsp;Pocket Analysis</h1>\n"
   ]
  },
  {
   "cell_type": "markdown",
   "metadata": {},
   "source": [
    "<p><img alt=\"\" src=\"https://www.nyu.edu/projects/yzhang/AlphaSpace/images/table_mdm2_2.png\" style=\"float:right; height:554px; width:1000px\" /></p>\n",
    "\n",
    "<p>Above shows the pockets detected in alphaspace 1.0, and visualized in Chimera. In 2.0,&nbsp;you can <strong>iterate</strong> through pockets in a given snapshot by calling the <strong>.pockets</strong> method. For instance if you want to see pockets in snapshot 0:</p>"
   ]
  },
  {
   "cell_type": "code",
   "execution_count": 5,
   "metadata": {},
   "outputs": [
    {
     "name": "stdout",
     "output_type": "stream",
     "text": [
      "<Pocket 1 in snapshot 0 with space 250 and 73% occupied>\n",
      "<Pocket 2 in snapshot 0 with space 242 and 94% occupied>\n",
      "<Pocket 3 in snapshot 0 with space 187 and 34% occupied>\n",
      "<Pocket 4 in snapshot 0 with space 71 and 51% occupied>\n",
      "<Pocket 5 in snapshot 0 with space 55 and 88% occupied>\n",
      "<Pocket 6 in snapshot 0 with space 44 and 72% occupied>\n",
      "<Pocket 7 in snapshot 0 with space 14 and 100% occupied>\n"
     ]
    }
   ],
   "source": [
    "for pocket in universe.pockets(snapshot_idx=0):\n",
    "    print(pocket)"
   ]
  },
  {
   "cell_type": "markdown",
   "metadata": {},
   "source": [
    "You can also access the pocket properties such as:\n",
    "occupancy,space,is_contact"
   ]
  },
  {
   "cell_type": "code",
   "execution_count": 6,
   "metadata": {},
   "outputs": [
    {
     "name": "stdout",
     "output_type": "stream",
     "text": [
      "0.7218682455379769 249.9373348870114 True\n",
      "0.9392116580132764 241.02131003800474 True\n",
      "0.33135460177034765 186.89316884778023 True\n",
      "0.5073220222498638 70.32360315295703 True\n",
      "0.8768471705582687 54.50895613603793 True\n",
      "0.7146894781987956 43.8709929452111 True\n",
      "1.0 13.081765089579006 True\n"
     ]
    }
   ],
   "source": [
    "for pocket in universe.pockets(snapshot_idx=0):\n",
    "    print(pocket.occupancy,\n",
    "          pocket.space,\n",
    "          pocket.is_contact)"
   ]
  },
  {
   "cell_type": "markdown",
   "metadata": {},
   "source": [
    "<h1>Options<a id=\"options\" name=\"options\"></a></h1>\n",
    "\n",
    "<blockquote>\n",
    "<pre>\n",
    "get_face = True\n",
    "\n",
    "###calculate the interface atom list\n",
    "\n",
    "screen_by_face = False\n",
    "\n",
    "###select pockets that include atoms from the interface atom list\n",
    "\n",
    "screen_face_perc = 0.5\n",
    "\n",
    "###minimum percentage of atoms that must be in the interface atom list\n",
    "\n",
    "screen_by_lig_cntct = False\n",
    "\n",
    "###select only pockets in &quot;contact&quot; with the ligand\n",
    "\n",
    "expand_around_cntct = False\n",
    "\n",
    "###expand selection to include all pockets overlapping the &quot;contact&quot; pockets\n",
    "\n",
    "screen_by_score = False\n",
    "min_score = 100\n",
    "\n",
    "###select only pockets above a minimum score\n",
    "\n",
    "screen_by_perc_rank = False\n",
    "min_perc_rank = 0.9\n",
    "\n",
    "###select only pockets above of minimum percentage ranking\n",
    "\n",
    "screen_out_subsurf = False max_desolv_perc = 0.95\n",
    "###screen out pocket if too much of the alpha-cluster ASA is desolvated by the pocket\n",
    "###(i.e. pocket is beneath the surface) (more expensive calculation)\n",
    "\n",
    "screen_by_res = False\n",
    "res_file = screen_resID.pdb\n",
    "\n",
    "###select all pockets containing any atom from any residue within the residue pdb file\n",
    "\n",
    "pocket_communities = True\n",
    "\n",
    "###calculate and output the pocket communities</pre>\n",
    "</blockquote>\n"
   ]
  },
  {
   "cell_type": "markdown",
   "metadata": {},
   "source": [
    "<h1>Parameters<a id=\"parameters\" name=\"parameters\"></a></h1>\n",
    "\n",
    "<blockquote>\n",
    "<pre>\n",
    "min_r = 3.2 \n",
    "max_r = 5.4\n",
    "\n",
    "#minimum and maximum alpha-sphere radius for filtering alpha-spheres\n",
    "\n",
    "clust_dist = 4.7\n",
    "\n",
    "#distance parameter for average linkage clustering of alpha-atoms\n",
    "\n",
    "#into alpha-clusters\n",
    "\n",
    "min_num_alph = 1\n",
    "\n",
    "#filter alpha-clusters by a minimum # of alpha-atoms\n",
    "\n",
    "hit_dist = 1.6\n",
    "\n",
    "#ligand/alpha-atom &quot;contact&quot; distance\n",
    "\n",
    "core_cutoff = 100 \n",
    "aux_cutoff = 30\n",
    "\n",
    "#minimum pocket score for &quot;high-scoring&quot; and &quot;mid-scoring&quot; classification</pre>\n",
    "</blockquote>\n"
   ]
  }
 ],
 "metadata": {
  "kernelspec": {
   "display_name": "Python 3",
   "language": "python",
   "name": "python3"
  },
  "language_info": {
   "codemirror_mode": {
    "name": "ipython",
    "version": 3
   },
   "file_extension": ".py",
   "mimetype": "text/x-python",
   "name": "python",
   "nbconvert_exporter": "python",
   "pygments_lexer": "ipython3",
   "version": "3.6.3"
  }
 },
 "nbformat": 4,
 "nbformat_minor": 2
}
