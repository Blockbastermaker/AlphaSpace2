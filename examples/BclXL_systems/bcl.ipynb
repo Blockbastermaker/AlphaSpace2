{
 "cells": [
  {
   "cell_type": "code",
   "execution_count": 1,
   "metadata": {},
   "outputs": [],
   "source": [
    "import alphaspace2 as al\n",
    "import matplotlib.pyplot as plt\n",
    "import mdtraj"
   ]
  },
  {
   "cell_type": "markdown",
   "metadata": {},
   "source": [
    "First we analysis the Bcl-xL/BAK complex (PDB ID: 1BXL)"
   ]
  },
  {
   "cell_type": "code",
   "execution_count": 2,
   "metadata": {},
   "outputs": [],
   "source": [
    "receptor = mdtraj.load('BclXL_BAK/prot.pdb')\n",
    "binder = mdtraj.load('BclXL_BAK/lig.pdb')\n",
    "al.annotateVinaAtomTypes(pdbqt=\"BclXL_BAK/prot.pdbqt\", receptor=receptor)"
   ]
  },
  {
   "cell_type": "code",
   "execution_count": 17,
   "metadata": {},
   "outputs": [],
   "source": [
    "ss = al.Snapshot()\n",
    "ss.contact_cutoff = 2.0\n",
    "ss.beta_cluster_dist = 1.6\n",
    "# ss.pocket_cluster_dist = 4.2\n",
    "ss.run(receptor=receptor, binder=binder)\n",
    "\n",
    "ss.save(receptor=receptor,binder=binder, output_dir='BclXL_BAK')"
   ]
  },
  {
   "cell_type": "code",
   "execution_count": 19,
   "metadata": {},
   "outputs": [
    {
     "name": "stdout",
     "output_type": "stream",
     "text": [
      "Pocket 1 has alpha-space of 265.0 A^3, VinaScore of -7.3 kcal/mol and is 48% occupied\n",
      "Pocket 2 has alpha-space of 163.0 A^3, VinaScore of -4.3 kcal/mol and is 29% occupied\n",
      "Pocket 3 has alpha-space of 132.0 A^3, VinaScore of -3.4 kcal/mol and is 84% occupied\n",
      "Pocket 4 has alpha-space of 77.0 A^3, VinaScore of -2.0 kcal/mol and is 7% occupied\n",
      "Pocket 5 has alpha-space of 68.0 A^3, VinaScore of -3.4 kcal/mol and is 94% occupied\n",
      "Pocket 6 has alpha-space of 67.0 A^3, VinaScore of -1.3 kcal/mol and is 100% occupied\n",
      "Pocket 7 has alpha-space of 60.0 A^3, VinaScore of -1.9 kcal/mol and is 74% occupied\n",
      "Pocket 8 has alpha-space of 51.0 A^3, VinaScore of -1.6 kcal/mol and is 17% occupied\n",
      "Pocket 9 has alpha-space of 51.0 A^3, VinaScore of -1.9 kcal/mol and is 59% occupied\n",
      "Pocket 10 has alpha-space of 46.0 A^3, VinaScore of -1.8 kcal/mol and is 55% occupied\n",
      "Pocket 11 has alpha-space of 3.0 A^3, VinaScore of -0.6 kcal/mol and is 35% occupied\n"
     ]
    }
   ],
   "source": [
    "# You can use a simple for loop to iterate over all pockets found in the snapshot\n",
    "pocket_index = 0\n",
    "for p in sorted(ss.pockets, key=lambda i: i.space,reverse=True):\n",
    "    if p.isContact:\n",
    "        pocket_index+=1\n",
    "        print(\n",
    "            \"Pocket {} has alpha-space of {} A^3, VinaScore of {:.1f} kcal/mol and is {:.0f}% occupied\".format(\n",
    "             pocket_index, round(p.space), p.score, (p.occupancy * 100))\n",
    "        )"
   ]
  },
  {
   "cell_type": "markdown",
   "metadata": {},
   "source": [
    "Bcl-xL/Bcl-2 Pocket Comparison"
   ]
  },
  {
   "cell_type": "code",
   "execution_count": 51,
   "metadata": {},
   "outputs": [],
   "source": [
    "bxl2_prot, bcl2_lig = mdtraj.load('Bcl2_BAX/prot.pdb'),mdtraj.load('Bcl2_BAX/lig.pdb')\n",
    "bclxl_prot, bxlcl_lig = mdtraj.load('BclXL_BAX/prot.pdb'),mdtraj.load('BclXL_BAX/lig.pdb')\n",
    "al.annotateVinaAtomTypes(pdbqt=\"Bcl2_BAX/prot.pdbqt\", receptor=bxl2_prot)\n",
    "al.annotateVinaAtomTypes(pdbqt=\"BclXL_BAX/prot.pdbqt\", receptor=bclxl_prot)"
   ]
  },
  {
   "cell_type": "code",
   "execution_count": 52,
   "metadata": {},
   "outputs": [],
   "source": [
    "ss_bcl2 = al.Snapshot()\n",
    "ss_bcl2.run(bxl2_prot, bcl2_lig)\n",
    "ss_bclxl = al.Snapshot()\n",
    "ss_bclxl.run(bclxl_prot, bxlcl_lig)"
   ]
  },
  {
   "cell_type": "code",
   "execution_count": 61,
   "metadata": {},
   "outputs": [
    {
     "name": "stdout",
     "output_type": "stream",
     "text": [
      "-4.31987 \t -4.79249\n",
      "-2.92216 \t -5.56242\n",
      "-5.44176 \t -2.35957\n",
      "-4.89578 \t -2.69675\n",
      "-2.6956 \t -4.63325\n",
      "-4.69375 \t -2.01264\n",
      "-2.01497 \t -4.61099\n",
      "-3.47008 \t -3.14097\n",
      "-6.21846 \t 0\n",
      "-2.39236 \t -3.61036\n",
      "-4.61358 \t -1.33412\n",
      "-4.69066 \t -1.16455\n",
      "-3.04934 \t -2.68423\n",
      "-2.92505 \t -2.67759\n",
      "-3.80231 \t -1.79\n",
      "-4.45041 \t -1.12957\n",
      "-2.31145 \t -3.20025\n",
      "-2.27033 \t -3.18522\n",
      "-2.24114 \t -2.39234\n",
      "-1.96173 \t -2.65586\n",
      "-2.36306 \t -2.22565\n",
      "-0.904163 \t -3.66448\n",
      "-3.60945 \t -0.901187\n",
      "-2.21562 \t -2.27527\n",
      "-2.32579 \t -1.7427\n",
      "-2.66661 \t -1.22612\n",
      "-2.34176 \t -1.51494\n",
      "-1.53299 \t -2.21193\n",
      "-2.22214 \t -1.52012\n",
      "-2.557 \t -0.974001\n",
      "-2.05914 \t -1.46535\n",
      "-1.20797 \t -2.12966\n",
      "-1.76344 \t -1.55469\n",
      "-1.86 \t -1.39823\n",
      "-1.74539 \t -1.5059\n",
      "-1.15183 \t -2.04323\n",
      "-1.61302 \t -1.53003\n",
      "0 \t -3.12855\n",
      "-1.61771 \t -1.47425\n",
      "-2.1477 \t -0.876224\n",
      "-2.95132 \t 0\n",
      "-1.47566 \t -1.42387\n",
      "-1.09942 \t -1.78696\n",
      "-1.23687 \t -1.32993\n",
      "-1.54349 \t -0.997512\n",
      "-1.50597 \t -0.977225\n",
      "-1.73967 \t -0.671408\n",
      "-1.79074 \t -0.614651\n",
      "-1.16391 \t -1.22053\n",
      "-1.09464 \t -1.28774\n",
      "0 \t -2.36934\n",
      "-1.29073 \t -1.01661\n",
      "-1.28934 \t -0.976428\n",
      "-1.49883 \t -0.699712\n",
      "-1.22297 \t -0.943039\n",
      "-0.814533 \t -1.29819\n",
      "-0.660545 \t -1.44191\n",
      "0 \t -2.10167\n",
      "0 \t -2.06812\n",
      "-0.906246 \t -1.14233\n",
      "-0.544024 \t -1.4919\n",
      "-1.2167 \t -0.764152\n",
      "-1.46676 \t -0.438776\n",
      "-0.794015 \t -1.08209\n",
      "-0.389263 \t -1.41207\n",
      "-1.00157 \t -0.741552\n",
      "0 \t -1.72258\n",
      "-0.856752 \t -0.85902\n",
      "-0.503026 \t -1.20196\n",
      "-1.48626 \t -0.213783\n",
      "-0.5736 \t -1.11976\n",
      "-0.970337 \t -0.717247\n",
      "-0.599549 \t -1.06437\n",
      "-1.6606 \t 0\n",
      "-1.34994 \t -0.309318\n",
      "-0.685855 \t -0.868056\n",
      "-1.32063 \t -0.188242\n",
      "-0.52453 \t -0.981744\n",
      "-1.18125 \t -0.301912\n",
      "-1.46324 \t 0\n",
      "-0.646131 \t -0.814939\n",
      "-0.546234 \t -0.913736\n",
      "-1.30698 \t -0.107109\n",
      "-1.41135 \t 0\n",
      "-0.68436 \t -0.694972\n",
      "-0.712906 \t -0.663288\n",
      "-0.629927 \t -0.737148\n",
      "0 \t -1.31528\n",
      "-0.917459 \t -0.377475\n",
      "0 \t -1.27945\n",
      "-0.147907 \t -1.11192\n",
      "0 \t -1.22415\n",
      "-1.19658 \t 0\n",
      "-0.620679 \t -0.51915\n",
      "-0.900109 \t -0.212705\n",
      "0 \t -1.07661\n",
      "-0.403068 \t -0.664195\n",
      "-0.648722 \t -0.418153\n",
      "-1.05691 \t 0\n",
      "-0.375574 \t -0.638932\n",
      "-0.185081 \t -0.821148\n",
      "-0.106304 \t -0.866018\n",
      "0 \t -0.94525\n",
      "-0.587089 \t -0.33948\n",
      "0 \t -0.890084\n",
      "-0.610955 \t -0.25233\n",
      "-0.858639 \t 0\n",
      "-0.449964 \t -0.387789\n",
      "-0.332874 \t -0.469286\n",
      "-0.770526 \t 0\n",
      "0 \t -0.764396\n",
      "-0.741871 \t 0\n",
      "0 \t -0.722323\n",
      "-0.69141 \t 0\n",
      "-0.408757 \t -0.235807\n",
      "-0.641299 \t 0\n",
      "-0.337859 \t -0.303157\n",
      "-0.609511 \t 0\n",
      "-0.579953 \t 0\n",
      "-0.535658 \t 0\n",
      "-0.37384 \t -0.129023\n",
      "0 \t -0.499281\n",
      "0 \t -0.480985\n",
      "-0.266251 \t -0.20542\n",
      "0 \t -0.444268\n",
      "-0.141119 \t -0.292964\n",
      "0 \t -0.426611\n",
      "-0.424306 \t 0\n",
      "-0.11875 \t -0.30103\n",
      "-0.193057 \t -0.217015\n",
      "-0.0776474 \t -0.317669\n",
      "0 \t -0.394766\n",
      "-0.0939081 \t -0.274169\n",
      "-0.360181 \t 0\n",
      "-0.360147 \t 0\n",
      "-0.214458 \t -0.0864347\n",
      "-0.251795 \t -0.0454428\n",
      "-0.273812 \t 0\n",
      "-0.233216 \t 0\n",
      "0 \t -0.218182\n",
      "-0.217817 \t 0\n",
      "0 \t -0.212463\n",
      "-0.206365 \t 0\n",
      "-0.202884 \t 0\n",
      "-0.195511 \t 0\n",
      "-0.186819 \t 0\n",
      "0 \t -0.169746\n",
      "-0.164574 \t 0\n",
      "0 \t -0.161326\n",
      "0 \t -0.153901\n",
      "-0.0937936 \t 0\n",
      "0 \t -0.0893796\n",
      "-0.0602948 \t 0\n"
     ]
    }
   ],
   "source": [
    "bcl2_bclxl = al.Trajectory(snapshots=[ss_bcl2,ss_bclxl])\n",
    "bcl2_bclxl.gen_dpockets(clust_distance=4.5)\n",
    "dps = sorted([dp for dp in bcl2_bclxl.dpockets],key=lambda i:sum(i.scores))\n",
    "for dp in dps:\n",
    "    pockets = list(dp.pockets)\n",
    "    print(pockets[0].score,\"\\t\",pockets[1].score)"
   ]
  },
  {
   "cell_type": "code",
   "execution_count": 35,
   "metadata": {},
   "outputs": [
    {
     "name": "stdout",
     "output_type": "stream",
     "text": [
      "DPocket 1 has alpha-space of 221.0 A^3, VinaScore of -6.5 kcal/mol and is 73% occupied\n",
      "DPocket 2 has alpha-space of 162.0 A^3, VinaScore of -6.2 kcal/mol and is 53% occupied\n",
      "DPocket 3 has alpha-space of 116.0 A^3, VinaScore of -4.7 kcal/mol and is 6% occupied\n",
      "DPocket 4 has alpha-space of 82.0 A^3, VinaScore of -4.7 kcal/mol and is 92% occupied\n",
      "DPocket 5 has alpha-space of 159.0 A^3, VinaScore of -3.6 kcal/mol and is 98% occupied\n",
      "DPocket 6 has alpha-space of 85.0 A^3, VinaScore of -3.0 kcal/mol and is 21% occupied\n",
      "DPocket 7 has alpha-space of 168.0 A^3, VinaScore of -2.9 kcal/mol and is 100% occupied\n",
      "DPocket 8 has alpha-space of 18.0 A^3, VinaScore of -1.8 kcal/mol and is 15% occupied\n",
      "DPocket 9 has alpha-space of 22.0 A^3, VinaScore of -1.6 kcal/mol and is 100% occupied\n",
      "DPocket 10 has alpha-space of 16.0 A^3, VinaScore of -1.3 kcal/mol and is 43% occupied\n",
      "DPocket 11 has alpha-space of 28.0 A^3, VinaScore of -1.2 kcal/mol and is 73% occupied\n",
      "DPocket 12 has alpha-space of 17.0 A^3, VinaScore of -0.7 kcal/mol and is 100% occupied\n",
      "DPocket 13 has alpha-space of 26.0 A^3, VinaScore of -0.6 kcal/mol and is 87% occupied\n",
      "DPocket 14 has alpha-space of 10.0 A^3, VinaScore of -0.6 kcal/mol and is 100% occupied\n",
      "DPocket 15 has alpha-space of 6.0 A^3, VinaScore of -0.4 kcal/mol and is 100% occupied\n"
     ]
    }
   ],
   "source": [
    "pocket_index = 0\n",
    "for p in sorted(bcl2_bclxl.pockets, key=lambda i: i.score,reverse=False):\n",
    "    if p.isContact:\n",
    "        pocket_index +=1 \n",
    "        print(\n",
    "            \"DPocket {} has alpha-space of {} A^3, VinaScore of {:.1f} kcal/mol and is {:.0f}% occupied\".format(\n",
    "             pocket_index, round(p.space), p.score, (p.occupancy * 100))\n",
    "        )"
   ]
  },
  {
   "cell_type": "code",
   "execution_count": null,
   "metadata": {},
   "outputs": [],
   "source": []
  }
 ],
 "metadata": {
  "kernelspec": {
   "display_name": "Python 3",
   "language": "python",
   "name": "python3"
  },
  "language_info": {
   "codemirror_mode": {
    "name": "ipython",
    "version": 3
   },
   "file_extension": ".py",
   "mimetype": "text/x-python",
   "name": "python",
   "nbconvert_exporter": "python",
   "pygments_lexer": "ipython3",
   "version": "3.6.4"
  }
 },
 "nbformat": 4,
 "nbformat_minor": 2
}
