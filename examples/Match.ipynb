{
 "cells": [
  {
   "cell_type": "markdown",
   "metadata": {
    "collapsed": true
   },
   "source": []
  },
  {
   "cell_type": "markdown",
   "metadata": {},
   "source": [
    "Pocket matching is the process of matching pockets in difference structure of a similiar protein, for example, the apo and holo structure of a receptor. Being able to find similiar pockets enables us to find differences in the binding region from a pocket centric view. \n",
    "\n",
    "Pocket matching is based on average linkage clustering using the distance matrix generated from Jaccard distance of pocket lining atoms. The atoms are compared based on their index in the protein structure, so one needs to pre align the sequence of two proteins should they have variations in atom composition.\n",
    "\n",
    "Here is an example of how you can compute the pocket lining atom difference, using it to cluster the pockets and generated a matching table of pockets between two snapshots. \n",
    "\n",
    "First we import the alphaspace module and load the structure. from the match directory. We are using the mdm5 apo and PPI structure."
   ]
  },
  {
   "cell_type": "code",
   "execution_count": 1,
   "metadata": {
    "collapsed": false
   },
   "outputs": [
    {
     "name": "stdout",
     "output_type": "stream",
     "text": [
      "Receptor Structure with 1 frames, 468 residues, 3689 atoms\nReceptor Structure with 1 frames, 467 residues, 3670 atoms\nBinder Structure with 1 frames, 12 residues, 99 atoms\n"
     ]
    }
   ],
   "source": [
    "import alphaspace,mdtraj\n",
    "import numpy as np\n",
    "\n",
    "\n",
    "apo_universe = alphaspace.AS_Universe(mdtraj.load('examples/match/A.pdb'),\n",
    "                                   guess_receptor_binder=False,guess_by_order=False,tag='Apo')\n",
    "ppi_universe = alphaspace.AS_Universe(mdtraj.load('examples/match/AB.pdb'),\n",
    "                                   guess_receptor_binder=True,guess_by_order=True,tag=\"PPI\")\n",
    "\n",
    "print(apo_universe.receptor)\n",
    "print(ppi_universe.receptor)\n",
    "print(ppi_universe.binder)"
   ]
  },
  {
   "cell_type": "markdown",
   "metadata": {},
   "source": [
    "You can remove non-overlapping atoms here like this."
   ]
  },
  {
   "cell_type": "code",
   "execution_count": 2,
   "metadata": {},
   "outputs": [
    {
     "name": "stdout",
     "output_type": "stream",
     "text": [
      "Receptor Structure with 1 frames, 467 residues, 3667 atoms\nReceptor Structure with 1 frames, 467 residues, 3667 atoms\n"
     ]
    }
   ],
   "source": [
    "# Creating overlapping atom set and slice the trajectory\n",
    "atom_list1 = set([(atom.name,atom.residue.index) for atom in list(apo_universe.receptor.atoms)])\n",
    "atom_list2 = set([(atom.name,atom.residue.index) for atom in list(ppi_universe.receptor.atoms)])\n",
    "\n",
    "shared_atom_list = atom_list2.intersection(atom_list1)\n",
    "\n",
    "for universe in apo_universe,ppi_universe:\n",
    "    kept_atom_indice = []\n",
    "    for atom in universe.receptor.atoms:\n",
    "        if (atom.name,atom.residue.index) in shared_atom_list:\n",
    "            kept_atom_indice.append(atom.index)\n",
    "    universe.receptor.traj.atom_slice(inplace=True,atom_indices=kept_atom_indice)   \n",
    "print(apo_universe.receptor)\n",
    "print(ppi_universe.receptor)"
   ]
  },
  {
   "cell_type": "markdown",
   "metadata": {},
   "source": [
    "Now we run the alphaspace on the given proteins. Note since there is no binder in the APO structure, you can not use *screen_by_lig_cntct* option."
   ]
  },
  {
   "cell_type": "code",
   "execution_count": 3,
   "metadata": {
    "collapsed": false
   },
   "outputs": [
    {
     "name": "stdout",
     "output_type": "stream",
     "text": [
      "0 snapshot processed\n"
     ]
    },
    {
     "name": "stdout",
     "output_type": "stream",
     "text": [
      "0 snapshot processed\n"
     ]
    }
   ],
   "source": [
    "apo_universe.config.screen_by_face = False\n",
    "apo_universe.config.screen_by_lig_cntct = False\n",
    "\n",
    "ppi_universe.config.screen_by_face = False\n",
    "ppi_universe.config.screen_by_lig_cntct = False\n",
    "\n",
    "apo_universe.run_alphaspace()\n",
    "ppi_universe.run_alphaspace()"
   ]
  },
  {
   "cell_type": "markdown",
   "metadata": {},
   "source": [
    "Same as before, to access the pockets you can simply iterate through them by calling .pockets method in the universe object. You can access the lining atom indices by:"
   ]
  },
  {
   "cell_type": "code",
   "execution_count": 5,
   "metadata": {},
   "outputs": [],
   "source": [
    "for pocket in apo_universe.pockets():\n",
    "    print(pocket.lining_atoms_idx)\n",
    "    print([atom.name for atom in pocket.lining_atoms])\n",
    "    break"
   ]
  },
  {
   "cell_type": "markdown",
   "metadata": {},
   "source": [
    "To calculate the number of atoms shared between two pockets, and also number of total atoms in them, we can use "
   ]
  },
  {
   "cell_type": "code",
   "execution_count": 6,
   "metadata": {
    "collapsed": true
   },
   "outputs": [],
   "source": [
    "from scipy.cluster.hierarchy import linkage, fcluster\n",
    "from scipy.spatial.distance import squareform\n",
    "\n",
    "\n",
    "pocket_list = (list(apo_universe.pockets(snapshot_idx=0,active_only=False))+list(ppi_universe.pockets(snapshot_idx=0,active_only=False)))\n",
    "\n",
    "pocket_diff_matrix = np.ones((len(pocket_list),len(pocket_list))) * 10\n",
    "\n",
    "for i, pocket1 in enumerate(pocket_list):\n",
    "    for j, pocket2 in enumerate(pocket_list):\n",
    "        if pocket1.parent_structure.universe.tag != pocket2.parent_structure.universe.tag and i > j:\n",
    "\n",
    "            pocket_diff_matrix[i][j] = pocket_diff_matrix[j][i] = 1- pocket1.jaccard_similarity(pocket2)\n",
    "        if i == j:\n",
    "            pocket_diff_matrix[i][i] = 0\n",
    "        \n",
    "zmat = linkage(squareform(pocket_diff_matrix),method='average')\n",
    "pocket_cluster_indices = fcluster(zmat, 0.75,criterion='distance') - 1\n",
    "\n",
    "\n",
    "matched_pockets = [[] for _ in range(max(pocket_cluster_indices)+1)]\n",
    "for pocket_index, pocket_cluster_index in enumerate(pocket_cluster_indices):\n",
    "    matched_pockets[pocket_cluster_index].append(pocket_list[pocket_index])\n"
   ]
  },
  {
   "cell_type": "markdown",
   "metadata": {},
   "source": [
    "From here you can access the pairs of pockets that has been matched:"
   ]
  },
  {
   "cell_type": "code",
   "execution_count": 8,
   "metadata": {},
   "outputs": [
    {
     "name": "stdout",
     "output_type": "stream",
     "text": [
      "325\nApo PPI\nApo PPI\nApo PPI\nApo\nPPI\nApo\nPPI\nApo PPI\nApo PPI\nApo\nPPI\nApo PPI\nApo PPI\nApo PPI\nApo\nPPI\nApo PPI\nApo PPI\nApo PPI\nApo PPI\nApo PPI\nApo PPI\nApo PPI\nApo PPI\nApo PPI\nApo PPI\nApo PPI\nApo PPI\nApo PPI\nApo\nPPI\nApo PPI\nApo PPI\nApo PPI\nApo PPI\nApo PPI\nApo PPI\nApo\nApo PPI\nApo PPI\nApo PPI\nApo PPI\nApo PPI\nApo PPI\nApo PPI\nApo PPI\nApo PPI\nApo PPI\nApo PPI\nApo PPI\nApo PPI\nApo PPI\nApo PPI\nApo PPI\nApo PPI\nApo PPI\nApo PPI\nApo PPI\nApo PPI\nApo\nPPI\nApo PPI\nApo PPI\nApo PPI\nApo PPI\nApo PPI\nApo PPI\nApo PPI\nApo PPI\nApo PPI\nApo PPI\nApo PPI\nApo PPI\nApo PPI\nApo\nPPI\nApo PPI\nApo PPI\nApo PPI\nApo PPI\nApo PPI\nApo PPI\nApo PPI\nApo PPI\nApo PPI\nApo PPI\nApo PPI\nApo PPI\nApo PPI\nApo\nPPI\nApo PPI\nApo\nApo PPI\nApo PPI\nApo PPI\nApo PPI\nApo PPI\nApo PPI\nApo PPI\nApo PPI\nApo PPI\nApo PPI\nApo PPI\nApo PPI\nApo PPI\nApo PPI\nApo PPI\nApo PPI\nApo\nPPI\nApo PPI\nApo PPI\nApo PPI\nApo PPI\nApo PPI\nApo PPI\nApo PPI\nApo PPI\nApo\nApo PPI\nApo PPI\nApo PPI\nApo PPI\nApo\nPPI\nApo PPI\nApo PPI\nApo PPI\nApo\nPPI\nApo PPI\nApo PPI\nApo PPI\nApo PPI\nApo PPI\nApo\nPPI\nApo PPI\nApo PPI\nApo PPI\nApo PPI\nApo PPI\nApo PPI\nApo PPI\nApo PPI\nApo PPI\nApo PPI\nApo PPI\nApo PPI\nApo PPI\nApo PPI\nApo PPI\nApo PPI\nApo\nPPI\nApo PPI\nApo\nPPI\nApo PPI\nApo PPI\nApo PPI\nApo PPI\nApo PPI\nApo PPI\nApo PPI\nApo PPI\nApo PPI\nApo PPI\nApo PPI\nApo PPI\nApo PPI\nApo PPI\nApo\nPPI\nApo PPI\nApo PPI\nApo PPI\nApo PPI\nApo PPI\nApo PPI\nApo PPI\nApo PPI\nApo PPI\nApo PPI\nApo PPI\nApo PPI\nApo PPI\nApo PPI\nApo PPI\nApo PPI\nApo PPI\nApo PPI\nApo\nApo PPI\nApo PPI\nApo PPI\nApo PPI\nApo PPI\nApo PPI\nApo PPI\nApo PPI\nApo PPI\nApo PPI\nApo PPI\nApo PPI\nApo\nPPI\nApo PPI\nApo PPI\nApo PPI\nApo PPI\nApo PPI\nApo PPI\nApo PPI\nApo PPI\nApo\nPPI\nApo PPI\nApo PPI\nApo PPI\nApo PPI\nApo PPI\nApo PPI\nApo PPI\nApo PPI\nApo PPI\nApo PPI\nApo PPI\nApo\nPPI\nApo PPI\nApo PPI\nApo PPI\nApo PPI\nApo PPI\nApo PPI\nApo PPI\nApo PPI\nApo PPI\nApo PPI\nApo PPI\nApo PPI\nApo\nPPI\nApo PPI\nApo PPI\nApo PPI\nApo PPI\nApo PPI\nApo PPI\nApo PPI\nApo PPI\nApo PPI\nApo PPI\nApo PPI\nApo PPI\nApo PPI\nApo PPI\nApo PPI\nApo PPI\nApo PPI\nApo\nPPI\nApo PPI\nApo\nPPI\nApo PPI\nApo PPI\nApo PPI\nApo PPI\nApo PPI\nApo PPI\nApo\nPPI\nApo\nPPI\nApo PPI\nApo PPI\nApo PPI\nApo PPI\nApo\nPPI\nApo PPI\nApo PPI\nApo PPI\nApo PPI\nApo PPI\nApo PPI\nApo\nApo PPI\nApo PPI\nApo PPI\nApo PPI\nApo PPI\nApo PPI\nApo PPI\nApo PPI\nApo\nPPI\nApo PPI\nApo PPI\nApo PPI\nApo PPI\nApo PPI\nApo PPI\nApo PPI\nApo PPI\nApo\nPPI\nApo PPI\nApo PPI\nApo PPI\nApo PPI\nApo PPI\nApo PPI\nApo PPI\nApo PPI\nApo PPI\nApo PPI\nApo PPI\nApo PPI\nApo PPI\nApo PPI\nApo PPI\n"
     ]
    }
   ],
   "source": [
    "\n",
    "print(len(matched_pockets))\n",
    "for pockets in matched_pockets:\n",
    "    if len(pockets) == 2:\n",
    "        print(pockets[0].parent_structure.universe.tag,pockets[1].parent_structure.universe.tag)\n",
    "    else:\n",
    "        print(pockets[0].parent_structure.universe.tag,)"
   ]
  },
  {
   "cell_type": "code",
   "execution_count": null,
   "metadata": {},
   "outputs": [],
   "source": []
  }
 ],
 "metadata": {
  "kernelspec": {
   "display_name": "Python 2",
   "language": "python",
   "name": "python2"
  },
  "language_info": {
   "codemirror_mode": {
    "name": "ipython",
    "version": 2
   },
   "file_extension": ".py",
   "mimetype": "text/x-python",
   "name": "python",
   "nbconvert_exporter": "python",
   "pygments_lexer": "ipython2",
   "version": "2.7.6"
  }
 },
 "nbformat": 4,
 "nbformat_minor": 0
}
