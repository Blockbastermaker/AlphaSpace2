{
 "cells": [
  {
   "cell_type": "markdown",
   "metadata": {
    "collapsed": true
   },
   "source": []
  },
  {
   "cell_type": "markdown",
   "metadata": {},
   "source": [
    "Pocket matching is the process of matching pockets in difference structure of a similiar protein, for example, the apo and holo structure of a receptor. Being able to find similiar pockets enables us to find differences in the binding region from a pocket centric view. \n",
    "\n",
    "Pocket matching is based on average linkage clustering using the distance matrix generated from Jaccard distance of pocket lining atoms. The atoms are compared based on their index in the protein structure, so one needs to pre align the sequence of two proteins should they have variations in atom composition.\n",
    "\n",
    "Here is an example of how you can compute the pocket lining atom difference, using it to cluster the pockets and generated a matching table of pockets between two snapshots. \n",
    "\n",
    "First we import the alphaspace module and load the structure. from the match directory. We are using the mdm5 apo and PPI structure."
   ]
  },
  {
   "cell_type": "code",
   "execution_count": 12,
   "metadata": {
    "collapsed": false
   },
   "outputs": [
    {
     "name": "stdout",
     "output_type": "stream",
     "text": [
      "Receptor Structure with 1 frames, 468 residues, 3689 atoms\nReceptor Structure with 1 frames, 467 residues, 3670 atoms\nBinder Structure with 1 frames, 12 residues, 99 atoms\n"
     ]
    }
   ],
   "source": [
    "import alphaspace,mdtraj\n",
    "import numpy as np\n",
    "\n",
    "\n",
    "apo_universe = alphaspace.AS_Universe(mdtraj.load('examples/match/A.pdb'),\n",
    "                                   guess_receptor_binder=False,guess_by_order=False,tag='Apo')\n",
    "ppi_universe = alphaspace.AS_Universe(mdtraj.load('examples/match/AB.pdb'),\n",
    "                                   guess_receptor_binder=True,guess_by_order=True,tag=\"PPI\")\n",
    "\n",
    "print(apo_universe.receptor)\n",
    "print(ppi_universe.receptor)\n",
    "print(ppi_universe.binder)"
   ]
  },
  {
   "cell_type": "markdown",
   "metadata": {},
   "source": [
    "You can remove non-overlapping atoms here like this."
   ]
  },
  {
   "cell_type": "code",
   "execution_count": 13,
   "metadata": {},
   "outputs": [],
   "source": [
    "# Creating overlapping atom set and slice the trajectory\n",
    "atom_list1 = set([(atom.name,atom.residue.index) for atom in list(apo_universe.receptor.atoms)])\n",
    "atom_list2 = set([(atom.name,atom.residue.index) for atom in list(ppi_universe.receptor.atoms)])\n",
    "\n",
    "shared_atom_list = atom_list2.intersection(atom_list1)\n",
    "\n",
    "for universe in apo_universe,ppi_universe:\n",
    "    kept_atom_indice = []\n",
    "    for atom in universe.receptor.atoms:\n",
    "        if (atom.name,atom.residue.index) in shared_atom_list:\n",
    "            kept_atom_indice.append(atom.index)\n",
    "    universe.receptor.traj.atom_slice(inplace=True,atom_indices=kept_atom_indice)   \n",
    "print(apo_universe.receptor)\n",
    "print(ppi_universe.receptor)"
   ]
  },
  {
   "cell_type": "markdown",
   "metadata": {},
   "source": [
    "Now we run the alphaspace on the given proteins. Note since there is no binder in the APO structure, you can not use *screen_by_lig_cntct* option."
   ]
  },
  {
   "cell_type": "code",
   "execution_count": 2,
   "metadata": {
    "collapsed": false
   },
   "outputs": [
    {
     "name": "stdout",
     "output_type": "stream",
     "text": [
      "0 snapshot processed\n"
     ]
    },
    {
     "name": "stdout",
     "output_type": "stream",
     "text": [
      "0 snapshot processed\n"
     ]
    }
   ],
   "source": [
    "apo_universe.config.screen_by_face = False\n",
    "apo_universe.config.screen_by_lig_cntct = False\n",
    "\n",
    "ppi_universe.config.screen_by_face = False\n",
    "ppi_universe.config.screen_by_lig_cntct = False\n",
    "\n",
    "apo_universe.run_alphaspace()\n",
    "ppi_universe.run_alphaspace()"
   ]
  },
  {
   "cell_type": "markdown",
   "metadata": {},
   "source": [
    "Same as before, to access the pockets you can simply iterate through them by calling .pockets method in the universe object. You can access the lining atom indices by:"
   ]
  },
  {
   "cell_type": "code",
   "execution_count": 3,
   "metadata": {},
   "outputs": [
    {
     "name": "stdout",
     "output_type": "stream",
     "text": [
      "[ 815  816  886  888  889 1355 1356 1357 1358 1359 1360 1361 1363 1368 1378\n 1382 1391 1393 1395 1399 1403 1413 1416]\n['NE1', 'CZ2', 'CG', 'CE', 'NZ', 'CB', 'CG', 'CD1', 'CD2', 'CE2', 'CE3', 'NE1', 'CZ3', 'O', 'O', 'O', 'O', 'CA', 'O', 'OD1', 'O', 'CB', 'OD2']\n"
     ]
    }
   ],
   "source": [
    "for pocket in apo_universe.pockets():\n",
    "    print(pocket.lining_atoms_idx)\n",
    "    print([atom.name for atom in pocket.lining_atoms])\n",
    "    break"
   ]
  },
  {
   "cell_type": "markdown",
   "metadata": {},
   "source": [
    "To calculate the number of atoms shared between two pockets, and also number of total atoms in them, we can use "
   ]
  },
  {
   "cell_type": "code",
   "execution_count": 4,
   "metadata": {
    "collapsed": true
   },
   "outputs": [
    {
     "name": "stdout",
     "output_type": "stream",
     "text": [
      "[<Pocket 90 in snapshot 0 with space 70 and 100% occupied>, <Pocket 85 in snapshot 0 with space 70 and 100% occupied>]\n[<Pocket 298 in snapshot 0 with space 1 and 100% occupied>, <Pocket 242 in snapshot 0 with space 8 and 100% occupied>]\n[<Pocket 270 in snapshot 0 with space 3 and 100% occupied>, <Pocket 250 in snapshot 0 with space 6 and 100% occupied>]\n[<Pocket 192 in snapshot 0 with space 19 and 100% occupied>]\n[<Pocket 159 in snapshot 0 with space 31 and 100% occupied>]\n[<Pocket 30 in snapshot 0 with space 138 and 100% occupied>, <Pocket 27 in snapshot 0 with space 160 and 100% occupied>]\n[<Pocket 191 in snapshot 0 with space 19 and 100% occupied>, <Pocket 192 in snapshot 0 with space 18 and 100% occupied>]\n[<Pocket 121 in snapshot 0 with space 50 and 100% occupied>, <Pocket 130 in snapshot 0 with space 47 and 100% occupied>]\n[<Pocket 45 in snapshot 0 with space 110 and 100% occupied>, <Pocket 49 in snapshot 0 with space 113 and 100% occupied>]\n[<Pocket 76 in snapshot 0 with space 79 and 100% occupied>, <Pocket 44 in snapshot 0 with space 120 and 100% occupied>]\n[<Pocket 34 in snapshot 0 with space 129 and 100% occupied>, <Pocket 43 in snapshot 0 with space 121 and 100% occupied>]\n[<Pocket 247 in snapshot 0 with space 6 and 100% occupied>, <Pocket 244 in snapshot 0 with space 8 and 100% occupied>]\n[<Pocket 142 in snapshot 0 with space 39 and 100% occupied>, <Pocket 141 in snapshot 0 with space 39 and 100% occupied>]\n[<Pocket 205 in snapshot 0 with space 16 and 100% occupied>, <Pocket 197 in snapshot 0 with space 17 and 100% occupied>]\n[<Pocket 163 in snapshot 0 with space 30 and 100% occupied>, <Pocket 162 in snapshot 0 with space 29 and 100% occupied>]\n[<Pocket 31 in snapshot 0 with space 137 and 100% occupied>, <Pocket 35 in snapshot 0 with space 135 and 100% occupied>]\n[<Pocket 8 in snapshot 0 with space 235 and 100% occupied>, <Pocket 9 in snapshot 0 with space 240 and 100% occupied>]\n[<Pocket 105 in snapshot 0 with space 59 and 100% occupied>, <Pocket 113 in snapshot 0 with space 56 and 100% occupied>]\n[<Pocket 38 in snapshot 0 with space 119 and 100% occupied>, <Pocket 45 in snapshot 0 with space 120 and 100% occupied>]\n[<Pocket 197 in snapshot 0 with space 18 and 100% occupied>, <Pocket 191 in snapshot 0 with space 18 and 100% occupied>]\n[<Pocket 251 in snapshot 0 with space 5 and 100% occupied>, <Pocket 218 in snapshot 0 with space 12 and 100% occupied>]\n[<Pocket 22 in snapshot 0 with space 157 and 100% occupied>, <Pocket 28 in snapshot 0 with space 152 and 100% occupied>]\n[<Pocket 193 in snapshot 0 with space 19 and 100% occupied>, <Pocket 188 in snapshot 0 with space 19 and 100% occupied>]\n[<Pocket 219 in snapshot 0 with space 11 and 100% occupied>, <Pocket 226 in snapshot 0 with space 10 and 100% occupied>]\n[<Pocket 64 in snapshot 0 with space 94 and 100% occupied>, <Pocket 90 in snapshot 0 with space 68 and 100% occupied>]\n[<Pocket 210 in snapshot 0 with space 14 and 100% occupied>]\n[<Pocket 175 in snapshot 0 with space 26 and 100% occupied>]\n[<Pocket 83 in snapshot 0 with space 75 and 100% occupied>, <Pocket 93 in snapshot 0 with space 67 and 100% occupied>]\n[<Pocket 130 in snapshot 0 with space 45 and 100% occupied>, <Pocket 127 in snapshot 0 with space 47 and 100% occupied>]\n[<Pocket 21 in snapshot 0 with space 160 and 100% occupied>, <Pocket 17 in snapshot 0 with space 198 and 100% occupied>]\n[<Pocket 116 in snapshot 0 with space 53 and 100% occupied>, <Pocket 102 in snapshot 0 with space 63 and 100% occupied>]\n[<Pocket 15 in snapshot 0 with space 185 and 100% occupied>]\n[<Pocket 274 in snapshot 0 with space 3 and 100% occupied>]\n[<Pocket 96 in snapshot 0 with space 65 and 100% occupied>]\n[<Pocket 21 in snapshot 0 with space 177 and 100% occupied>]\n[<Pocket 289 in snapshot 0 with space 2 and 100% occupied>, <Pocket 286 in snapshot 0 with space 2 and 100% occupied>]\n[<Pocket 286 in snapshot 0 with space 2 and 100% occupied>]\n[<Pocket 292 in snapshot 0 with space 1 and 100% occupied>]\n[<Pocket 249 in snapshot 0 with space 6 and 100% occupied>]\n[<Pocket 223 in snapshot 0 with space 11 and 100% occupied>]\n[<Pocket 214 in snapshot 0 with space 13 and 100% occupied>, <Pocket 203 in snapshot 0 with space 16 and 100% occupied>]\n[<Pocket 211 in snapshot 0 with space 14 and 100% occupied>, <Pocket 211 in snapshot 0 with space 13 and 100% occupied>]\n[<Pocket 227 in snapshot 0 with space 9 and 100% occupied>, <Pocket 220 in snapshot 0 with space 12 and 100% occupied>]\n[<Pocket 114 in snapshot 0 with space 55 and 100% occupied>, <Pocket 121 in snapshot 0 with space 49 and 100% occupied>]\n[<Pocket 166 in snapshot 0 with space 29 and 100% occupied>, <Pocket 137 in snapshot 0 with space 40 and 100% occupied>]\n[<Pocket 128 in snapshot 0 with space 47 and 100% occupied>, <Pocket 135 in snapshot 0 with space 40 and 100% occupied>]\n[<Pocket 208 in snapshot 0 with space 15 and 100% occupied>, <Pocket 186 in snapshot 0 with space 20 and 100% occupied>]\n[<Pocket 127 in snapshot 0 with space 48 and 100% occupied>, <Pocket 193 in snapshot 0 with space 18 and 100% occupied>]\n[<Pocket 224 in snapshot 0 with space 10 and 100% occupied>, <Pocket 59 in snapshot 0 with space 98 and 100% occupied>]\n[<Pocket 98 in snapshot 0 with space 64 and 100% occupied>, <Pocket 96 in snapshot 0 with space 65 and 100% occupied>]\n[<Pocket 120 in snapshot 0 with space 50 and 100% occupied>, <Pocket 118 in snapshot 0 with space 53 and 100% occupied>]\n[<Pocket 85 in snapshot 0 with space 74 and 100% occupied>, <Pocket 103 in snapshot 0 with space 62 and 100% occupied>]\n[<Pocket 46 in snapshot 0 with space 109 and 100% occupied>, <Pocket 65 in snapshot 0 with space 91 and 100% occupied>]\n[<Pocket 230 in snapshot 0 with space 9 and 100% occupied>, <Pocket 268 in snapshot 0 with space 4 and 100% occupied>]\n[<Pocket 51 in snapshot 0 with space 106 and 100% occupied>]\n[<Pocket 67 in snapshot 0 with space 87 and 100% occupied>]\n[<Pocket 75 in snapshot 0 with space 81 and 100% occupied>]\n[<Pocket 46 in snapshot 0 with space 119 and 100% occupied>]\n[<Pocket 102 in snapshot 0 with space 61 and 100% occupied>]\n[<Pocket 171 in snapshot 0 with space 26 and 100% occupied>]\n[<Pocket 255 in snapshot 0 with space 5 and 100% occupied>, <Pocket 256 in snapshot 0 with space 5 and 100% occupied>]\n[<Pocket 269 in snapshot 0 with space 4 and 100% occupied>]\n[<Pocket 247 in snapshot 0 with space 8 and 100% occupied>]\n[<Pocket 108 in snapshot 0 with space 59 and 100% occupied>, <Pocket 38 in snapshot 0 with space 128 and 100% occupied>]\n[<Pocket 259 in snapshot 0 with space 4 and 100% occupied>, <Pocket 210 in snapshot 0 with space 14 and 100% occupied>]\n[<Pocket 195 in snapshot 0 with space 19 and 100% occupied>, <Pocket 241 in snapshot 0 with space 8 and 100% occupied>]\n[<Pocket 223 in snapshot 0 with space 10 and 100% occupied>, <Pocket 166 in snapshot 0 with space 28 and 100% occupied>]\n[<Pocket 273 in snapshot 0 with space 3 and 100% occupied>]\n[<Pocket 279 in snapshot 0 with space 2 and 100% occupied>]\n[<Pocket 72 in snapshot 0 with space 83 and 100% occupied>]\n[<Pocket 155 in snapshot 0 with space 34 and 100% occupied>]\n[<Pocket 12 in snapshot 0 with space 199 and 100% occupied>]\n[<Pocket 132 in snapshot 0 with space 43 and 100% occupied>]\n[<Pocket 48 in snapshot 0 with space 108 and 100% occupied>]\n[<Pocket 143 in snapshot 0 with space 38 and 100% occupied>]\n[<Pocket 99 in snapshot 0 with space 63 and 100% occupied>]\n[<Pocket 86 in snapshot 0 with space 70 and 100% occupied>]\n[<Pocket 235 in snapshot 0 with space 8 and 100% occupied>]\n[<Pocket 146 in snapshot 0 with space 36 and 100% occupied>]\n[<Pocket 167 in snapshot 0 with space 29 and 100% occupied>]\n[<Pocket 252 in snapshot 0 with space 6 and 100% occupied>]\n[<Pocket 3 in snapshot 0 with space 299 and 100% occupied>]\n[<Pocket 4 in snapshot 0 with space 287 and 100% occupied>]\n[<Pocket 176 in snapshot 0 with space 25 and 100% occupied>]\n[<Pocket 174 in snapshot 0 with space 26 and 100% occupied>]\n[<Pocket 221 in snapshot 0 with space 11 and 100% occupied>]\n[<Pocket 144 in snapshot 0 with space 38 and 100% occupied>]\n[<Pocket 229 in snapshot 0 with space 9 and 100% occupied>]\n[<Pocket 182 in snapshot 0 with space 22 and 100% occupied>]\n[<Pocket 91 in snapshot 0 with space 69 and 100% occupied>]\n[<Pocket 75 in snapshot 0 with space 77 and 100% occupied>]\n[<Pocket 41 in snapshot 0 with space 113 and 100% occupied>]\n[<Pocket 36 in snapshot 0 with space 133 and 100% occupied>]\n[<Pocket 52 in snapshot 0 with space 105 and 100% occupied>]\n[<Pocket 107 in snapshot 0 with space 59 and 100% occupied>]\n[<Pocket 207 in snapshot 0 with space 15 and 100% occupied>, <Pocket 235 in snapshot 0 with space 9 and 100% occupied>]\n[<Pocket 53 in snapshot 0 with space 103 and 100% occupied>]\n[<Pocket 259 in snapshot 0 with space 5 and 100% occupied>]\n[<Pocket 203 in snapshot 0 with space 16 and 100% occupied>]\n[<Pocket 70 in snapshot 0 with space 84 and 100% occupied>]\n[<Pocket 80 in snapshot 0 with space 76 and 100% occupied>]\n[<Pocket 161 in snapshot 0 with space 29 and 100% occupied>]\n[<Pocket 66 in snapshot 0 with space 89 and 100% occupied>]\n[<Pocket 50 in snapshot 0 with space 112 and 100% occupied>]\n[<Pocket 240 in snapshot 0 with space 7 and 100% occupied>]\n[<Pocket 255 in snapshot 0 with space 6 and 100% occupied>]\n[<Pocket 164 in snapshot 0 with space 30 and 100% occupied>]\n[<Pocket 180 in snapshot 0 with space 23 and 100% occupied>]\n[<Pocket 185 in snapshot 0 with space 21 and 100% occupied>]\n[<Pocket 151 in snapshot 0 with space 34 and 100% occupied>]\n[<Pocket 69 in snapshot 0 with space 85 and 100% occupied>]\n[<Pocket 94 in snapshot 0 with space 67 and 100% occupied>]\n[<Pocket 43 in snapshot 0 with space 112 and 100% occupied>]\n[<Pocket 24 in snapshot 0 with space 169 and 100% occupied>]\n[<Pocket 204 in snapshot 0 with space 16 and 100% occupied>]\n[<Pocket 80 in snapshot 0 with space 73 and 100% occupied>]\n[<Pocket 146 in snapshot 0 with space 38 and 100% occupied>]\n[<Pocket 149 in snapshot 0 with space 35 and 100% occupied>]\n[<Pocket 156 in snapshot 0 with space 32 and 100% occupied>, <Pocket 16 in snapshot 0 with space 205 and 100% occupied>]\n[<Pocket 33 in snapshot 0 with space 129 and 100% occupied>]\n[<Pocket 104 in snapshot 0 with space 61 and 100% occupied>]\n[<Pocket 84 in snapshot 0 with space 74 and 100% occupied>]\n[<Pocket 200 in snapshot 0 with space 16 and 100% occupied>]\n[<Pocket 244 in snapshot 0 with space 7 and 100% occupied>]\n[<Pocket 276 in snapshot 0 with space 3 and 100% occupied>]\n[<Pocket 123 in snapshot 0 with space 49 and 100% occupied>]\n[<Pocket 123 in snapshot 0 with space 48 and 100% occupied>]\n[<Pocket 152 in snapshot 0 with space 35 and 100% occupied>]\n[<Pocket 215 in snapshot 0 with space 12 and 100% occupied>]\n[<Pocket 17 in snapshot 0 with space 181 and 100% occupied>]\n[<Pocket 239 in snapshot 0 with space 9 and 100% occupied>]\n[<Pocket 217 in snapshot 0 with space 13 and 100% occupied>, <Pocket 278 in snapshot 0 with space 3 and 100% occupied>]\n[<Pocket 268 in snapshot 0 with space 4 and 100% occupied>, <Pocket 253 in snapshot 0 with space 6 and 100% occupied>]\n[<Pocket 143 in snapshot 0 with space 38 and 100% occupied>]\n[<Pocket 176 in snapshot 0 with space 25 and 100% occupied>]\n[<Pocket 272 in snapshot 0 with space 3 and 100% occupied>]\n[<Pocket 262 in snapshot 0 with space 5 and 100% occupied>]\n[<Pocket 174 in snapshot 0 with space 26 and 100% occupied>]\n[<Pocket 260 in snapshot 0 with space 5 and 100% occupied>]\n[<Pocket 277 in snapshot 0 with space 2 and 100% occupied>]\n[<Pocket 246 in snapshot 0 with space 8 and 100% occupied>]\n[<Pocket 169 in snapshot 0 with space 28 and 100% occupied>]\n[<Pocket 290 in snapshot 0 with space 1 and 100% occupied>]\n[<Pocket 110 in snapshot 0 with space 57 and 100% occupied>]\n[<Pocket 92 in snapshot 0 with space 68 and 100% occupied>]\n[<Pocket 92 in snapshot 0 with space 69 and 100% occupied>]\n[<Pocket 88 in snapshot 0 with space 69 and 100% occupied>]\n[<Pocket 242 in snapshot 0 with space 7 and 100% occupied>, <Pocket 204 in snapshot 0 with space 14 and 100% occupied>]\n[<Pocket 295 in snapshot 0 with space 1 and 100% occupied>]\n[<Pocket 270 in snapshot 0 with space 4 and 100% occupied>]\n[<Pocket 134 in snapshot 0 with space 44 and 100% occupied>]\n[<Pocket 128 in snapshot 0 with space 47 and 100% occupied>]\n[<Pocket 132 in snapshot 0 with space 45 and 100% occupied>]\n[<Pocket 97 in snapshot 0 with space 65 and 100% occupied>]\n[<Pocket 100 in snapshot 0 with space 62 and 100% occupied>]\n[<Pocket 95 in snapshot 0 with space 66 and 100% occupied>]\n[<Pocket 111 in snapshot 0 with space 56 and 100% occupied>]\n[<Pocket 156 in snapshot 0 with space 34 and 100% occupied>]\n[<Pocket 112 in snapshot 0 with space 55 and 100% occupied>]\n[<Pocket 116 in snapshot 0 with space 55 and 100% occupied>]\n[<Pocket 215 in snapshot 0 with space 13 and 100% occupied>]\n[<Pocket 129 in snapshot 0 with space 47 and 100% occupied>]\n[<Pocket 67 in snapshot 0 with space 86 and 100% occupied>, <Pocket 229 in snapshot 0 with space 10 and 100% occupied>]\n[<Pocket 158 in snapshot 0 with space 32 and 100% occupied>]\n[<Pocket 261 in snapshot 0 with space 5 and 100% occupied>]\n[<Pocket 278 in snapshot 0 with space 2 and 100% occupied>]\n[<Pocket 206 in snapshot 0 with space 14 and 100% occupied>]\n[<Pocket 117 in snapshot 0 with space 52 and 100% occupied>]\n[<Pocket 8 in snapshot 0 with space 242 and 100% occupied>]\n[<Pocket 281 in snapshot 0 with space 2 and 100% occupied>, <Pocket 213 in snapshot 0 with space 13 and 100% occupied>]\n[<Pocket 183 in snapshot 0 with space 21 and 100% occupied>, <Pocket 183 in snapshot 0 with space 22 and 100% occupied>]\n[<Pocket 138 in snapshot 0 with space 41 and 100% occupied>]\n[<Pocket 201 in snapshot 0 with space 16 and 100% occupied>]\n[<Pocket 297 in snapshot 0 with space 1 and 100% occupied>]\n[<Pocket 282 in snapshot 0 with space 2 and 100% occupied>]\n[<Pocket 280 in snapshot 0 with space 2 and 100% occupied>]\n[<Pocket 147 in snapshot 0 with space 38 and 100% occupied>]\n[<Pocket 142 in snapshot 0 with space 39 and 100% occupied>]\n[<Pocket 104 in snapshot 0 with space 60 and 100% occupied>]\n[<Pocket 89 in snapshot 0 with space 69 and 100% occupied>]\n[<Pocket 184 in snapshot 0 with space 21 and 100% occupied>]\n[<Pocket 147 in snapshot 0 with space 35 and 100% occupied>]\n[<Pocket 62 in snapshot 0 with space 95 and 100% occupied>]\n[<Pocket 109 in snapshot 0 with space 58 and 100% occupied>]\n[<Pocket 29 in snapshot 0 with space 142 and 100% occupied>]\n[<Pocket 134 in snapshot 0 with space 41 and 100% occupied>]\n[<Pocket 68 in snapshot 0 with space 85 and 100% occupied>]\n[<Pocket 172 in snapshot 0 with space 26 and 100% occupied>]\n[<Pocket 125 in snapshot 0 with space 48 and 100% occupied>]\n[<Pocket 154 in snapshot 0 with space 34 and 100% occupied>]\n[<Pocket 177 in snapshot 0 with space 25 and 100% occupied>]\n[<Pocket 30 in snapshot 0 with space 147 and 100% occupied>]\n[<Pocket 171 in snapshot 0 with space 27 and 100% occupied>]\n[<Pocket 181 in snapshot 0 with space 23 and 100% occupied>]\n[<Pocket 73 in snapshot 0 with space 83 and 100% occupied>]\n[<Pocket 76 in snapshot 0 with space 77 and 100% occupied>]\n[<Pocket 136 in snapshot 0 with space 41 and 100% occupied>]\n[<Pocket 184 in snapshot 0 with space 21 and 100% occupied>]\n[<Pocket 237 in snapshot 0 with space 8 and 100% occupied>]\n[<Pocket 145 in snapshot 0 with space 38 and 100% occupied>]\n[<Pocket 225 in snapshot 0 with space 9 and 100% occupied>, <Pocket 248 in snapshot 0 with space 8 and 100% occupied>]\n[<Pocket 222 in snapshot 0 with space 10 and 100% occupied>, <Pocket 164 in snapshot 0 with space 28 and 100% occupied>]\n[<Pocket 246 in snapshot 0 with space 6 and 100% occupied>, <Pocket 266 in snapshot 0 with space 4 and 100% occupied>]\n[<Pocket 239 in snapshot 0 with space 7 and 100% occupied>, <Pocket 234 in snapshot 0 with space 9 and 100% occupied>]\n[<Pocket 109 in snapshot 0 with space 57 and 100% occupied>, <Pocket 117 in snapshot 0 with space 54 and 100% occupied>]\n[<Pocket 253 in snapshot 0 with space 5 and 100% occupied>, <Pocket 224 in snapshot 0 with space 11 and 100% occupied>]\n[<Pocket 256 in snapshot 0 with space 5 and 100% occupied>, <Pocket 231 in snapshot 0 with space 9 and 100% occupied>]\n[<Pocket 149 in snapshot 0 with space 36 and 100% occupied>, <Pocket 205 in snapshot 0 with space 14 and 100% occupied>]\n[<Pocket 159 in snapshot 0 with space 32 and 100% occupied>, <Pocket 196 in snapshot 0 with space 17 and 100% occupied>]\n[<Pocket 63 in snapshot 0 with space 95 and 100% occupied>, <Pocket 34 in snapshot 0 with space 136 and 100% occupied>]\n[<Pocket 162 in snapshot 0 with space 31 and 100% occupied>, <Pocket 264 in snapshot 0 with space 4 and 100% occupied>]\n[<Pocket 137 in snapshot 0 with space 41 and 100% occupied>, <Pocket 124 in snapshot 0 with space 48 and 100% occupied>]\n[<Pocket 243 in snapshot 0 with space 7 and 100% occupied>]\n[<Pocket 221 in snapshot 0 with space 11 and 100% occupied>]\n[<Pocket 288 in snapshot 0 with space 2 and 100% occupied>, <Pocket 289 in snapshot 0 with space 1 and 100% occupied>]\n[<Pocket 173 in snapshot 0 with space 26 and 100% occupied>, <Pocket 227 in snapshot 0 with space 10 and 100% occupied>]\n[<Pocket 160 in snapshot 0 with space 31 and 100% occupied>, <Pocket 160 in snapshot 0 with space 31 and 100% occupied>]\n[<Pocket 220 in snapshot 0 with space 11 and 100% occupied>, <Pocket 251 in snapshot 0 with space 6 and 100% occupied>]\n[<Pocket 19 in snapshot 0 with space 166 and 100% occupied>, <Pocket 25 in snapshot 0 with space 163 and 100% occupied>]\n[<Pocket 10 in snapshot 0 with space 203 and 100% occupied>, <Pocket 7 in snapshot 0 with space 248 and 100% occupied>]\n[<Pocket 24 in snapshot 0 with space 155 and 100% occupied>, <Pocket 77 in snapshot 0 with space 75 and 100% occupied>]\n[<Pocket 40 in snapshot 0 with space 115 and 100% occupied>, <Pocket 69 in snapshot 0 with space 85 and 100% occupied>]\n[<Pocket 65 in snapshot 0 with space 93 and 100% occupied>, <Pocket 51 in snapshot 0 with space 111 and 100% occupied>]\n[<Pocket 263 in snapshot 0 with space 4 and 100% occupied>, <Pocket 269 in snapshot 0 with space 4 and 100% occupied>]\n[<Pocket 196 in snapshot 0 with space 19 and 100% occupied>, <Pocket 258 in snapshot 0 with space 5 and 100% occupied>]\n[<Pocket 260 in snapshot 0 with space 4 and 100% occupied>]\n[<Pocket 275 in snapshot 0 with space 3 and 100% occupied>]\n[<Pocket 262 in snapshot 0 with space 4 and 100% occupied>, <Pocket 271 in snapshot 0 with space 4 and 100% occupied>]\n[<Pocket 180 in snapshot 0 with space 23 and 100% occupied>, <Pocket 178 in snapshot 0 with space 24 and 100% occupied>]\n[<Pocket 25 in snapshot 0 with space 147 and 100% occupied>, <Pocket 40 in snapshot 0 with space 126 and 100% occupied>]\n[<Pocket 198 in snapshot 0 with space 18 and 100% occupied>, <Pocket 179 in snapshot 0 with space 23 and 100% occupied>]\n[<Pocket 231 in snapshot 0 with space 9 and 100% occupied>, <Pocket 233 in snapshot 0 with space 9 and 100% occupied>]\n[<Pocket 103 in snapshot 0 with space 61 and 100% occupied>, <Pocket 105 in snapshot 0 with space 60 and 100% occupied>]\n[<Pocket 232 in snapshot 0 with space 9 and 100% occupied>, <Pocket 240 in snapshot 0 with space 8 and 100% occupied>]\n[<Pocket 267 in snapshot 0 with space 4 and 100% occupied>, <Pocket 265 in snapshot 0 with space 4 and 100% occupied>]\n[<Pocket 199 in snapshot 0 with space 17 and 100% occupied>, <Pocket 245 in snapshot 0 with space 8 and 100% occupied>]\n[<Pocket 200 in snapshot 0 with space 17 and 100% occupied>, <Pocket 198 in snapshot 0 with space 17 and 100% occupied>]\n[<Pocket 129 in snapshot 0 with space 45 and 100% occupied>, <Pocket 99 in snapshot 0 with space 65 and 100% occupied>]\n[<Pocket 18 in snapshot 0 with space 176 and 100% occupied>, <Pocket 22 in snapshot 0 with space 173 and 100% occupied>]\n[<Pocket 94 in snapshot 0 with space 68 and 100% occupied>, <Pocket 120 in snapshot 0 with space 50 and 100% occupied>]\n[<Pocket 131 in snapshot 0 with space 45 and 100% occupied>, <Pocket 119 in snapshot 0 with space 51 and 100% occupied>]\n[<Pocket 189 in snapshot 0 with space 19 and 100% occupied>, <Pocket 185 in snapshot 0 with space 20 and 100% occupied>]\n[<Pocket 141 in snapshot 0 with space 40 and 100% occupied>, <Pocket 125 in snapshot 0 with space 48 and 100% occupied>]\n[<Pocket 226 in snapshot 0 with space 9 and 100% occupied>, <Pocket 291 in snapshot 0 with space 1 and 100% occupied>]\n[<Pocket 178 in snapshot 0 with space 25 and 100% occupied>, <Pocket 170 in snapshot 0 with space 27 and 100% occupied>]\n[<Pocket 216 in snapshot 0 with space 13 and 100% occupied>, <Pocket 237 in snapshot 0 with space 9 and 100% occupied>]\n[<Pocket 122 in snapshot 0 with space 49 and 100% occupied>, <Pocket 91 in snapshot 0 with space 68 and 100% occupied>]\n[<Pocket 265 in snapshot 0 with space 4 and 100% occupied>, <Pocket 267 in snapshot 0 with space 4 and 100% occupied>]\n[<Pocket 276 in snapshot 0 with space 3 and 100% occupied>, <Pocket 294 in snapshot 0 with space 1 and 100% occupied>]\n[<Pocket 88 in snapshot 0 with space 73 and 100% occupied>, <Pocket 84 in snapshot 0 with space 71 and 100% occupied>]\n[<Pocket 175 in snapshot 0 with space 25 and 100% occupied>, <Pocket 194 in snapshot 0 with space 18 and 100% occupied>]\n[<Pocket 89 in snapshot 0 with space 72 and 100% occupied>, <Pocket 62 in snapshot 0 with space 93 and 100% occupied>]\n[<Pocket 93 in snapshot 0 with space 68 and 100% occupied>, <Pocket 168 in snapshot 0 with space 27 and 100% occupied>]\n[<Pocket 119 in snapshot 0 with space 51 and 100% occupied>, <Pocket 110 in snapshot 0 with space 58 and 100% occupied>]\n[<Pocket 248 in snapshot 0 with space 6 and 100% occupied>]\n[<Pocket 222 in snapshot 0 with space 11 and 100% occupied>]\n[<Pocket 292 in snapshot 0 with space 1 and 100% occupied>, <Pocket 288 in snapshot 0 with space 1 and 100% occupied>]\n[<Pocket 78 in snapshot 0 with space 78 and 100% occupied>, <Pocket 72 in snapshot 0 with space 81 and 100% occupied>]\n[<Pocket 279 in snapshot 0 with space 2 and 100% occupied>, <Pocket 230 in snapshot 0 with space 9 and 100% occupied>]\n[<Pocket 70 in snapshot 0 with space 84 and 100% occupied>, <Pocket 12 in snapshot 0 with space 222 and 100% occupied>]\n[<Pocket 58 in snapshot 0 with space 97 and 100% occupied>]\n[<Pocket 13 in snapshot 0 with space 217 and 100% occupied>]\n[<Pocket 6 in snapshot 0 with space 271 and 100% occupied>, <Pocket 5 in snapshot 0 with space 267 and 100% occupied>]\n[<Pocket 57 in snapshot 0 with space 98 and 100% occupied>, <Pocket 78 in snapshot 0 with space 75 and 100% occupied>]\n[<Pocket 194 in snapshot 0 with space 19 and 100% occupied>, <Pocket 208 in snapshot 0 with space 14 and 100% occupied>]\n[<Pocket 56 in snapshot 0 with space 100 and 100% occupied>, <Pocket 52 in snapshot 0 with space 108 and 100% occupied>]\n[<Pocket 213 in snapshot 0 with space 14 and 100% occupied>, <Pocket 216 in snapshot 0 with space 12 and 100% occupied>]\n[<Pocket 47 in snapshot 0 with space 109 and 100% occupied>, <Pocket 18 in snapshot 0 with space 195 and 100% occupied>]\n[<Pocket 54 in snapshot 0 with space 102 and 100% occupied>, <Pocket 11 in snapshot 0 with space 227 and 100% occupied>]\n[<Pocket 140 in snapshot 0 with space 40 and 100% occupied>]\n[<Pocket 133 in snapshot 0 with space 42 and 100% occupied>]\n[<Pocket 26 in snapshot 0 with space 146 and 100% occupied>, <Pocket 26 in snapshot 0 with space 161 and 100% occupied>]\n[<Pocket 16 in snapshot 0 with space 183 and 100% occupied>, <Pocket 31 in snapshot 0 with space 145 and 100% occupied>]\n[<Pocket 252 in snapshot 0 with space 5 and 100% occupied>]\n[<Pocket 219 in snapshot 0 with space 12 and 100% occupied>]\n[<Pocket 13 in snapshot 0 with space 191 and 100% occupied>, <Pocket 19 in snapshot 0 with space 187 and 100% occupied>]\n[<Pocket 9 in snapshot 0 with space 211 and 100% occupied>, <Pocket 10 in snapshot 0 with space 231 and 100% occupied>]\n[<Pocket 254 in snapshot 0 with space 5 and 100% occupied>]\n[<Pocket 54 in snapshot 0 with space 104 and 100% occupied>]\n[<Pocket 218 in snapshot 0 with space 11 and 100% occupied>, <Pocket 195 in snapshot 0 with space 17 and 100% occupied>]\n[<Pocket 257 in snapshot 0 with space 5 and 100% occupied>, <Pocket 282 in snapshot 0 with space 2 and 100% occupied>]\n[<Pocket 55 in snapshot 0 with space 102 and 100% occupied>, <Pocket 87 in snapshot 0 with space 70 and 100% occupied>]\n[<Pocket 113 in snapshot 0 with space 55 and 100% occupied>, <Pocket 64 in snapshot 0 with space 92 and 100% occupied>]\n[<Pocket 36 in snapshot 0 with space 125 and 100% occupied>, <Pocket 3 in snapshot 0 with space 310 and 100% occupied>]\n[<Pocket 148 in snapshot 0 with space 37 and 100% occupied>, <Pocket 115 in snapshot 0 with space 55 and 100% occupied>]\n[<Pocket 182 in snapshot 0 with space 21 and 100% occupied>]\n[<Pocket 58 in snapshot 0 with space 99 and 100% occupied>]\n[<Pocket 172 in snapshot 0 with space 26 and 100% occupied>, <Pocket 114 in snapshot 0 with space 55 and 100% occupied>]\n[<Pocket 294 in snapshot 0 with space 1 and 100% occupied>]\n[<Pocket 181 in snapshot 0 with space 22 and 100% occupied>, <Pocket 158 in snapshot 0 with space 33 and 100% occupied>]\n[<Pocket 74 in snapshot 0 with space 83 and 100% occupied>, <Pocket 37 in snapshot 0 with space 128 and 100% occupied>]\n[<Pocket 151 in snapshot 0 with space 36 and 100% occupied>, <Pocket 140 in snapshot 0 with space 39 and 100% occupied>]\n[<Pocket 202 in snapshot 0 with space 17 and 100% occupied>]\n[<Pocket 165 in snapshot 0 with space 28 and 100% occupied>]\n[<Pocket 187 in snapshot 0 with space 21 and 100% occupied>, <Pocket 169 in snapshot 0 with space 27 and 100% occupied>]\n[<Pocket 170 in snapshot 0 with space 28 and 100% occupied>, <Pocket 163 in snapshot 0 with space 29 and 100% occupied>]\n[<Pocket 154 in snapshot 0 with space 34 and 100% occupied>, <Pocket 153 in snapshot 0 with space 34 and 100% occupied>]\n[<Pocket 2 in snapshot 0 with space 318 and 100% occupied>, <Pocket 2 in snapshot 0 with space 330 and 100% occupied>]\n[<Pocket 82 in snapshot 0 with space 76 and 100% occupied>, <Pocket 63 in snapshot 0 with space 93 and 100% occupied>]\n[<Pocket 264 in snapshot 0 with space 4 and 100% occupied>, <Pocket 209 in snapshot 0 with space 14 and 100% occupied>]\n[<Pocket 283 in snapshot 0 with space 2 and 100% occupied>, <Pocket 68 in snapshot 0 with space 86 and 100% occupied>]\n[<Pocket 266 in snapshot 0 with space 4 and 100% occupied>]\n[<Pocket 243 in snapshot 0 with space 8 and 100% occupied>]\n[<Pocket 5 in snapshot 0 with space 281 and 100% occupied>]\n[<Pocket 66 in snapshot 0 with space 89 and 100% occupied>]\n[<Pocket 23 in snapshot 0 with space 156 and 100% occupied>]\n[<Pocket 15 in snapshot 0 with space 206 and 100% occupied>]\n[<Pocket 50 in snapshot 0 with space 106 and 100% occupied>, <Pocket 42 in snapshot 0 with space 122 and 100% occupied>]\n[<Pocket 39 in snapshot 0 with space 119 and 100% occupied>, <Pocket 23 in snapshot 0 with space 170 and 100% occupied>]\n[<Pocket 287 in snapshot 0 with space 2 and 100% occupied>]\n[<Pocket 295 in snapshot 0 with space 1 and 100% occupied>]\n[<Pocket 133 in snapshot 0 with space 44 and 100% occupied>, <Pocket 150 in snapshot 0 with space 34 and 100% occupied>]\n[<Pocket 20 in snapshot 0 with space 161 and 100% occupied>, <Pocket 53 in snapshot 0 with space 108 and 100% occupied>]\n[<Pocket 179 in snapshot 0 with space 24 and 100% occupied>, <Pocket 257 in snapshot 0 with space 5 and 100% occupied>]\n[<Pocket 284 in snapshot 0 with space 2 and 100% occupied>]\n[<Pocket 283 in snapshot 0 with space 2 and 100% occupied>]\n[<Pocket 233 in snapshot 0 with space 9 and 100% occupied>, <Pocket 217 in snapshot 0 with space 12 and 100% occupied>]\n[<Pocket 250 in snapshot 0 with space 6 and 100% occupied>, <Pocket 148 in snapshot 0 with space 35 and 100% occupied>]\n[<Pocket 11 in snapshot 0 with space 200 and 100% occupied>, <Pocket 20 in snapshot 0 with space 182 and 100% occupied>]\n[<Pocket 115 in snapshot 0 with space 54 and 100% occupied>, <Pocket 61 in snapshot 0 with space 94 and 100% occupied>]\n[<Pocket 106 in snapshot 0 with space 59 and 100% occupied>, <Pocket 106 in snapshot 0 with space 60 and 100% occupied>]\n[<Pocket 71 in snapshot 0 with space 84 and 100% occupied>]\n[<Pocket 214 in snapshot 0 with space 13 and 100% occupied>]\n[<Pocket 261 in snapshot 0 with space 4 and 100% occupied>]\n[<Pocket 232 in snapshot 0 with space 9 and 100% occupied>]\n[<Pocket 1 in snapshot 0 with space 355 and 100% occupied>, <Pocket 32 in snapshot 0 with space 138 and 100% occupied>]\n[<Pocket 155 in snapshot 0 with space 33 and 100% occupied>, <Pocket 199 in snapshot 0 with space 17 and 100% occupied>]\n[<Pocket 7 in snapshot 0 with space 242 and 100% occupied>, <Pocket 6 in snapshot 0 with space 254 and 100% occupied>]\n[<Pocket 153 in snapshot 0 with space 34 and 100% occupied>, <Pocket 139 in snapshot 0 with space 39 and 100% occupied>]\n[<Pocket 14 in snapshot 0 with space 190 and 100% occupied>, <Pocket 79 in snapshot 0 with space 74 and 100% occupied>]\n[<Pocket 95 in snapshot 0 with space 67 and 100% occupied>]\n[<Pocket 112 in snapshot 0 with space 56 and 100% occupied>]\n[<Pocket 86 in snapshot 0 with space 74 and 100% occupied>]\n[<Pocket 98 in snapshot 0 with space 65 and 100% occupied>]\n[<Pocket 77 in snapshot 0 with space 78 and 100% occupied>]\n[<Pocket 167 in snapshot 0 with space 28 and 100% occupied>]\n[<Pocket 28 in snapshot 0 with space 144 and 100% occupied>, <Pocket 29 in snapshot 0 with space 148 and 100% occupied>]\n[<Pocket 212 in snapshot 0 with space 14 and 100% occupied>, <Pocket 293 in snapshot 0 with space 1 and 100% occupied>]\n[<Pocket 165 in snapshot 0 with space 29 and 100% occupied>]\n[<Pocket 71 in snapshot 0 with space 82 and 100% occupied>]\n[<Pocket 275 in snapshot 0 with space 3 and 100% occupied>]\n[<Pocket 277 in snapshot 0 with space 3 and 100% occupied>]\n[<Pocket 144 in snapshot 0 with space 38 and 100% occupied>, <Pocket 152 in snapshot 0 with space 34 and 100% occupied>]\n[<Pocket 296 in snapshot 0 with space 1 and 100% occupied>]\n[<Pocket 161 in snapshot 0 with space 31 and 100% occupied>, <Pocket 74 in snapshot 0 with space 79 and 100% occupied>]\n[<Pocket 79 in snapshot 0 with space 76 and 100% occupied>, <Pocket 101 in snapshot 0 with space 63 and 100% occupied>]\n[<Pocket 234 in snapshot 0 with space 8 and 100% occupied>, <Pocket 236 in snapshot 0 with space 9 and 100% occupied>]\n[<Pocket 238 in snapshot 0 with space 7 and 100% occupied>, <Pocket 249 in snapshot 0 with space 7 and 100% occupied>]\n[<Pocket 190 in snapshot 0 with space 19 and 100% occupied>, <Pocket 189 in snapshot 0 with space 19 and 100% occupied>]\n[<Pocket 49 in snapshot 0 with space 108 and 100% occupied>, <Pocket 14 in snapshot 0 with space 213 and 100% occupied>]\n[<Pocket 27 in snapshot 0 with space 146 and 100% occupied>, <Pocket 73 in snapshot 0 with space 80 and 100% occupied>]\n[<Pocket 32 in snapshot 0 with space 134 and 100% occupied>, <Pocket 39 in snapshot 0 with space 127 and 100% occupied>]\n[<Pocket 201 in snapshot 0 with space 17 and 100% occupied>, <Pocket 187 in snapshot 0 with space 20 and 100% occupied>]\n[<Pocket 118 in snapshot 0 with space 51 and 100% occupied>, <Pocket 202 in snapshot 0 with space 16 and 100% occupied>]\n[<Pocket 290 in snapshot 0 with space 1 and 100% occupied>, <Pocket 190 in snapshot 0 with space 19 and 100% occupied>]\n[<Pocket 61 in snapshot 0 with space 96 and 100% occupied>, <Pocket 57 in snapshot 0 with space 100 and 100% occupied>]\n[<Pocket 241 in snapshot 0 with space 7 and 100% occupied>, <Pocket 212 in snapshot 0 with space 13 and 100% occupied>]\n[<Pocket 228 in snapshot 0 with space 9 and 100% occupied>, <Pocket 238 in snapshot 0 with space 9 and 100% occupied>]\n[<Pocket 126 in snapshot 0 with space 48 and 100% occupied>, <Pocket 122 in snapshot 0 with space 49 and 100% occupied>]\n[<Pocket 258 in snapshot 0 with space 4 and 100% occupied>, <Pocket 263 in snapshot 0 with space 4 and 100% occupied>]\n[<Pocket 37 in snapshot 0 with space 119 and 100% occupied>, <Pocket 41 in snapshot 0 with space 123 and 100% occupied>]\n[<Pocket 107 in snapshot 0 with space 59 and 100% occupied>, <Pocket 111 in snapshot 0 with space 57 and 100% occupied>]\n[<Pocket 101 in snapshot 0 with space 62 and 100% occupied>, <Pocket 47 in snapshot 0 with space 117 and 100% occupied>]\n[<Pocket 135 in snapshot 0 with space 42 and 100% occupied>, <Pocket 131 in snapshot 0 with space 44 and 100% occupied>]\n[<Pocket 168 in snapshot 0 with space 28 and 100% occupied>, <Pocket 173 in snapshot 0 with space 26 and 100% occupied>]\n[<Pocket 274 in snapshot 0 with space 3 and 100% occupied>]\n[<Pocket 272 in snapshot 0 with space 4 and 100% occupied>]\n[<Pocket 236 in snapshot 0 with space 8 and 100% occupied>]\n[<Pocket 207 in snapshot 0 with space 14 and 100% occupied>]\n[<Pocket 4 in snapshot 0 with space 291 and 100% occupied>, <Pocket 1 in snapshot 0 with space 338 and 100% occupied>]\n[<Pocket 145 in snapshot 0 with space 38 and 100% occupied>, <Pocket 273 in snapshot 0 with space 4 and 100% occupied>]\n[<Pocket 35 in snapshot 0 with space 128 and 100% occupied>, <Pocket 136 in snapshot 0 with space 40 and 100% occupied>]\n[<Pocket 81 in snapshot 0 with space 76 and 100% occupied>, <Pocket 33 in snapshot 0 with space 136 and 100% occupied>]\n[<Pocket 150 in snapshot 0 with space 36 and 100% occupied>, <Pocket 108 in snapshot 0 with space 59 and 100% occupied>]\n[<Pocket 209 in snapshot 0 with space 15 and 100% occupied>, <Pocket 138 in snapshot 0 with space 39 and 100% occupied>]\n[<Pocket 157 in snapshot 0 with space 32 and 100% occupied>, <Pocket 225 in snapshot 0 with space 11 and 100% occupied>]\n[<Pocket 245 in snapshot 0 with space 6 and 100% occupied>]\n[<Pocket 83 in snapshot 0 with space 71 and 100% occupied>]\n[<Pocket 87 in snapshot 0 with space 74 and 100% occupied>, <Pocket 82 in snapshot 0 with space 72 and 100% occupied>]\n[<Pocket 280 in snapshot 0 with space 2 and 100% occupied>, <Pocket 284 in snapshot 0 with space 2 and 100% occupied>]\n[<Pocket 271 in snapshot 0 with space 3 and 100% occupied>, <Pocket 281 in snapshot 0 with space 2 and 100% occupied>]\n[<Pocket 285 in snapshot 0 with space 2 and 100% occupied>]\n[<Pocket 285 in snapshot 0 with space 2 and 100% occupied>]\n[<Pocket 124 in snapshot 0 with space 49 and 100% occupied>, <Pocket 126 in snapshot 0 with space 47 and 100% occupied>]\n[<Pocket 186 in snapshot 0 with space 21 and 100% occupied>, <Pocket 228 in snapshot 0 with space 10 and 100% occupied>]\n[<Pocket 206 in snapshot 0 with space 16 and 100% occupied>, <Pocket 177 in snapshot 0 with space 25 and 100% occupied>]\n[<Pocket 291 in snapshot 0 with space 1 and 100% occupied>, <Pocket 254 in snapshot 0 with space 6 and 100% occupied>]\n[<Pocket 59 in snapshot 0 with space 97 and 100% occupied>, <Pocket 60 in snapshot 0 with space 96 and 100% occupied>]\n[<Pocket 97 in snapshot 0 with space 64 and 100% occupied>, <Pocket 100 in snapshot 0 with space 64 and 100% occupied>]\n[<Pocket 293 in snapshot 0 with space 1 and 100% occupied>, <Pocket 287 in snapshot 0 with space 1 and 100% occupied>]\n[<Pocket 42 in snapshot 0 with space 112 and 100% occupied>, <Pocket 55 in snapshot 0 with space 104 and 100% occupied>]\n[<Pocket 139 in snapshot 0 with space 41 and 100% occupied>, <Pocket 48 in snapshot 0 with space 116 and 100% occupied>]\n[<Pocket 44 in snapshot 0 with space 111 and 100% occupied>, <Pocket 56 in snapshot 0 with space 102 and 100% occupied>]\n[<Pocket 60 in snapshot 0 with space 97 and 100% occupied>, <Pocket 81 in snapshot 0 with space 73 and 100% occupied>]\n[<Pocket 188 in snapshot 0 with space 20 and 100% occupied>]\n[<Pocket 157 in snapshot 0 with space 33 and 100% occupied>]\n"
     ]
    }
   ],
   "source": [
    "from scipy.cluster.hierarchy import linkage, fcluster\n",
    "from scipy.spatial.distance import squareform\n",
    "\n",
    "\n",
    "pocket_list = (list(apo_universe.pockets(snapshot_idx=0,active_only=False))+list(ppi_universe.pockets(snapshot_idx=0,active_only=False)))\n",
    "\n",
    "pocket_diff_matrix = np.ones((len(pocket_list),len(pocket_list))) * 10\n",
    "\n",
    "for i, pocket1 in enumerate(pocket_list):\n",
    "    for j, pocket2 in enumerate(pocket_list):\n",
    "        if pocket1.parent_structure.universe.tag != pocket2.parent_structure.universe.tag and i > j:\n",
    "\n",
    "            pocket_diff_matrix[i][j] = pocket_diff_matrix[j][i] = 1- pocket1.jaccard_similarity(pocket2)\n",
    "        if i == j:\n",
    "            pocket_diff_matrix[i][i] = 0\n",
    "        \n",
    "zmat = linkage(squareform(pocket_diff_matrix),method='average')\n",
    "pocket_cluster_indices = fcluster(zmat, 0.75,criterion='distance') - 1\n",
    "\n",
    "\n",
    "matched_pockets = [[] for _ in range(max(pocket_cluster_indices)+1)]\n",
    "for pocket_index, pocket_cluster_index in enumerate(pocket_cluster_indices):\n",
    "    matched_pockets[pocket_cluster_index].append(pocket_list[pocket_index])\n"
   ]
  },
  {
   "cell_type": "markdown",
   "metadata": {},
   "source": [
    "From here you can access the pairs of pockets that has been matched:"
   ]
  },
  {
   "cell_type": "code",
   "execution_count": 9,
   "metadata": {},
   "outputs": [
    {
     "name": "stdout",
     "output_type": "stream",
     "text": [
      "Apo PPI\nApo PPI\nApo PPI\nApo\nPPI\nApo PPI\nApo PPI\nApo PPI\nApo PPI\nApo PPI\nApo PPI\nApo PPI\nApo PPI\nApo PPI\nApo PPI\nApo PPI\nApo PPI\nApo PPI\nApo PPI\nApo PPI\nApo PPI\nApo PPI\nApo PPI\nApo PPI\nApo PPI\nApo\nPPI\nApo PPI\nApo PPI\nApo PPI\nApo PPI\nApo\nPPI\nApo\nPPI\nApo PPI\nApo\nPPI\nApo\nPPI\nApo PPI\nApo PPI\nApo PPI\nApo PPI\nApo PPI\nApo PPI\nApo PPI\nApo PPI\nApo PPI\nApo PPI\nApo PPI\nApo PPI\nApo PPI\nApo PPI\nApo\nPPI\nApo\nPPI\nApo\nPPI\nApo PPI\nApo\nPPI\nApo PPI\nApo PPI\nApo PPI\nApo PPI\nApo\nPPI\nApo\nPPI\nApo\nPPI\nApo\nPPI\nApo\nPPI\nApo\nPPI\nApo\nPPI\nApo\nPPI\nApo\nPPI\nApo\nPPI\nApo\nPPI\nApo\nPPI\nApo\nPPI\nApo\nPPI\nApo PPI\nApo\nPPI\nApo\nPPI\nApo\nPPI\nApo\nPPI\nApo\nPPI\nApo\nPPI\nApo\nPPI\nApo\nPPI\nApo\nPPI\nApo\nPPI\nApo\nPPI\nApo PPI\nApo\nPPI\nApo\nPPI\nApo\nPPI\nApo\nPPI\nApo\nPPI\nApo\nPPI\nApo PPI\nApo PPI\nApo\nPPI\nApo\nPPI\nApo\nPPI\nApo\nPPI\nApo\nPPI\nApo\nPPI\nApo\nPPI\nApo PPI\nApo\nPPI\nApo\nPPI\nApo\nPPI\nApo\nPPI\nApo\nPPI\nApo\nPPI\nApo\nPPI\nApo PPI\nApo\nPPI\nApo\nPPI\nApo\nPPI\nApo PPI\nApo PPI\nApo\nPPI\nApo\nApo\nPPI\nApo\nPPI\nApo\nPPI\nApo\nPPI\nApo\nPPI\nApo\nPPI\nApo\nPPI\nApo\nPPI\nApo\nPPI\nApo\nPPI\nApo\nPPI\nApo\nPPI\nApo\nPPI\nApo PPI\nApo PPI\nApo PPI\nApo PPI\nApo PPI\nApo PPI\nApo PPI\nApo PPI\nApo PPI\nApo PPI\nApo PPI\nApo PPI\nApo\nPPI\nApo PPI\nApo PPI\nApo PPI\nApo PPI\nApo PPI\nApo PPI\nApo PPI\nApo PPI\nApo PPI\nApo PPI\nApo PPI\nApo\nPPI\nApo PPI\nApo PPI\nApo PPI\nApo PPI\nApo PPI\nApo PPI\nApo PPI\nApo PPI\nApo PPI\nApo PPI\nApo PPI\nApo PPI\nApo PPI\nApo PPI\nApo PPI\nApo PPI\nApo PPI\nApo PPI\nApo PPI\nApo PPI\nApo PPI\nApo PPI\nApo PPI\nApo PPI\nApo PPI\nApo PPI\nApo PPI\nApo\nPPI\nApo PPI\nApo PPI\nApo PPI\nApo PPI\nApo\nPPI\nApo PPI\nApo PPI\nApo PPI\nApo PPI\nApo PPI\nApo PPI\nApo PPI\nApo\nPPI\nApo PPI\nApo PPI\nApo\nPPI\nApo PPI\nApo PPI\nApo\nPPI\nApo PPI\nApo PPI\nApo PPI\nApo PPI\nApo PPI\nApo PPI\nApo\nPPI\nApo PPI\nApo\nApo PPI\nApo PPI\nApo PPI\nApo\nPPI\nApo PPI\nApo PPI\nApo PPI\nApo PPI\nApo PPI\nApo PPI\nApo PPI\nApo\nPPI\nApo\nPPI\nApo\nPPI\nApo PPI\nApo PPI\nApo\nPPI\nApo PPI\nApo PPI\nApo PPI\nApo\nPPI\nApo PPI\nApo PPI\nApo PPI\nApo PPI\nApo PPI\nApo\nPPI\nApo\nPPI\nApo PPI\nApo PPI\nApo PPI\nApo PPI\nApo PPI\nApo\nPPI\nApo\nPPI\nApo\nPPI\nApo PPI\nApo PPI\nApo\nPPI\nApo\nPPI\nApo PPI\nApo\nApo PPI\nApo PPI\nApo PPI\nApo PPI\nApo PPI\nApo PPI\nApo PPI\nApo PPI\nApo PPI\nApo PPI\nApo PPI\nApo PPI\nApo PPI\nApo PPI\nApo PPI\nApo PPI\nApo PPI\nApo PPI\nApo PPI\nApo PPI\nApo PPI\nApo\nPPI\nApo\nPPI\nApo PPI\nApo PPI\nApo PPI\nApo PPI\nApo PPI\nApo PPI\nApo PPI\nApo\nPPI\nApo PPI\nApo PPI\nApo PPI\nApo\nPPI\nApo PPI\nApo PPI\nApo PPI\nApo PPI\nApo PPI\nApo PPI\nApo PPI\nApo PPI\nApo PPI\nApo PPI\nApo PPI\nApo\nPPI\n"
     ]
    }
   ],
   "source": [
    "for pockets in matched_pockets:\n",
    "    if len(pockets) == 2:\n",
    "        print(pockets[0].parent_structure.universe.tag,pockets[1].parent_structure.universe.tag)\n",
    "    else:\n",
    "        print(pockets[0].parent_structure.universe.tag,)"
   ]
  }
 ],
 "metadata": {
  "kernelspec": {
   "display_name": "Python 2",
   "language": "python",
   "name": "python2"
  },
  "language_info": {
   "codemirror_mode": {
    "name": "ipython",
    "version": 2
   },
   "file_extension": ".py",
   "mimetype": "text/x-python",
   "name": "python",
   "nbconvert_exporter": "python",
   "pygments_lexer": "ipython2",
   "version": "2.7.6"
  }
 },
 "nbformat": 4,
 "nbformat_minor": 0
}
