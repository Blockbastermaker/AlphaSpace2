{
 "cells": [
  {
   "cell_type": "code",
   "execution_count": 3,
   "outputs": [],
   "source": [
    "import mdtraj\n",
    "import numpy as np\n",
    "import os\n",
    "import alphaspace2 as al\n",
    "from alphaspace2.Community import genCommunityPocket\n",
    "import alphaspace2.Features as features\n"
   ],
   "metadata": {
    "collapsed": false,
    "pycharm": {
     "name": "#%%\n",
     "is_executing": false
    }
   }
  },
  {
   "cell_type": "markdown",
   "source": [
    "Applying community detection for full CDK2 surface"
   ],
   "metadata": {
    "collapsed": false,
    "pycharm": {
     "name": "#%% md\n"
    }
   }
  },
  {
   "cell_type": "code",
   "execution_count": 5,
   "outputs": [],
   "source": [
    "this_dir = os.path.abspath('')\n",
    "cdk2_prot = mdtraj.load(this_dir + '/DataSet/CDK2_Communities/cdk2_prot.pdb')\n",
    "al.annotateVinaAtomTypes(pdbqt=this_dir + \"/DataSet/CDK2_Communities/cdk2_prot.pdbqt\", receptor=cdk2_prot)"
   ],
   "metadata": {
    "collapsed": false,
    "pycharm": {
     "name": "#%%\n",
     "is_executing": false
    }
   }
  },
  {
   "cell_type": "code",
   "execution_count": 6,
   "outputs": [],
   "source": [
    "ss_cdk2 = al.Snapshot()\n",
    "ss_cdk2.run(cdk2_prot)"
   ],
   "metadata": {
    "collapsed": false,
    "pycharm": {
     "name": "#%%\n",
     "is_executing": false
    }
   }
  },
  {
   "cell_type": "code",
   "execution_count": 7,
   "outputs": [],
   "source": [
    "temp_space_dict = {}\n",
    "temp_coords_dict = {}\n",
    "temp_contact_dict = {}\n",
    "temp_score_dict = {}\n",
    "temp_centroids_dict = {}\n",
    "for px,pocket in enumerate(ss_cdk2.pockets):\n",
    "    temp_coords_dict[px] = [list(b.xyz) for b in pocket.betas]\n",
    "    temp_score_dict[px] = np.array([min(b.scores) for b in  pocket.betas])\n",
    "    temp_space_dict[px] = np.array([b.space for b in  pocket.betas])\n",
    "    temp_contact_dict[px] = list(pocket.lining_atoms_idx)\n",
    "    temp_centroids_dict[px] = pocket.centroid\n",
    "prot_coords = cdk2_prot.xyz[0]*10   ### change nm to Angstrom\n",
    "#generate communities\n",
    "surface_communities = genCommunityPocket(prot_coords, temp_centroids_dict, temp_space_dict,\n",
    "                                            temp_contact_dict, temp_score_dict,\n",
    "                                            corecut = 100, auxcut = 30, tight_option = True, tight_cutoff_core = 12.5, tight_cutoff_aux = 6.5)\n"
   ],
   "metadata": {
    "collapsed": false,
    "pycharm": {
     "name": "#%%\n",
     "is_executing": false
    }
   }
  },
  {
   "cell_type": "markdown",
   "source": [
    "Calculate more features of beta clusters community"
   ],
   "metadata": {
    "collapsed": false,
    "pycharm": {
     "name": "#%% md\n"
    }
   }
  },
  {
   "cell_type": "code",
   "execution_count": 10,
   "outputs": [],
   "source": [
    "surface_communities_props = {}\n",
    "for cx,community in surface_communities.items():\n",
    "    temp_coords_array = []\n",
    "    for pock in community['core_pockets'] + community['aux_pockets']:\n",
    "        temp_coords_array.extend(temp_coords_dict[pock])\n",
    "    temp_coords_array = np.array(temp_coords_array)\n",
    "    volume = features._get_grid_volume(temp_coords_array)\n",
    "    occluded_asa = features._get_pharmacophore_fingerprint(cdk2_prot,temp_coords_array)\n",
    "    surface_communities_props[cx] = {}\n",
    "    surface_communities_props[cx]['space'] = community['space']\n",
    "    surface_communities_props[cx]['score'] = community['score']\n",
    "    surface_communities_props[cx]['volume'] = volume\n",
    "    surface_communities_props[cx]['occluded_asa'] = occluded_asa['Total_OASA']    \n",
    "    "
   ],
   "metadata": {
    "collapsed": false,
    "pycharm": {
     "name": "#%%\n",
     "is_executing": false
    }
   }
  },
  {
   "cell_type": "code",
   "execution_count": 24,
   "outputs": [
    {
     "name": "stdout",
     "text": [
      "Community\tSpace\tScore\tVolume\tOccluded_ASA\n0\t\t1472.0\t-29.0\t690.0\t689.0\n1\t\t1199.0\t-19.0\t574.0\t740.0\n2\t\t889.0\t-16.0\t474.0\t563.0\n3\t\t885.0\t-20.0\t565.0\t609.0\n4\t\t659.0\t-14.0\t414.0\t538.0\n5\t\t647.0\t-16.0\t393.0\t418.0\n6\t\t457.0\t-10.0\t317.0\t424.0\n7\t\t406.0\t-10.0\t200.0\t277.0\n8\t\t351.0\t-5.0\t168.0\t214.0\n9\t\t335.0\t-7.0\t187.0\t254.0\n10\t\t285.0\t-6.0\t141.0\t228.0\n11\t\t283.0\t-7.0\t262.0\t289.0\n12\t\t260.0\t-7.0\t184.0\t254.0\n13\t\t173.0\t-6.0\t166.0\t168.0\n14\t\t131.0\t-4.0\t92.0\t105.0\n15\t\t111.0\t-2.0\t57.0\t113.0\n"
     ],
     "output_type": "stream"
    }
   ],
   "source": [
    "print(\"Community\\t{}\\t{}\\t{}\\t{}\".format('Space', 'Score', 'Volume', 'Occluded_ASA'))\n",
    "for cx,props in surface_communities_props.items():\n",
    "    print(\"{}\\t\\t{}\\t{}\\t{}\\t{}\".format(cx,round(props['space']),round(props['score']),round(props['volume']),round(props['occluded_asa'])))\n",
    "    "
   ],
   "metadata": {
    "collapsed": false,
    "pycharm": {
     "name": "#%%\n",
     "is_executing": false
    }
   }
  }
 ],
 "metadata": {
  "language_info": {
   "codemirror_mode": {
    "name": "ipython",
    "version": 2
   },
   "file_extension": ".py",
   "mimetype": "text/x-python",
   "name": "python",
   "nbconvert_exporter": "python",
   "pygments_lexer": "ipython2",
   "version": "2.7.6"
  },
  "kernelspec": {
   "name": "python3",
   "language": "python",
   "display_name": "Python 3"
  },
  "pycharm": {
   "stem_cell": {
    "cell_type": "raw",
    "source": [],
    "metadata": {
     "collapsed": false
    }
   }
  }
 },
 "nbformat": 4,
 "nbformat_minor": 0
}