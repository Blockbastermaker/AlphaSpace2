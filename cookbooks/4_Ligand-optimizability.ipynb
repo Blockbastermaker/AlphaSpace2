{
 "cells": [
  {
   "cell_type": "code",
   "execution_count": 1,
   "outputs": [],
   "source": [
    "import os\n",
    "import mdtraj\n",
    "import numpy as np\n",
    "import scipy\n",
    "from scipy.spatial.distance import cdist\n",
    "\n",
    "import alphaspace2 as al\n",
    "from alphaspace2.Community import genCommunityPocket\n",
    "import alphaspace2.Features as features\n"
   ],
   "metadata": {
    "collapsed": false,
    "pycharm": {
     "name": "#%%\n",
     "is_executing": false
    }
   }
  },
  {
   "cell_type": "markdown",
   "source": [
    "We apply the ensemble pocket approach to get the communities associated with \n",
    "fragment and their corresponding lead structures\n",
    "In the first part we look at the communities and core pockets of a bound fragment structure for HSP90\n",
    "In the second part, we look at the different metrics that show how lead structures have better complementarity to \n",
    "the binding site compared to their fragment counterparts"
   ],
   "metadata": {
    "collapsed": false,
    "pycharm": {
     "name": "#%% md\n"
    }
   }
  },
  {
   "cell_type": "code",
   "execution_count": 3,
   "outputs": [
    {
     "name": "stdout",
     "text": [
      "Redundant Atom types in pdbqt file found, trimming last {-1} entries\nRedundant Atom types in pdbqt file found, trimming last {-1} entries\nRedundant Atom types in pdbqt file found, trimming last {-1} entries\nRedundant Atom types in pdbqt file found, trimming last {-1} entries\nRedundant Atom types in pdbqt file found, trimming last {-1} entries\nRedundant Atom types in pdbqt file found, trimming last {-1} entries\n"
     ],
     "output_type": "stream"
    }
   ],
   "source": [
    "# Load 2wi2 and 2wi7 protein with pqbqt annotation\n",
    "this_dir = os.path.abspath('')\n",
    "\n",
    "hsp90_frag_prot = mdtraj.load(this_dir+\"/DataSet/Fragment_to_Lead/protein_2wi2.pdb\")\n",
    "al.annotateVinaAtomTypes(pdbqt=this_dir+\"/DataSet/Fragment_to_Lead/protein_2wi2.pdbqt\", receptor=hsp90_frag_prot)\n",
    "hsp90_lead_prot = mdtraj.load(this_dir+\"/DataSet/Fragment_to_Lead/protein_2wi7.pdb\")\n",
    "al.annotateVinaAtomTypes(pdbqt=this_dir+\"/DataSet/Fragment_to_Lead/protein_2wi7.pdbqt\", receptor=hsp90_lead_prot)"
   ],
   "metadata": {
    "collapsed": false,
    "pycharm": {
     "name": "#%%\n",
     "is_executing": false
    }
   }
  },
  {
   "cell_type": "code",
   "execution_count": 4,
   "outputs": [],
   "source": [
    "hsp90_frag_ss, hsp90_lead_ss = al.Snapshot(), al.Snapshot()\n",
    "hsp90_frag_ss.run(hsp90_frag_prot)\n",
    "hsp90_lead_ss.run(hsp90_lead_prot)\n",
    "\n",
    "frag_lead = al.Trajectory(snapshots=[hsp90_frag_ss,hsp90_lead_ss])\n",
    "frag_lead.gen_dpockets(clust_distance=4.7)"
   ],
   "metadata": {
    "collapsed": false,
    "pycharm": {
     "name": "#%%\n",
     "is_executing": false
    }
   }
  },
  {
   "cell_type": "code",
   "execution_count": 5,
   "outputs": [],
   "source": [
    "temp_space_dict = {'Frag':{},'Lead':{}}\n",
    "temp_coords_dict = {'Frag':{},'Lead':{}}\n",
    "temp_contact_dict = {'Frag':{},'Lead':{}}\n",
    "temp_score_dict = {'Frag':{},'Lead':{}}\n",
    "temp_centroids_dict = {'Frag':{},'Lead':{}}\n",
    "for dpx,dp in enumerate(frag_lead.dpockets):\n",
    "    pockets = list(dp.pockets)\n",
    "    if pockets[0].score != 0:\n",
    "        pock = pockets[0]\n",
    "        temp_coords_dict['Frag'][dpx] = [list(b.xyz) for b in pock.betas]\n",
    "        temp_score_dict['Frag'][dpx] = np.array([min(b.scores) for b in  pock.betas])\n",
    "        temp_space_dict['Frag'][dpx] = np.array([b.space for b in  pock.betas])\n",
    "        temp_contact_dict['Frag'][dpx] = list(pock.lining_atoms_idx)\n",
    "        temp_centroids_dict['Frag'][dpx] = pock.centroid\n",
    "    if pockets[1].score != 0:\n",
    "        pock = pockets[1]\n",
    "        temp_coords_dict['Lead'][dpx] = [list(b.xyz) for b in pock.betas]\n",
    "        temp_score_dict['Lead'][dpx] = np.array([min(b.scores) for b in  pock.betas])\n",
    "        temp_space_dict['Lead'][dpx] = np.array([b.space for b in  pock.betas])\n",
    "        temp_contact_dict['Lead'][dpx] = list(pock.lining_atoms_idx)\n",
    "        temp_centroids_dict['Lead'][dpx] = pock.centroid"
   ],
   "metadata": {
    "collapsed": false,
    "pycharm": {
     "name": "#%%\n",
     "is_executing": false
    }
   }
  },
  {
   "cell_type": "code",
   "execution_count": 6,
   "outputs": [],
   "source": [
    "prot_frag_coords = hsp90_frag_prot.xyz[0]*10\n",
    "frag_surface_communities = genCommunityPocket(prot_frag_coords, temp_centroids_dict['Frag'], temp_space_dict['Frag'],\n",
    "                                            temp_contact_dict['Frag'], temp_score_dict['Frag'],\n",
    "                                            corecut = 100, auxcut = 30, tight_option = True, tight_cutoff_core = 12.5, tight_cutoff_aux = 6.5)"
   ],
   "metadata": {
    "collapsed": false,
    "pycharm": {
     "name": "#%%\n",
     "is_executing": false
    }
   }
  },
  {
   "cell_type": "code",
   "execution_count": 10,
   "outputs": [],
   "source": [
    "### loading ligands ###\n",
    "ligand_frag = mdtraj.load(this_dir+'/DataSet/Fragment_to_Lead/ligand_frag_2wi2.pdb')\n",
    "ligand_lead = mdtraj.load(this_dir+'/DataSet/Fragment_to_Lead/ligand_lead_2wi7.pdb')\n"
   ],
   "metadata": {
    "collapsed": false,
    "pycharm": {
     "name": "#%%\n",
     "is_executing": false
    }
   }
  },
  {
   "cell_type": "markdown",
   "source": [
    "Here we get the list of communities that overlap with the fragment ligand.\n",
    "In this case, there is only one overlapping community which is the top-ranking community by space (which has index 0)\n"
   ],
   "metadata": {
    "collapsed": false,
    "pycharm": {
     "name": "#%% md\n"
    }
   }
  },
  {
   "cell_type": "code",
   "execution_count": 11,
   "outputs": [],
   "source": [
    "binding_communities = []\n",
    "for cx,community in frag_surface_communities.items():\n",
    "    temp_binding_community_coords = []\n",
    "    for pock in community['core_pockets'] + community['aux_pockets']:\n",
    "        temp_binding_community_coords.extend(temp_coords_dict['Frag'][pock])\n",
    "    dist=scipy.spatial.distance.cdist(temp_binding_community_coords,ligand_frag.xyz[0]*10)\n",
    "    bool_arr = np.any(dist<1.8,axis = 1)    \n",
    "    if np.any(bool_arr):\n",
    "        binding_communities.append(cx)"
   ],
   "metadata": {
    "collapsed": false,
    "pycharm": {
     "name": "#%%\n",
     "is_executing": false
    }
   }
  },
  {
   "cell_type": "code",
   "execution_count": 12,
   "outputs": [
    {
     "name": "stdout",
     "text": [
      "6 Score : -2.32597  %Optimized : -0.0  Space : 205.922  %Space Occupied : 0.0\n141 Score : -3.65936  %Optimized : 62.3867551245  Space : 203.603  %Space Occupied : 70.8409207583\n142 Score : -4.23478  %Optimized : 29.3207900479  Space : 145.998  %Space Occupied : 34.7143601581\n143 Score : -5.97796  %Optimized : 68.8680888007  Space : 446.136  %Space Occupied : 50.3513481142\n144 Score : -1.19871  %Optimized : -0.0  Space : 36.7621  %Space Occupied : 0.0\n146 Score : -2.38271  %Optimized : -0.0  Space : 99.9473  %Space Occupied : 0.0\n"
     ],
     "output_type": "stream"
    }
   ],
   "source": [
    "## get local ranking and properties of high-scoring pockets in the binding site community ##\n",
    "for cx in binding_communities:\n",
    "    community = frag_surface_communities[cx]\n",
    "    for pock in community['core_pockets'] + community['aux_pockets']:\n",
    "        pocket_coord = np.array(temp_coords_dict['Frag'][pock])\n",
    "        pocket_space = np.array(temp_space_dict['Frag'][pock])\n",
    "        pocket_score = np.array(temp_score_dict['Frag'][pock])\n",
    "        dist=scipy.spatial.distance.cdist(pocket_coord,ligand_frag.xyz[0]*10)\n",
    "        bool_arr = np.any(dist<1.8,axis = 1)    \n",
    "        optimized = 100*np.sum(pocket_score[bool_arr])/np.sum(pocket_score)\n",
    "        space_occupied = 100*np.sum(pocket_space[bool_arr])/np.sum(pocket_space)\n",
    "        print(pock,'Score : '+str(np.sum(pocket_score)), ' %Optimized : ' + str(optimized),\n",
    "              ' Space : ' + str(np.sum(pocket_space)), ' %Space Occupied : ' + str(space_occupied))"
   ],
   "metadata": {
    "collapsed": false,
    "pycharm": {
     "name": "#%%\n",
     "is_executing": false
    }
   }
  },
  {
   "cell_type": "markdown",
   "source": [
    "We see that pocket 143, 142, and 141 are the top 3 ranking pockets and are also the most optimized/occupied\n",
    "Pocket 6 and 146 are not occupied by the fragment and would be a good starting point for ligand optimization\n"
   ],
   "metadata": {
    "collapsed": false,
    "pycharm": {
     "name": "#%% md\n"
    }
   }
  },
  {
   "cell_type": "markdown",
   "source": [
    "In this section we take a look at pocket/ligand metrics to evaluate the complementarity between the pocket and ligands \n",
    "in the lead structure\n"
   ],
   "metadata": {
    "collapsed": false,
    "pycharm": {
     "name": "#%% md\n"
    }
   }
  },
  {
   "cell_type": "code",
   "execution_count": 13,
   "outputs": [],
   "source": [
    "prot_lead_coords = hsp90_lead_prot.xyz[0]*10\n",
    "lead_surface_communities = genCommunityPocket(prot_lead_coords, temp_centroids_dict['Lead'], temp_space_dict['Lead'],\n",
    "                                            temp_contact_dict['Lead'], temp_score_dict['Lead'],\n",
    "                                            corecut = 100, auxcut = 30, tight_option = True, tight_cutoff_core = 12.5, tight_cutoff_aux = 6.5)"
   ],
   "metadata": {
    "collapsed": false,
    "pycharm": {
     "name": "#%%\n",
     "is_executing": false
    }
   }
  },
  {
   "cell_type": "code",
   "execution_count": 14,
   "outputs": [],
   "source": [
    "binding_communities = []\n",
    "for cx,community in lead_surface_communities.items():\n",
    "    temp_binding_community_coords = []\n",
    "    for pock in community['core_pockets'] + community['aux_pockets']:\n",
    "        temp_binding_community_coords.extend(temp_coords_dict['Lead'][pock])\n",
    "    dist=scipy.spatial.distance.cdist(temp_binding_community_coords,ligand_lead.xyz[0]*10)\n",
    "    bool_arr = np.any(dist<1.8,axis = 1)    \n",
    "    if np.any(bool_arr):\n",
    "        binding_communities.append(cx)"
   ],
   "metadata": {
    "collapsed": false,
    "pycharm": {
     "name": "#%%\n",
     "is_executing": false
    }
   }
  },
  {
   "cell_type": "markdown",
   "source": [
    "## Like in the fragment structure, the highest ranking community is also the only detected\n",
    "## binding site for the lead molecule ie community index 0\n"
   ],
   "metadata": {
    "collapsed": false,
    "pycharm": {
     "name": "#%% md\n",
     "is_executing": false
    }
   }
  },
  {
   "cell_type": "code",
   "execution_count": 16,
   "outputs": [
    {
     "data": {
      "text/plain": "[0]"
     },
     "metadata": {},
     "output_type": "execute_result",
     "execution_count": 16
    }
   ],
   "source": [
    "binding_communities"
   ],
   "metadata": {
    "collapsed": false,
    "pycharm": {
     "name": "#%%\n",
     "is_executing": false
    }
   }
  },
  {
   "cell_type": "code",
   "execution_count": 18,
   "outputs": [],
   "source": [
    "pock_set = set()\n",
    "for cx in binding_communities:\n",
    "    for pock in lead_surface_communities[cx]['core_pockets'] + lead_surface_communities[cx]['aux_pockets']:\n",
    "        pock_set.add(pock)"
   ],
   "metadata": {
    "collapsed": false,
    "pycharm": {
     "name": "#%%\n",
     "is_executing": false
    }
   }
  },
  {
   "cell_type": "code",
   "execution_count": 19,
   "outputs": [],
   "source": [
    "lead_binding_community_coords = []\n",
    "lead_binding_community_space = []\n",
    "lead_binding_community_score = []\n",
    "for pock in pock_set:\n",
    "    lead_binding_community_coords.extend(temp_coords_dict['Lead'][pock])\n",
    "    lead_binding_community_space.extend(temp_space_dict['Lead'][pock])\n",
    "    lead_binding_community_score.extend(temp_score_dict['Lead'][pock])\n",
    "lead_binding_community_coords = np.array(lead_binding_community_coords)\n",
    "lead_binding_community_space = np.array(lead_binding_community_space)\n",
    "lead_binding_community_score = np.array(lead_binding_community_score)"
   ],
   "metadata": {
    "collapsed": false,
    "pycharm": {
     "name": "#%%\n",
     "is_executing": false
    }
   }
  },
  {
   "cell_type": "code",
   "execution_count": 20,
   "outputs": [],
   "source": [
    "bool_arr = np.any(dist<=1.6,axis = 1)"
   ],
   "metadata": {
    "collapsed": false,
    "pycharm": {
     "name": "#%%\n",
     "is_executing": false
    }
   }
  },
  {
   "cell_type": "markdown",
   "source": [
    "Here we measure the complimentarity of the lead vs the fragment ligand using %Optimized, %space occupied, and %volume overlap"
   ],
   "metadata": {
    "collapsed": false,
    "pycharm": {
     "name": "#%% md\n"
    }
   }
  },
  {
   "cell_type": "code",
   "execution_count": 28,
   "outputs": [
    {
     "name": "stdout",
     "text": [
      "       %Optimized %Space_Occupied %Overlap_Volume\nFrag     11.96     16.19          10.55\nLead     35.52     49.19          28.08\n"
     ],
     "output_type": "stream"
    }
   ],
   "source": [
    "\n",
    "print(\"       {} {} {}\".format('%Optimized', '%Space_Occupied', '%Overlap_Volume'))\n",
    "\n",
    "for lx,lig_coords in [('Frag',ligand_frag.xyz[0]*10),('Lead',ligand_lead.xyz[0]*10)]:\n",
    "    dist = scipy.spatial.distance.cdist(lead_binding_community_coords,lig_coords)\n",
    "    bool_arr = np.any(dist<=1.6,axis = 1)\n",
    "    optimized = round(100*np.sum(lead_binding_community_score[bool_arr])/np.sum(lead_binding_community_score),2)\n",
    "    space_occupied = round(100*np.sum(lead_binding_community_space[bool_arr])/np.sum(lead_binding_community_space),2)\n",
    "    overlap_volume = features._get_overlap_volume(lead_binding_community_coords,lig_coords)\n",
    "    total_volume = features._get_grid_volume(lead_binding_community_coords)\n",
    "    overlap = round(100*overlap_volume/total_volume,2)\n",
    "    \n",
    "    print(\"{}     {}     {}          {}\".format(lx, optimized,space_occupied, overlap))\n",
    "    "
   ],
   "metadata": {
    "collapsed": false,
    "pycharm": {
     "name": "#%%\n",
     "is_executing": false
    }
   }
  },
  {
   "cell_type": "markdown",
   "source": [
    "the Lead structure improves the various metrics in the Lead binding site community\n",
    "compared to the Fragment Structure by >2X. Maximizing these metrics by more elaborated lead structures\n",
    "can be used to guide the design of more potent inhibitors"
   ],
   "metadata": {
    "collapsed": false,
    "pycharm": {
     "name": "#%% md\n"
    }
   }
  }
 ],
 "metadata": {
  "language_info": {
   "codemirror_mode": {
    "name": "ipython",
    "version": 2
   },
   "file_extension": ".py",
   "mimetype": "text/x-python",
   "name": "python",
   "nbconvert_exporter": "python",
   "pygments_lexer": "ipython2",
   "version": "2.7.6"
  },
  "kernelspec": {
   "name": "python3",
   "language": "python",
   "display_name": "Python 3"
  },
  "pycharm": {
   "stem_cell": {
    "cell_type": "raw",
    "source": [],
    "metadata": {
     "collapsed": false
    }
   }
  }
 },
 "nbformat": 4,
 "nbformat_minor": 0
}