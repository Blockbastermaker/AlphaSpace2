{
 "cells": [
  {
   "cell_type": "code",
   "execution_count": 1,
   "metadata": {
    "pycharm": {
     "is_executing": false
    }
   },
   "outputs": [],
   "source": [
    "import os\n",
    "from collections import defaultdict\n",
    "import matplotlib.pyplot as plt\n",
    "import mdtraj\n",
    "import numpy as np\n",
    "\n",
    "import alphaspace2 as al\n",
    "import alphaspace2.Features as features  ## python module with pseudomolecular features"
   ]
  },
  {
   "cell_type": "markdown",
   "source": [
    "This tutorial shows how to apply pocket features to compare the pocket/ligand similarities, here we selected 10 HIV-protease\n",
    "inhibitors from our database"
   ],
   "metadata": {
    "collapsed": false
   }
  },
  {
   "cell_type": "code",
   "execution_count": 2,
   "metadata": {
    "pycharm": {
     "is_executing": false
    }
   },
   "outputs": [],
   "source": [
    "protease_list = ['1c70','1hvi','1hvj','1izh','1pro','1siv','2i0a','2psv','2q5k','3lzu']"
   ]
  },
  {
   "cell_type": "markdown",
   "source": [
    "calculating pockets for pro teases, pka, and estrogen receptor"
   ],
   "metadata": {
    "collapsed": false,
    "pycharm": {
     "name": "#%% md\n"
    }
   }
  },
  {
   "cell_type": "code",
   "execution_count": 3,
   "metadata": {
    "pycharm": {
     "is_executing": false
    }
   },
   "outputs": [],
   "source": [
    "this_dir = os.path.abspath('')\n",
    "\n",
    "protease_data_lig = {}\n",
    "protease_data_ss = {}\n",
    "protease_data_prot = {}\n",
    "for pdb_id in protease_list:\n",
    "    prot = mdtraj.load(this_dir+'/DataSet/Beta_Cluster_features/protein_' + pdb_id + '.pdb')\n",
    "    protease_data_prot[pdb_id] = prot\n",
    "    lig = mdtraj.load(this_dir+'/DataSet/Beta_Cluster_features/ligand_' + pdb_id + '.pdb')\n",
    "    protease_data_lig[pdb_id] = lig\n",
    "    ss_prot = al.Snapshot()\n",
    "    ss_prot.run(prot, lig)\n",
    "    protease_data_ss[pdb_id] = ss_prot"
   ]
  },
  {
   "cell_type": "markdown",
   "source": [
    "use usr features as an example\n"
   ],
   "metadata": {
    "collapsed": false,
    "pycharm": {
     "name": "#%% md\n"
    }
   }
  },
  {
   "cell_type": "code",
   "execution_count": 4,
   "metadata": {
    "pycharm": {
     "is_executing": false
    }
   },
   "outputs": [],
   "source": [
    "protease_contact_pockets = defaultdict(dict)\n",
    "for pdb_id in protease_data_ss:\n",
    "    for px,pocket in enumerate(protease_data_ss[pdb_id].pockets):\n",
    "        if pocket.isContact:\n",
    "            protease_contact_pockets[pdb_id][px] = np.array([b.xyz for b in pocket.betas])"
   ]
  },
  {
   "cell_type": "markdown",
   "source": [
    "Calculate Occluded ASA, USR, Normalized PMI, span and radius of gyration by calling the followinbg functions"
   ],
   "metadata": {
    "collapsed": false,
    "pycharm": {
     "name": "#%% md\n"
    }
   }
  },
  {
   "cell_type": "code",
   "execution_count": 5,
   "outputs": [],
   "source": [
    "protease_pocket_props_dict = {}\n",
    "for pdb_id in protease_contact_pockets:\n",
    "    contact_betas = []\n",
    "    prot = protease_data_prot[pdb_id]\n",
    "    for px in protease_contact_pockets[pdb_id]:\n",
    "        contact_betas.extend(protease_contact_pockets[pdb_id][px])\n",
    "    contact_betas = np.array(contact_betas)  \n",
    "    protease_pocket_props_dict[pdb_id] = {\n",
    "        'occluded_asa' : features._get_pharmacophore_fingerprint(prot,contact_betas),\n",
    "        'usr' : features._Get_USR_alpha_beta(contact_betas),\n",
    "        'normalized_PMI' : features._calculate_NormalizedRatioPMI(contact_betas),\n",
    "        'span' : features._calculate_SPAN(contact_betas),\n",
    "        'radius_of_gyration' : features._calculate_RadiusofGyration(contact_betas), \n",
    "        \n",
    "    }     "
   ],
   "metadata": {
    "collapsed": false,
    "pycharm": {
     "name": "#%%      \n",
     "is_executing": false
    }
   }
  },
  {
   "cell_type": "code",
   "execution_count": 6,
   "metadata": {
    "pycharm": {
     "is_executing": false
    }
   },
   "outputs": [],
   "source": [
    "### repeat calculation for ligands ###\n",
    "protease_ligand_props_dict = {}\n",
    "for pdb_id in protease_data_prot:\n",
    "    lig = protease_data_lig[pdb_id]\n",
    "    prot = protease_data_prot[pdb_id]\n",
    "    lig_coords = lig.xyz[0]*10   ### multiply by 10 to convert nm to Angstrom  \n",
    "    protease_ligand_props_dict[pdb_id] = {\n",
    "        'occluded_asa': features._get_pharmacophore_fingerprint(prot,lig_coords),\n",
    "        'usr': features._Get_USR_alpha_beta(lig_coords),\n",
    "        'normalized_PMI': features._calculate_NormalizedRatioPMI(lig_coords),\n",
    "        'span':features._calculate_SPAN(lig_coords),\n",
    "        'radius_of_gyration': features._calculate_RadiusofGyration(lig_coords)  \n",
    "        \n",
    "    }         "
   ]
  },
  {
   "cell_type": "code",
   "execution_count": 17,
   "metadata": {
    "pycharm": {
     "is_executing": false
    }
   },
   "outputs": [
    {
     "name": "stdout",
     "text": [
      "PDB_ID   PocketSpan      LigandSpan\n1c70 \t 9.836   \t 7.644\n1hvi \t 12.357   \t 9.667\n1hvj \t 12.107   \t 9.898\n1izh \t 10.926   \t 8.833\n1pro \t 11.557   \t 7.44\n1siv \t 10.41   \t 10.339\n2i0a \t 10.949   \t 10.784\n2psv \t 10.012   \t 8.257\n2q5k \t 12.12   \t 8.934\n3lzu \t 8.951   \t 8.506\n"
     ],
     "output_type": "stream"
    },
    {
     "data": {
      "text/plain": "<matplotlib.figure.Figure at 0x7fec20861550>",
      "image/png": "[encoded data removed]"
     },
     "metadata": {},
     "output_type": "display_data"
    }
   ],
   "source": [
    "### can compare different features ###\n",
    "\n",
    "print(\"PDB_ID   PocketSpan      LigandSpan\")\n",
    "for pdb_id in protease_list:\n",
    "    print(pdb_id, '\\t' , round(protease_pocket_props_dict[pdb_id]['span'],3),'  \\t', round(protease_ligand_props_dict[pdb_id]['span'],3))\n",
    "    \n",
    "pocket_span = [protease_pocket_props_dict[pdb_id]['span'] for pdb_id in protease_list]\n",
    "ligand_span = [protease_ligand_props_dict[pdb_id]['span'] for pdb_id in protease_list]\n",
    "\n",
    "plt.scatter(pocket_span,ligand_span,)\n",
    "plt.xlabel('Pocket Span')\n",
    "plt.ylabel('Ligand Span')\n",
    "plt.xlim(1,15)\n",
    "plt.ylim(1,15)\n",
    "plt.show()\n",
    "    \n",
    "    "
   ]
  },
  {
   "cell_type": "code",
   "execution_count": 18,
   "metadata": {
    "pycharm": {
     "is_executing": false
    }
   },
   "outputs": [
    {
     "name": "stdout",
     "text": [
      "PDB_ID   PocketRoG      LigandRoG\n1c70 39.58 37.095\n1hvi 59.994 46.608\n1hvj 57.402 46.324\n1izh 50.292 40.43\n1pro 38.271 31.486\n1siv 44.089 38.497\n2i0a 44.869 38.951\n2psv 36.763 25.815\n2q5k 50.799 36.354\n3lzu 35.415 29.268\n"
     ],
     "output_type": "stream"
    },
    {
     "data": {
      "text/plain": "<matplotlib.figure.Figure at 0x7fec2084eb70>",
      "image/png": "[encoded data removed]"
     },
     "metadata": {},
     "output_type": "display_data"
    }
   ],
   "source": [
    "print(\"PDB_ID   PocketRoG      LigandRoG\")\n",
    "for pdb_id in protease_list:\n",
    "    print(pdb_id, round(protease_pocket_props_dict[pdb_id]['radius_of_gyration'],3), round(protease_ligand_props_dict[pdb_id]['radius_of_gyration'],3))\n",
    "pocket_rog = [protease_pocket_props_dict[pdb_id]['radius_of_gyration'] for pdb_id in protease_list]\n",
    "ligand_rog = [protease_ligand_props_dict[pdb_id]['radius_of_gyration'] for pdb_id in protease_list]\n",
    "\n",
    "plt.scatter(pocket_rog,ligand_rog,)\n",
    "plt.xlabel('Pocket Radius of Gyration')\n",
    "plt.ylabel('Ligand Radius of Gyration')\n",
    "plt.show()\n",
    "    \n"
   ]
  },
  {
   "cell_type": "code",
   "execution_count": 19,
   "metadata": {
    "pycharm": {
     "is_executing": false,
     "name": "#%%\n"
    }
   },
   "outputs": [
    {
     "name": "stdout",
     "text": [
      "PDB_ID   OASA_Sim   USR_Sim\n1c70 0.909 0.816\n1hvi 0.767 0.804\n1hvj 0.822 0.866\n1izh 0.802 0.795\n1pro 0.892 0.771\n1siv 0.815 0.891\n2i0a 0.76 0.922\n2psv 0.86 0.761\n2q5k 0.741 0.796\n3lzu 0.804 0.832\n"
     ],
     "output_type": "stream"
    }
   ],
   "source": [
    "### get similarity of occluded surface area and USR features ###\n",
    "print(\"PDB_ID   OASA_Sim   USR_Sim\")\n",
    "for pdb_id in protease_list:\n",
    "    oasa_pocket = [s for _,s in protease_pocket_props_dict[pdb_id]['occluded_asa'].items()]\n",
    "    oasa_ligand = [s for _,s in protease_ligand_props_dict[pdb_id]['occluded_asa'].items()]\n",
    "    oasa_similarity = 1 - features._soergel(oasa_pocket,oasa_ligand)\n",
    "    usr_similarity = 1 - features._soergel(protease_pocket_props_dict[pdb_id]['usr'],protease_ligand_props_dict[pdb_id]['usr'])\n",
    "    print(pdb_id, round(oasa_similarity,3),round(usr_similarity,3))\n",
    "\n"
   ]
  }
 ],
 "metadata": {
  "kernelspec": {
   "display_name": "Python 3",
   "language": "python",
   "name": "python3"
  },
  "language_info": {
   "codemirror_mode": {
    "name": "ipython",
    "version": 3
   },
   "file_extension": ".py",
   "mimetype": "text/x-python",
   "name": "python",
   "nbconvert_exporter": "python",
   "pygments_lexer": "ipython3",
   "version": "3.6.7"
  },
  "pycharm": {
   "stem_cell": {
    "cell_type": "raw",
    "source": [],
    "metadata": {
     "collapsed": false
    }
   }
  }
 },
 "nbformat": 4,
 "nbformat_minor": 2
}