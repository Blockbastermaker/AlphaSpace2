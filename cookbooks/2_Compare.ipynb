{
 "cells": [
  {
   "cell_type": "markdown",
   "metadata": {},
   "source": [
    "This tutorial will show you how to perform ensemble pocket matching between two proteins."
   ]
  },
  {
   "cell_type": "code",
   "execution_count": 1,
   "metadata": {
    "pycharm": {
     "is_executing": false
    }
   },
   "outputs": [],
   "source": [
    "import mdtraj\n",
    "import numpy as np\n",
    "import alphaspace2 as al"
   ]
  },
  {
   "cell_type": "markdown",
   "metadata": {},
   "source": [
    "For convenience, we pre aligned the Bcl-2 (PDB ID: 2XA0) and Bcl-xL (PDB ID: 3PL7) structures and prepared .pdbqt files for the protein part."
   ]
  },
  {
   "cell_type": "code",
   "execution_count": 4,
   "outputs": [],
   "source": [
    "bcl2_prot, bcl2_lig = mdtraj.load('Example_proteins/Bcl2_BAX/prot.pdb'),mdtraj.load('Example_proteins/Bcl2_BAX/lig.pdb')\n",
    "bclxl_prot, bclxl_lig = mdtraj.load('Example_proteins/BclXL_BAX/prot.pdb'),mdtraj.load('Example_proteins/BclXL_BAX/lig.pdb')\n",
    "al.annotateVinaAtomTypes(pdbqt=\"Example_proteins/Bcl2_BAX/prot.pdbqt\", receptor=bcl2_prot)\n",
    "al.annotateVinaAtomTypes(pdbqt=\"Example_proteins/BclXL_BAX/prot.pdbqt\", receptor=bclxl_prot)"
   ],
   "metadata": {
    "collapsed": false,
    "pycharm": {
     "name": "#%%\n",
     "is_executing": false
    }
   }
  },
  {
   "cell_type": "code",
   "execution_count": 5,
   "outputs": [],
   "source": [
    "ss_bcl2 = al.Snapshot()\n",
    "ss_bcl2.run(bcl2_prot, bcl2_lig)\n",
    "ss_bclxl = al.Snapshot()\n",
    "ss_bclxl.run(bclxl_prot, bclxl_lig)\n"
   ],
   "metadata": {
    "collapsed": false,
    "pycharm": {
     "name": "#%%\n",
     "is_executing": false
    }
   }
  },
  {
   "cell_type": "code",
   "execution_count": 11,
   "outputs": [
    {
     "name": "stdout",
     "text": [
      "dpindex   dp 1 score \t dp 2 score\n0 \t -5.36221 \t -5.85937\n2 \t -2.92216 \t -5.56242\n3 \t -5.44176 \t -2.35957\n8 \t -6.21846 \t 0\n10 \t -4.61358 \t -1.33412\n11 \t -4.69066 \t -1.16455\n29 \t -2.22722 \t -1.47425\n42 \t -1.47566 \t -1.42387\n43 \t -1.09942 \t -1.78696\n54 \t -1.28934 \t -0.976428\n56 \t -1.22297 \t -0.943039\n59 \t 0 \t -2.10167\n60 \t 0 \t -2.06812\n85 \t -0.629927 \t -0.737148\n89 \t 0 \t -1.22415\n96 \t -0.375574 \t -0.638932\n106 \t -0.69141 \t 0\n123 \t 0 \t -0.394766\n125 \t -0.360147 \t 0\n"
     ],
     "output_type": "stream"
    }
   ],
   "source": [
    "# Combine two snapshots into a trajectory object\n",
    "bcl2_bclxl = al.Trajectory(snapshots=[ss_bcl2,ss_bclxl])\n",
    "# call generate dpocket function to cluster the pockets into d pocket\n",
    "bcl2_bclxl.gen_dpockets(clust_distance=4.7)\n",
    "\n",
    "centroid_pockets_to_write=[[],[]]\n",
    "betas_pockets_to_write = [[],[]]\n",
    "\n",
    "contact_pockets = []\n",
    "\n",
    "#Sort dpockets by scores\n",
    "dps = sorted([dp for dp in bcl2_bclxl.dpockets],key=lambda i:sum(i.scores))\n",
    "\n",
    "print('dpindex',' ','dp 1 score',\"\\t\",'dp 2 score')\n",
    "for dp_idx,dp in enumerate(dps):\n",
    "    pockets = list(dp.pockets)\n",
    "    if pockets[0].isContact or pockets[1].isContact:\n",
    "        contact_pockets.append(dp_idx)\n",
    "        print(dp_idx,\"\\t\",pockets[0].score,\"\\t\",pockets[1].score)\n",
    "        if pockets[0].score!=0:\n",
    "            centroid_pockets_to_write[0].append((dp_idx,pockets[0].centroid))\n",
    "            betas_pockets_to_write[0].append((dp_idx,[b.xyz for b in pockets[0].betas]))\n",
    "        if pockets[1].score!=0:\n",
    "            centroid_pockets_to_write[1].append((dp_idx,pockets[1].centroid))\n",
    "            betas_pockets_to_write[1].append((dp_idx,[b.xyz for b in pockets[1].betas]))\n",
    "\n",
    "\n"
   ],
   "metadata": {
    "collapsed": false,
    "pycharm": {
     "name": "#%%\n",
     "is_executing": false
    }
   }
  }
 ],
 "metadata": {
  "kernelspec": {
   "display_name": "Python 3",
   "language": "python",
   "name": "python3"
  },
  "language_info": {
   "codemirror_mode": {
    "name": "ipython",
    "version": 3
   },
   "file_extension": ".py",
   "mimetype": "text/x-python",
   "name": "python",
   "nbconvert_exporter": "python",
   "pygments_lexer": "ipython3",
   "version": "3.6.8"
  },
  "pycharm": {
   "stem_cell": {
    "cell_type": "raw",
    "source": [],
    "metadata": {
     "collapsed": false
    }
   }
  }
 },
 "nbformat": 4,
 "nbformat_minor": 1
}